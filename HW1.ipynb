{
 "cells": [
  {
   "cell_type": "markdown",
   "metadata": {},
   "source": [
    "Студент Жилкин Федор, 344\n",
    "# Домашняя работа 1\n",
    "## Задание 10.4 (а, б, в) "
   ]
  },
  {
   "cell_type": "markdown",
   "metadata": {},
   "source": [
    "Решение:"
   ]
  },
  {
   "cell_type": "markdown",
   "metadata": {},
   "source": [
    "### А)\n",
    "Решить систему: $ Ax = b, $ где  $ A =  \n",
    "\\begin{pmatrix}\n",
    "-401.00 & 200.00 \\\\\n",
    "1200.00 & -601.00\n",
    "\\end{pmatrix}\n",
    ", b = \n",
    "\\begin{pmatrix}\n",
    "  200 \\\\\n",
    " -600\n",
    "\\end{pmatrix}\n",
    "$\n",
    "\n",
    "\n"
   ]
  },
  {
   "cell_type": "code",
   "execution_count": 1,
   "metadata": {},
   "outputs": [],
   "source": [
    "import numpy as np"
   ]
  },
  {
   "cell_type": "code",
   "execution_count": 2,
   "metadata": {},
   "outputs": [],
   "source": [
    " # Матрица A:\n",
    "A = np.array([[-401.00, 200.00], [1200.00, -601.00]])"
   ]
  },
  {
   "cell_type": "code",
   "execution_count": 3,
   "metadata": {},
   "outputs": [],
   "source": [
    "# Матрица b:\n",
    "b = np.array([200., -600.])"
   ]
  },
  {
   "cell_type": "markdown",
   "metadata": {},
   "source": [
    "Результаты библиотечного метода:"
   ]
  },
  {
   "cell_type": "code",
   "execution_count": 4,
   "metadata": {},
   "outputs": [
    {
     "data": {
      "text/plain": [
       "array([-0.1998002,  0.5994006])"
      ]
     },
     "execution_count": 4,
     "metadata": {},
     "output_type": "execute_result"
    }
   ],
   "source": [
    "x = np.linalg.solve(A, b)\n",
    "x"
   ]
  },
  {
   "cell_type": "markdown",
   "metadata": {},
   "source": [
    "Свои результаты:"
   ]
  },
  {
   "cell_type": "code",
   "execution_count": 6,
   "metadata": {},
   "outputs": [
    {
     "data": {
      "text/plain": [
       "[-0.1998, 0.5994]"
      ]
     },
     "execution_count": 6,
     "metadata": {},
     "output_type": "execute_result"
    }
   ],
   "source": [
    "solve(A, b)"
   ]
  },
  {
   "cell_type": "markdown",
   "metadata": {},
   "source": [
    "Кастомный метод (метод подстановки) :"
   ]
  },
  {
   "cell_type": "code",
   "execution_count": 5,
   "metadata": {},
   "outputs": [],
   "source": [
    "def solve(a, b):\n",
    "    # Определим коэффициенты\n",
    "    a11 = a[0][0]\n",
    "    a12 = a[0][1]\n",
    "    a21 = a[1][0]\n",
    "    a22 = a[1][1]\n",
    "    b1 = b[0]\n",
    "    b2 = b[1]\n",
    "    # Вычислим неизвестные\n",
    "    y = round((b2 - (a21 * b1) / a11) / (a22 - ((a21 * a12) / a11)), 4)\n",
    "    x = round((b1 - a12 * y) / a11, 4)\n",
    "    return [x, y]"
   ]
  },
  {
   "cell_type": "markdown",
   "metadata": {},
   "source": [
    "### Б)\n",
    "Измененная матрица:\n",
    "$b = \n",
    "\\begin{pmatrix}\n",
    "  199 \\\\\n",
    " -601\n",
    "\\end{pmatrix}\n",
    "$"
   ]
  },
  {
   "cell_type": "code",
   "execution_count": 7,
   "metadata": {},
   "outputs": [],
   "source": [
    "# Новая матрица b:\n",
    "b_ = np.array([199., -601.])"
   ]
  },
  {
   "cell_type": "markdown",
   "metadata": {},
   "source": [
    "Результаты библиотечного метода:"
   ]
  },
  {
   "cell_type": "code",
   "execution_count": 8,
   "metadata": {},
   "outputs": [
    {
     "data": {
      "text/plain": [
       "array([0.6003996, 2.1988012])"
      ]
     },
     "execution_count": 8,
     "metadata": {},
     "output_type": "execute_result"
    }
   ],
   "source": [
    "new_x = np.linalg.solve(A, b_)\n",
    "new_x"
   ]
  },
  {
   "cell_type": "markdown",
   "metadata": {},
   "source": [
    "Свои результаты:"
   ]
  },
  {
   "cell_type": "code",
   "execution_count": 9,
   "metadata": {},
   "outputs": [
    {
     "data": {
      "text/plain": [
       "[0.6004, 2.1988]"
      ]
     },
     "execution_count": 9,
     "metadata": {},
     "output_type": "execute_result"
    }
   ],
   "source": [
    "solve(A, b_)"
   ]
  },
  {
   "cell_type": "markdown",
   "metadata": {},
   "source": [
    "### В) \n",
    "Найти число обусловленности $cond(A)$, фактическую относительную погрешность $\\frac{\\| \\overline{x} - x \\|} {\\|x\\|}$ и оценку для этой погрешности:"
   ]
  },
  {
   "cell_type": "code",
   "execution_count": 10,
   "metadata": {},
   "outputs": [],
   "source": [
    "cond = np.linalg.cond(A, np.inf)\n",
    "error = (np.linalg.norm(x - new_x, ord = np.inf)) / (np.linalg.norm(x, ord = np.inf))"
   ]
  },
  {
   "cell_type": "markdown",
   "metadata": {},
   "source": [
    "Результаты библиотечных методов:"
   ]
  },
  {
   "cell_type": "code",
   "execution_count": 11,
   "metadata": {},
   "outputs": [
    {
     "data": {
      "text/plain": [
       "(2880.520479520478, 2.6683333333333317)"
      ]
     },
     "execution_count": 11,
     "metadata": {},
     "output_type": "execute_result"
    }
   ],
   "source": [
    "cond, error"
   ]
  },
  {
   "cell_type": "markdown",
   "metadata": {},
   "source": [
    "Свои результаты:"
   ]
  },
  {
   "cell_type": "code",
   "execution_count": 13,
   "metadata": {},
   "outputs": [
    {
     "data": {
      "text/plain": [
       "(2880.520479520478, 2.6683333333333317)"
      ]
     },
     "execution_count": 13,
     "metadata": {},
     "output_type": "execute_result"
    }
   ],
   "source": [
    "norm(np.linalg.inv(A)) * norm(A), norm((x - new_x).tolist()) / norm(x.tolist())"
   ]
  },
  {
   "cell_type": "markdown",
   "metadata": {},
   "source": [
    "Кастомный метод нахождения нормы $(ord = \\infty)$ :"
   ]
  },
  {
   "cell_type": "code",
   "execution_count": 12,
   "metadata": {},
   "outputs": [],
   "source": [
    "def norm(a):\n",
    "    max_ = 0\n",
    "    if type(a) == np.ndarray:     \n",
    "        for arr in a:\n",
    "            x = 0\n",
    "            for elem in arr:\n",
    "                x += abs(elem)\n",
    "            if x > max_:\n",
    "                max_ = x\n",
    "    else:\n",
    "        for elem in a:\n",
    "            if abs(elem) > max_:\n",
    "                max_ = abs(elem)\n",
    "    return max_        "
   ]
  },
  {
   "cell_type": "markdown",
   "metadata": {},
   "source": [
    "Оценим погрешность:"
   ]
  },
  {
   "cell_type": "code",
   "execution_count": 14,
   "metadata": {},
   "outputs": [],
   "source": [
    "def inacc(cond, delta_A, delta_b, delta_X, A, b):\n",
    "    return (cond / (1 - cond * (np.linalg.norm(delta_A, ord = np.inf) / \n",
    "                                np.linalg.norm(A, ord = np.inf)))) * (\n",
    "    np.linalg.norm(delta_b, ord = np.inf) / np.linalg.norm(b, ord = np.inf) +\n",
    "    np.linalg.norm(delta_A, ord = np.inf) / np.linalg.norm(A, ord = np.inf))\n"
   ]
  },
  {
   "cell_type": "code",
   "execution_count": 15,
   "metadata": {},
   "outputs": [
    {
     "data": {
      "text/plain": [
       "4.800867465867464"
      ]
     },
     "execution_count": 15,
     "metadata": {},
     "output_type": "execute_result"
    }
   ],
   "source": [
    "inacc(cond, A - A, b - b_, x - new_x, A, b)"
   ]
  },
  {
   "cell_type": "code",
   "execution_count": 16,
   "metadata": {},
   "outputs": [
    {
     "data": {
      "text/plain": [
       "2.6683333333333317"
      ]
     },
     "execution_count": 16,
     "metadata": {},
     "output_type": "execute_result"
    }
   ],
   "source": [
    "np.linalg.norm(x - new_x, ord = np.inf) / np.linalg.norm(x, ord = np.inf)"
   ]
  },
  {
   "cell_type": "markdown",
   "metadata": {},
   "source": [
    "2.67 < 4.80 $ \\checkmark$"
   ]
  }
 ],
 "metadata": {
  "kernelspec": {
   "display_name": "Python 3",
   "language": "python",
   "name": "python3"
  },
  "language_info": {
   "codemirror_mode": {
    "name": "ipython",
    "version": 3
   },
   "file_extension": ".py",
   "mimetype": "text/x-python",
   "name": "python",
   "nbconvert_exporter": "python",
   "pygments_lexer": "ipython3",
   "version": "3.7.4"
  },
  "toc": {
   "base_numbering": 1,
   "nav_menu": {},
   "number_sections": true,
   "sideBar": true,
   "skip_h1_title": false,
   "title_cell": "Table of Contents",
   "title_sidebar": "Contents",
   "toc_cell": false,
   "toc_position": {},
   "toc_section_display": true,
   "toc_window_display": false
  }
 },
 "nbformat": 4,
 "nbformat_minor": 2
}
