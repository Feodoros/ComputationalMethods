{
 "cells": [
  {
   "cell_type": "markdown",
   "metadata": {},
   "source": [
    "Студент Жилкин Федор, 344\n",
    "# Домашняя работа 2: \"Нахождение корней уравнения методом Ньютона\" \n",
    "**Задания:**\n",
    "1. Определить единичный промежуток, на котором находится корень уравнения\n",
    "2. Сузить промежуток в несколько раз, используя метод бисекции\n",
    "3. Применить метод Ньютона\n",
    "\n"
   ]
  },
  {
   "cell_type": "markdown",
   "metadata": {},
   "source": [
    "$f(x) = tg(x) + e^x$"
   ]
  },
  {
   "cell_type": "code",
   "execution_count": 3,
   "metadata": {},
   "outputs": [],
   "source": [
    "import numpy as np\n",
    "import matplotlib.pyplot as plt\n",
    "from sympy import *"
   ]
  },
  {
   "cell_type": "code",
   "execution_count": 2,
   "metadata": {},
   "outputs": [],
   "source": [
    "def f(x):\n",
    "    return np.tan(x) + np.exp(x)"
   ]
  },
  {
   "cell_type": "markdown",
   "metadata": {},
   "source": [
    "### Еденичный промежуток:\n",
    "$x \\in [-1, 0] $"
   ]
  },
  {
   "cell_type": "code",
   "execution_count": 3,
   "metadata": {},
   "outputs": [
    {
     "name": "stdout",
     "output_type": "stream",
     "text": [
      "f(-1) = -1.18952828348346\n"
     ]
    }
   ],
   "source": [
    "print(\"f(-1) =\", f(-1))"
   ]
  },
  {
   "cell_type": "code",
   "execution_count": 4,
   "metadata": {},
   "outputs": [
    {
     "name": "stdout",
     "output_type": "stream",
     "text": [
      "f(0) = 1.0\n"
     ]
    }
   ],
   "source": [
    "print(\"f(0) =\", f(0))"
   ]
  },
  {
   "cell_type": "code",
   "execution_count": 4,
   "metadata": {},
   "outputs": [
    {
     "data": {
      "image/png": "[encoded data removed]",
      "text/plain": [
       "<Figure size 648x648 with 1 Axes>"
      ]
     },
     "metadata": {
      "needs_background": "light"
     },
     "output_type": "display_data"
    }
   ],
   "source": [
    "x = np.linspace(-1, 0, 100)\n",
    "y1 = x - x\n",
    "y2 = [np.tan(i) + np.exp(i) for i in x]\n",
    "plt.figure(figsize=(9, 9))\n",
    "plt.plot(x, y1)  \n",
    "plt.plot(x, y2)               \n",
    "plt.xlabel(\"x\", fontsize=14)  \n",
    "plt.ylabel(\"y\", fontsize=14) \n",
    "plt.grid(True)                "
   ]
  },
  {
   "cell_type": "markdown",
   "metadata": {},
   "source": [
    "### Сужение промежутка:"
   ]
  },
  {
   "cell_type": "code",
   "execution_count": 6,
   "metadata": {},
   "outputs": [],
   "source": [
    "def bisection(xl, xr, eps=0.1):  \n",
    "    intervalLen = 0   \n",
    "    intervalLen = 0\n",
    "    halfInterval = 0\n",
    "    middle = 0 \n",
    "    while (xr - xl > eps):\n",
    "        print(xl, xr)\n",
    "        intervalLen = xr - xl\n",
    "        halfInterval = intervalLen / 2 \n",
    "        middle = xl + halfInterval\n",
    "        print(middle)\n",
    "        if np.sign(f(xl)) != np.sign(f(middle)):\n",
    "            xr = middle\n",
    "        else:\n",
    "            xl = middle    \n",
    "    return middle"
   ]
  },
  {
   "cell_type": "code",
   "execution_count": 7,
   "metadata": {},
   "outputs": [
    {
     "name": "stdout",
     "output_type": "stream",
     "text": [
      "-1 0\n",
      "-0.5\n",
      "-1 -0.5\n",
      "-0.75\n",
      "-0.75 -0.5\n",
      "-0.625\n",
      "-0.625 -0.5\n",
      "-0.5625\n"
     ]
    },
    {
     "data": {
      "text/plain": [
       "-0.5625"
      ]
     },
     "execution_count": 7,
     "metadata": {},
     "output_type": "execute_result"
    }
   ],
   "source": [
    "bisection(-1, 0)"
   ]
  },
  {
   "cell_type": "code",
   "execution_count": 8,
   "metadata": {},
   "outputs": [],
   "source": [
    "# Можем найти корень с помощью метода бисекции\n",
    "# bisection(-1, 0, eps=0.0001)"
   ]
  },
  {
   "cell_type": "markdown",
   "metadata": {},
   "source": [
    "**Новый промежуток:** $x \\in [-0.625, -0.5] $"
   ]
  },
  {
   "cell_type": "markdown",
   "metadata": {},
   "source": [
    "### Метод Ньютона"
   ]
  },
  {
   "cell_type": "code",
   "execution_count": 9,
   "metadata": {},
   "outputs": [],
   "source": [
    "x = Symbol('x')\n",
    "y = tan(x) + exp(x)"
   ]
  },
  {
   "cell_type": "code",
   "execution_count": 10,
   "metadata": {},
   "outputs": [],
   "source": [
    "def dfdx(f):\n",
    "    y = diff(f)\n",
    "    return lambdify(x, y, 'numpy')"
   ]
  },
  {
   "cell_type": "code",
   "execution_count": 11,
   "metadata": {},
   "outputs": [],
   "source": [
    "def Newton(fx, x0, eps):\n",
    "    f_value = f(x0)\n",
    "    d = dfdx(fx)\n",
    "    iteration_counter = 0\n",
    "    while abs(f_value) > eps and iteration_counter < 100:\n",
    "        try:\n",
    "            x0 = x0 - f_value/d(x0)\n",
    "        except ZeroDivisionError as err:\n",
    "            print(\"Ошибка: {}\".format(err))\n",
    "            sys.exit(1)\n",
    "        f_value=f(x0)\n",
    "        iteration_counter += 1\n",
    "    if abs(f_value) > eps:\n",
    "        iteration_counter =- 1\n",
    "    return x0   "
   ]
  },
  {
   "cell_type": "code",
   "execution_count": 12,
   "metadata": {},
   "outputs": [
    {
     "data": {
      "text/plain": [
       "-0.5313908763380966"
      ]
     },
     "execution_count": 12,
     "metadata": {},
     "output_type": "execute_result"
    }
   ],
   "source": [
    "Newton(y, -0.5625, 0.000001)"
   ]
  },
  {
   "cell_type": "markdown",
   "metadata": {},
   "source": [
    "**Ответ: -0.5313908763380966** "
   ]
  }
 ],
 "metadata": {
  "kernelspec": {
   "display_name": "Python 3",
   "language": "python",
   "name": "python3"
  },
  "language_info": {
   "codemirror_mode": {
    "name": "ipython",
    "version": 3
   },
   "file_extension": ".py",
   "mimetype": "text/x-python",
   "name": "python",
   "nbconvert_exporter": "python",
   "pygments_lexer": "ipython3",
   "version": "3.7.4"
  },
  "toc": {
   "base_numbering": 1,
   "nav_menu": {},
   "number_sections": true,
   "sideBar": true,
   "skip_h1_title": false,
   "title_cell": "Table of Contents",
   "title_sidebar": "Contents",
   "toc_cell": false,
   "toc_position": {},
   "toc_section_display": true,
   "toc_window_display": false
  }
 },
 "nbformat": 4,
 "nbformat_minor": 2
}
