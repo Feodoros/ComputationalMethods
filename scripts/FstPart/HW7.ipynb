{
 "cells": [
  {
   "cell_type": "markdown",
   "metadata": {},
   "source": [
    "Студент Жилкин Федор, 344\n",
    "# Домашняя работа 7: \"Задача Коши\"\n"
   ]
  },
  {
   "cell_type": "markdown",
   "metadata": {},
   "source": [
    "<img src=\"task.jpg\">"
   ]
  },
  {
   "cell_type": "code",
   "execution_count": 287,
   "metadata": {},
   "outputs": [],
   "source": [
    "import numpy as np\n",
    "import pandas as pd\n",
    "from scipy.integrate import odeint\n",
    "import matplotlib.pyplot as plt"
   ]
  },
  {
   "cell_type": "code",
   "execution_count": 288,
   "metadata": {},
   "outputs": [],
   "source": [
    "def F(x, y):\n",
    "    return 1 + (1.5 - x)*np.sin(y) - (2 + x)*y"
   ]
  },
  {
   "cell_type": "code",
   "execution_count": 289,
   "metadata": {},
   "outputs": [],
   "source": [
    "y0 = 0\n",
    "h = 0.05\n",
    "x = np.arange(0,0.55, h)"
   ]
  },
  {
   "cell_type": "markdown",
   "metadata": {},
   "source": [
    "## Получить таблицу значений решения задачи с шагом h = 0.05 на [0, 0.5]"
   ]
  },
  {
   "cell_type": "code",
   "execution_count": 290,
   "metadata": {},
   "outputs": [
    {
     "data": {
      "text/html": [
       "<style  type=\"text/css\" >\n",
       "</style><table id=\"T_a8e65168_25c9_11ea_b5e0_ccb0da8bdd58\" ><thead>    <tr>        <th class=\"col_heading level0 col0\" >$x$</th>        <th class=\"col_heading level0 col1\" >$y$</th>    </tr></thead><tbody>\n",
       "                <tr>\n",
       "                                <td id=\"T_a8e65168_25c9_11ea_b5e0_ccb0da8bdd58row0_col0\" class=\"data row0 col0\" >0</td>\n",
       "                        <td id=\"T_a8e65168_25c9_11ea_b5e0_ccb0da8bdd58row0_col1\" class=\"data row0 col1\" >0</td>\n",
       "            </tr>\n",
       "            <tr>\n",
       "                                <td id=\"T_a8e65168_25c9_11ea_b5e0_ccb0da8bdd58row1_col0\" class=\"data row1 col0\" >0.05</td>\n",
       "                        <td id=\"T_a8e65168_25c9_11ea_b5e0_ccb0da8bdd58row1_col1\" class=\"data row1 col1\" >0.0492921</td>\n",
       "            </tr>\n",
       "            <tr>\n",
       "                                <td id=\"T_a8e65168_25c9_11ea_b5e0_ccb0da8bdd58row2_col0\" class=\"data row2 col0\" >0.1</td>\n",
       "                        <td id=\"T_a8e65168_25c9_11ea_b5e0_ccb0da8bdd58row2_col1\" class=\"data row2 col1\" >0.0968425</td>\n",
       "            </tr>\n",
       "            <tr>\n",
       "                                <td id=\"T_a8e65168_25c9_11ea_b5e0_ccb0da8bdd58row3_col0\" class=\"data row3 col0\" >0.15</td>\n",
       "                        <td id=\"T_a8e65168_25c9_11ea_b5e0_ccb0da8bdd58row3_col1\" class=\"data row3 col1\" >0.142179</td>\n",
       "            </tr>\n",
       "            <tr>\n",
       "                                <td id=\"T_a8e65168_25c9_11ea_b5e0_ccb0da8bdd58row4_col0\" class=\"data row4 col0\" >0.2</td>\n",
       "                        <td id=\"T_a8e65168_25c9_11ea_b5e0_ccb0da8bdd58row4_col1\" class=\"data row4 col1\" >0.18486</td>\n",
       "            </tr>\n",
       "            <tr>\n",
       "                                <td id=\"T_a8e65168_25c9_11ea_b5e0_ccb0da8bdd58row5_col0\" class=\"data row5 col0\" >0.25</td>\n",
       "                        <td id=\"T_a8e65168_25c9_11ea_b5e0_ccb0da8bdd58row5_col1\" class=\"data row5 col1\" >0.224483</td>\n",
       "            </tr>\n",
       "            <tr>\n",
       "                                <td id=\"T_a8e65168_25c9_11ea_b5e0_ccb0da8bdd58row6_col0\" class=\"data row6 col0\" >0.3</td>\n",
       "                        <td id=\"T_a8e65168_25c9_11ea_b5e0_ccb0da8bdd58row6_col1\" class=\"data row6 col1\" >0.260695</td>\n",
       "            </tr>\n",
       "            <tr>\n",
       "                                <td id=\"T_a8e65168_25c9_11ea_b5e0_ccb0da8bdd58row7_col0\" class=\"data row7 col0\" >0.35</td>\n",
       "                        <td id=\"T_a8e65168_25c9_11ea_b5e0_ccb0da8bdd58row7_col1\" class=\"data row7 col1\" >0.293196</td>\n",
       "            </tr>\n",
       "            <tr>\n",
       "                                <td id=\"T_a8e65168_25c9_11ea_b5e0_ccb0da8bdd58row8_col0\" class=\"data row8 col0\" >0.4</td>\n",
       "                        <td id=\"T_a8e65168_25c9_11ea_b5e0_ccb0da8bdd58row8_col1\" class=\"data row8 col1\" >0.321744</td>\n",
       "            </tr>\n",
       "            <tr>\n",
       "                                <td id=\"T_a8e65168_25c9_11ea_b5e0_ccb0da8bdd58row9_col0\" class=\"data row9 col0\" >0.45</td>\n",
       "                        <td id=\"T_a8e65168_25c9_11ea_b5e0_ccb0da8bdd58row9_col1\" class=\"data row9 col1\" >0.34616</td>\n",
       "            </tr>\n",
       "            <tr>\n",
       "                                <td id=\"T_a8e65168_25c9_11ea_b5e0_ccb0da8bdd58row10_col0\" class=\"data row10 col0\" >0.5</td>\n",
       "                        <td id=\"T_a8e65168_25c9_11ea_b5e0_ccb0da8bdd58row10_col1\" class=\"data row10 col1\" >0.366326</td>\n",
       "            </tr>\n",
       "    </tbody></table>"
      ],
      "text/plain": [
       "<pandas.io.formats.style.Styler at 0x16e9a0896c8>"
      ]
     },
     "execution_count": 290,
     "metadata": {},
     "output_type": "execute_result"
    }
   ],
   "source": [
    "y = odeint(F, y0, x).T.flatten()\n",
    "d = {'$x$': x, '$y$': y}\n",
    "df = pd.DataFrame(data=d)\n",
    "df.style.hide_index()"
   ]
  },
  {
   "cell_type": "markdown",
   "metadata": {},
   "source": [
    "## Методом Эйлера улучшенным получить таблицу решения на [0, 0.5]"
   ]
  },
  {
   "cell_type": "code",
   "execution_count": 291,
   "metadata": {},
   "outputs": [],
   "source": [
    "def euler(h, x):    \n",
    "    y = x*0\n",
    "    for i in range(1, len(x)):\n",
    "        y[i] = y[i-1] + h * F(y[i-1] + h/2 * F(y[i-1], x[i-1]), x[i-1] + h/2)\n",
    "    return y "
   ]
  },
  {
   "cell_type": "markdown",
   "metadata": {},
   "source": [
    "### С шагом $h - y^h$"
   ]
  },
  {
   "cell_type": "code",
   "execution_count": 292,
   "metadata": {},
   "outputs": [
    {
     "data": {
      "text/html": [
       "<style  type=\"text/css\" >\n",
       "</style><table id=\"T_aa62cdd8_25c9_11ea_be87_ccb0da8bdd58\" ><thead>    <tr>        <th class=\"col_heading level0 col0\" >x</th>        <th class=\"col_heading level0 col1\" >$y_h$</th>    </tr></thead><tbody>\n",
       "                <tr>\n",
       "                                <td id=\"T_aa62cdd8_25c9_11ea_be87_ccb0da8bdd58row0_col0\" class=\"data row0 col0\" >0</td>\n",
       "                        <td id=\"T_aa62cdd8_25c9_11ea_be87_ccb0da8bdd58row0_col1\" class=\"data row0 col1\" >0</td>\n",
       "            </tr>\n",
       "            <tr>\n",
       "                                <td id=\"T_aa62cdd8_25c9_11ea_be87_ccb0da8bdd58row1_col0\" class=\"data row1 col0\" >0.05</td>\n",
       "                        <td id=\"T_aa62cdd8_25c9_11ea_be87_ccb0da8bdd58row1_col1\" class=\"data row1 col1\" >0.0493123</td>\n",
       "            </tr>\n",
       "            <tr>\n",
       "                                <td id=\"T_aa62cdd8_25c9_11ea_be87_ccb0da8bdd58row2_col0\" class=\"data row2 col0\" >0.1</td>\n",
       "                        <td id=\"T_aa62cdd8_25c9_11ea_be87_ccb0da8bdd58row2_col1\" class=\"data row2 col1\" >0.0968806</td>\n",
       "            </tr>\n",
       "            <tr>\n",
       "                                <td id=\"T_aa62cdd8_25c9_11ea_be87_ccb0da8bdd58row3_col0\" class=\"data row3 col0\" >0.15</td>\n",
       "                        <td id=\"T_aa62cdd8_25c9_11ea_be87_ccb0da8bdd58row3_col1\" class=\"data row3 col1\" >0.142231</td>\n",
       "            </tr>\n",
       "            <tr>\n",
       "                                <td id=\"T_aa62cdd8_25c9_11ea_be87_ccb0da8bdd58row4_col0\" class=\"data row4 col0\" >0.2</td>\n",
       "                        <td id=\"T_aa62cdd8_25c9_11ea_be87_ccb0da8bdd58row4_col1\" class=\"data row4 col1\" >0.184922</td>\n",
       "            </tr>\n",
       "            <tr>\n",
       "                                <td id=\"T_aa62cdd8_25c9_11ea_be87_ccb0da8bdd58row5_col0\" class=\"data row5 col0\" >0.25</td>\n",
       "                        <td id=\"T_aa62cdd8_25c9_11ea_be87_ccb0da8bdd58row5_col1\" class=\"data row5 col1\" >0.22455</td>\n",
       "            </tr>\n",
       "            <tr>\n",
       "                                <td id=\"T_aa62cdd8_25c9_11ea_be87_ccb0da8bdd58row6_col0\" class=\"data row6 col0\" >0.3</td>\n",
       "                        <td id=\"T_aa62cdd8_25c9_11ea_be87_ccb0da8bdd58row6_col1\" class=\"data row6 col1\" >0.260761</td>\n",
       "            </tr>\n",
       "            <tr>\n",
       "                                <td id=\"T_aa62cdd8_25c9_11ea_be87_ccb0da8bdd58row7_col0\" class=\"data row7 col0\" >0.35</td>\n",
       "                        <td id=\"T_aa62cdd8_25c9_11ea_be87_ccb0da8bdd58row7_col1\" class=\"data row7 col1\" >0.293254</td>\n",
       "            </tr>\n",
       "            <tr>\n",
       "                                <td id=\"T_aa62cdd8_25c9_11ea_be87_ccb0da8bdd58row8_col0\" class=\"data row8 col0\" >0.4</td>\n",
       "                        <td id=\"T_aa62cdd8_25c9_11ea_be87_ccb0da8bdd58row8_col1\" class=\"data row8 col1\" >0.32179</td>\n",
       "            </tr>\n",
       "            <tr>\n",
       "                                <td id=\"T_aa62cdd8_25c9_11ea_be87_ccb0da8bdd58row9_col0\" class=\"data row9 col0\" >0.45</td>\n",
       "                        <td id=\"T_aa62cdd8_25c9_11ea_be87_ccb0da8bdd58row9_col1\" class=\"data row9 col1\" >0.346187</td>\n",
       "            </tr>\n",
       "            <tr>\n",
       "                                <td id=\"T_aa62cdd8_25c9_11ea_be87_ccb0da8bdd58row10_col0\" class=\"data row10 col0\" >0.5</td>\n",
       "                        <td id=\"T_aa62cdd8_25c9_11ea_be87_ccb0da8bdd58row10_col1\" class=\"data row10 col1\" >0.366329</td>\n",
       "            </tr>\n",
       "    </tbody></table>"
      ],
      "text/plain": [
       "<pandas.io.formats.style.Styler at 0x16e9a738688>"
      ]
     },
     "execution_count": 292,
     "metadata": {},
     "output_type": "execute_result"
    }
   ],
   "source": [
    "x = np.arange(0, 0.55, h)\n",
    "y1 = euler(h, x)\n",
    "d = {'x': x, '$y_h$': y1}\n",
    "df_2 = pd.DataFrame(data=d)\n",
    "df = pd.DataFrame(data=d)\n",
    "df.style.hide_index()"
   ]
  },
  {
   "cell_type": "markdown",
   "metadata": {},
   "source": [
    "### С шагом $h/2 - y^{h/2}$"
   ]
  },
  {
   "cell_type": "code",
   "execution_count": 293,
   "metadata": {},
   "outputs": [
    {
     "data": {
      "text/html": [
       "<style  type=\"text/css\" >\n",
       "</style><table id=\"T_aae122a2_25c9_11ea_84a2_ccb0da8bdd58\" ><thead>    <tr>        <th class=\"col_heading level0 col0\" >$x$</th>        <th class=\"col_heading level0 col1\" >$y_{h/2}$</th>    </tr></thead><tbody>\n",
       "                <tr>\n",
       "                                <td id=\"T_aae122a2_25c9_11ea_84a2_ccb0da8bdd58row0_col0\" class=\"data row0 col0\" >0</td>\n",
       "                        <td id=\"T_aae122a2_25c9_11ea_84a2_ccb0da8bdd58row0_col1\" class=\"data row0 col1\" >0</td>\n",
       "            </tr>\n",
       "            <tr>\n",
       "                                <td id=\"T_aae122a2_25c9_11ea_84a2_ccb0da8bdd58row1_col0\" class=\"data row1 col0\" >0.025</td>\n",
       "                        <td id=\"T_aae122a2_25c9_11ea_84a2_ccb0da8bdd58row1_col1\" class=\"data row1 col1\" >0.0248359</td>\n",
       "            </tr>\n",
       "            <tr>\n",
       "                                <td id=\"T_aae122a2_25c9_11ea_84a2_ccb0da8bdd58row2_col0\" class=\"data row2 col0\" >0.05</td>\n",
       "                        <td id=\"T_aae122a2_25c9_11ea_84a2_ccb0da8bdd58row2_col1\" class=\"data row2 col1\" >0.0492972</td>\n",
       "            </tr>\n",
       "            <tr>\n",
       "                                <td id=\"T_aae122a2_25c9_11ea_84a2_ccb0da8bdd58row3_col0\" class=\"data row3 col0\" >0.075</td>\n",
       "                        <td id=\"T_aae122a2_25c9_11ea_84a2_ccb0da8bdd58row3_col1\" class=\"data row3 col1\" >0.0733225</td>\n",
       "            </tr>\n",
       "            <tr>\n",
       "                                <td id=\"T_aae122a2_25c9_11ea_84a2_ccb0da8bdd58row4_col0\" class=\"data row4 col0\" >0.1</td>\n",
       "                        <td id=\"T_aae122a2_25c9_11ea_84a2_ccb0da8bdd58row4_col1\" class=\"data row4 col1\" >0.096852</td>\n",
       "            </tr>\n",
       "            <tr>\n",
       "                                <td id=\"T_aae122a2_25c9_11ea_84a2_ccb0da8bdd58row5_col0\" class=\"data row5 col0\" >0.125</td>\n",
       "                        <td id=\"T_aae122a2_25c9_11ea_84a2_ccb0da8bdd58row5_col1\" class=\"data row5 col1\" >0.119827</td>\n",
       "            </tr>\n",
       "            <tr>\n",
       "                                <td id=\"T_aae122a2_25c9_11ea_84a2_ccb0da8bdd58row6_col0\" class=\"data row6 col0\" >0.15</td>\n",
       "                        <td id=\"T_aae122a2_25c9_11ea_84a2_ccb0da8bdd58row6_col1\" class=\"data row6 col1\" >0.142192</td>\n",
       "            </tr>\n",
       "            <tr>\n",
       "                                <td id=\"T_aae122a2_25c9_11ea_84a2_ccb0da8bdd58row7_col0\" class=\"data row7 col0\" >0.175</td>\n",
       "                        <td id=\"T_aae122a2_25c9_11ea_84a2_ccb0da8bdd58row7_col1\" class=\"data row7 col1\" >0.163892</td>\n",
       "            </tr>\n",
       "            <tr>\n",
       "                                <td id=\"T_aae122a2_25c9_11ea_84a2_ccb0da8bdd58row8_col0\" class=\"data row8 col0\" >0.2</td>\n",
       "                        <td id=\"T_aae122a2_25c9_11ea_84a2_ccb0da8bdd58row8_col1\" class=\"data row8 col1\" >0.184875</td>\n",
       "            </tr>\n",
       "            <tr>\n",
       "                                <td id=\"T_aae122a2_25c9_11ea_84a2_ccb0da8bdd58row9_col0\" class=\"data row9 col0\" >0.225</td>\n",
       "                        <td id=\"T_aae122a2_25c9_11ea_84a2_ccb0da8bdd58row9_col1\" class=\"data row9 col1\" >0.205093</td>\n",
       "            </tr>\n",
       "            <tr>\n",
       "                                <td id=\"T_aae122a2_25c9_11ea_84a2_ccb0da8bdd58row10_col0\" class=\"data row10 col0\" >0.25</td>\n",
       "                        <td id=\"T_aae122a2_25c9_11ea_84a2_ccb0da8bdd58row10_col1\" class=\"data row10 col1\" >0.2245</td>\n",
       "            </tr>\n",
       "            <tr>\n",
       "                                <td id=\"T_aae122a2_25c9_11ea_84a2_ccb0da8bdd58row11_col0\" class=\"data row11 col0\" >0.275</td>\n",
       "                        <td id=\"T_aae122a2_25c9_11ea_84a2_ccb0da8bdd58row11_col1\" class=\"data row11 col1\" >0.243052</td>\n",
       "            </tr>\n",
       "            <tr>\n",
       "                                <td id=\"T_aae122a2_25c9_11ea_84a2_ccb0da8bdd58row12_col0\" class=\"data row12 col0\" >0.3</td>\n",
       "                        <td id=\"T_aae122a2_25c9_11ea_84a2_ccb0da8bdd58row12_col1\" class=\"data row12 col1\" >0.260711</td>\n",
       "            </tr>\n",
       "            <tr>\n",
       "                                <td id=\"T_aae122a2_25c9_11ea_84a2_ccb0da8bdd58row13_col0\" class=\"data row13 col0\" >0.325</td>\n",
       "                        <td id=\"T_aae122a2_25c9_11ea_84a2_ccb0da8bdd58row13_col1\" class=\"data row13 col1\" >0.277441</td>\n",
       "            </tr>\n",
       "            <tr>\n",
       "                                <td id=\"T_aae122a2_25c9_11ea_84a2_ccb0da8bdd58row14_col0\" class=\"data row14 col0\" >0.35</td>\n",
       "                        <td id=\"T_aae122a2_25c9_11ea_84a2_ccb0da8bdd58row14_col1\" class=\"data row14 col1\" >0.29321</td>\n",
       "            </tr>\n",
       "            <tr>\n",
       "                                <td id=\"T_aae122a2_25c9_11ea_84a2_ccb0da8bdd58row15_col0\" class=\"data row15 col0\" >0.375</td>\n",
       "                        <td id=\"T_aae122a2_25c9_11ea_84a2_ccb0da8bdd58row15_col1\" class=\"data row15 col1\" >0.30799</td>\n",
       "            </tr>\n",
       "            <tr>\n",
       "                                <td id=\"T_aae122a2_25c9_11ea_84a2_ccb0da8bdd58row16_col0\" class=\"data row16 col0\" >0.4</td>\n",
       "                        <td id=\"T_aae122a2_25c9_11ea_84a2_ccb0da8bdd58row16_col1\" class=\"data row16 col1\" >0.321755</td>\n",
       "            </tr>\n",
       "            <tr>\n",
       "                                <td id=\"T_aae122a2_25c9_11ea_84a2_ccb0da8bdd58row17_col0\" class=\"data row17 col0\" >0.425</td>\n",
       "                        <td id=\"T_aae122a2_25c9_11ea_84a2_ccb0da8bdd58row17_col1\" class=\"data row17 col1\" >0.334486</td>\n",
       "            </tr>\n",
       "            <tr>\n",
       "                                <td id=\"T_aae122a2_25c9_11ea_84a2_ccb0da8bdd58row18_col0\" class=\"data row18 col0\" >0.45</td>\n",
       "                        <td id=\"T_aae122a2_25c9_11ea_84a2_ccb0da8bdd58row18_col1\" class=\"data row18 col1\" >0.346166</td>\n",
       "            </tr>\n",
       "            <tr>\n",
       "                                <td id=\"T_aae122a2_25c9_11ea_84a2_ccb0da8bdd58row19_col0\" class=\"data row19 col0\" >0.475</td>\n",
       "                        <td id=\"T_aae122a2_25c9_11ea_84a2_ccb0da8bdd58row19_col1\" class=\"data row19 col1\" >0.356783</td>\n",
       "            </tr>\n",
       "            <tr>\n",
       "                                <td id=\"T_aae122a2_25c9_11ea_84a2_ccb0da8bdd58row20_col0\" class=\"data row20 col0\" >0.5</td>\n",
       "                        <td id=\"T_aae122a2_25c9_11ea_84a2_ccb0da8bdd58row20_col1\" class=\"data row20 col1\" >0.366327</td>\n",
       "            </tr>\n",
       "    </tbody></table>"
      ],
      "text/plain": [
       "<pandas.io.formats.style.Styler at 0x16e9a74c848>"
      ]
     },
     "execution_count": 293,
     "metadata": {},
     "output_type": "execute_result"
    }
   ],
   "source": [
    "x = np.arange(0, 0.55, h/2)\n",
    "y2 = euler(h/2, x)\n",
    "d = {'$x$': x, '$y_{h/2}$': y2}\n",
    "df = pd.DataFrame(data=d)\n",
    "df.head(21).style.hide_index()"
   ]
  },
  {
   "cell_type": "markdown",
   "metadata": {},
   "source": [
    "### Уточнить решение по Ричардсону"
   ]
  },
  {
   "cell_type": "code",
   "execution_count": 294,
   "metadata": {},
   "outputs": [],
   "source": [
    "def richardson(y1, y2, s):\n",
    "    y_rev = x*0\n",
    "    for i in range(len(y_h)):\n",
    "        r_m = (y2[2*i] - y_h[i]) / (pow(2, s) - 1)\n",
    "        y_rev[i] = (y2[2*i] + r_m)\n",
    "    return y_rev"
   ]
  },
  {
   "cell_type": "code",
   "execution_count": 295,
   "metadata": {},
   "outputs": [
    {
     "data": {
      "text/html": [
       "<style  type=\"text/css\" >\n",
       "</style><table id=\"T_ab3f2af4_25c9_11ea_bfb1_ccb0da8bdd58\" ><thead>    <tr>        <th class=\"col_heading level0 col0\" >$x$</th>        <th class=\"col_heading level0 col1\" >$y_{rev}$</th>    </tr></thead><tbody>\n",
       "                <tr>\n",
       "                                <td id=\"T_ab3f2af4_25c9_11ea_bfb1_ccb0da8bdd58row0_col0\" class=\"data row0 col0\" >0</td>\n",
       "                        <td id=\"T_ab3f2af4_25c9_11ea_bfb1_ccb0da8bdd58row0_col1\" class=\"data row0 col1\" >0</td>\n",
       "            </tr>\n",
       "            <tr>\n",
       "                                <td id=\"T_ab3f2af4_25c9_11ea_bfb1_ccb0da8bdd58row1_col0\" class=\"data row1 col0\" >0.05</td>\n",
       "                        <td id=\"T_ab3f2af4_25c9_11ea_bfb1_ccb0da8bdd58row1_col1\" class=\"data row1 col1\" >0.0492921</td>\n",
       "            </tr>\n",
       "            <tr>\n",
       "                                <td id=\"T_ab3f2af4_25c9_11ea_bfb1_ccb0da8bdd58row2_col0\" class=\"data row2 col0\" >0.1</td>\n",
       "                        <td id=\"T_ab3f2af4_25c9_11ea_bfb1_ccb0da8bdd58row2_col1\" class=\"data row2 col1\" >0.0968425</td>\n",
       "            </tr>\n",
       "            <tr>\n",
       "                                <td id=\"T_ab3f2af4_25c9_11ea_bfb1_ccb0da8bdd58row3_col0\" class=\"data row3 col0\" >0.15</td>\n",
       "                        <td id=\"T_ab3f2af4_25c9_11ea_bfb1_ccb0da8bdd58row3_col1\" class=\"data row3 col1\" >0.142179</td>\n",
       "            </tr>\n",
       "            <tr>\n",
       "                                <td id=\"T_ab3f2af4_25c9_11ea_bfb1_ccb0da8bdd58row4_col0\" class=\"data row4 col0\" >0.2</td>\n",
       "                        <td id=\"T_ab3f2af4_25c9_11ea_bfb1_ccb0da8bdd58row4_col1\" class=\"data row4 col1\" >0.18486</td>\n",
       "            </tr>\n",
       "            <tr>\n",
       "                                <td id=\"T_ab3f2af4_25c9_11ea_bfb1_ccb0da8bdd58row5_col0\" class=\"data row5 col0\" >0.25</td>\n",
       "                        <td id=\"T_ab3f2af4_25c9_11ea_bfb1_ccb0da8bdd58row5_col1\" class=\"data row5 col1\" >0.224483</td>\n",
       "            </tr>\n",
       "            <tr>\n",
       "                                <td id=\"T_ab3f2af4_25c9_11ea_bfb1_ccb0da8bdd58row6_col0\" class=\"data row6 col0\" >0.3</td>\n",
       "                        <td id=\"T_ab3f2af4_25c9_11ea_bfb1_ccb0da8bdd58row6_col1\" class=\"data row6 col1\" >0.260695</td>\n",
       "            </tr>\n",
       "            <tr>\n",
       "                                <td id=\"T_ab3f2af4_25c9_11ea_bfb1_ccb0da8bdd58row7_col0\" class=\"data row7 col0\" >0.35</td>\n",
       "                        <td id=\"T_ab3f2af4_25c9_11ea_bfb1_ccb0da8bdd58row7_col1\" class=\"data row7 col1\" >0.293195</td>\n",
       "            </tr>\n",
       "            <tr>\n",
       "                                <td id=\"T_ab3f2af4_25c9_11ea_bfb1_ccb0da8bdd58row8_col0\" class=\"data row8 col0\" >0.4</td>\n",
       "                        <td id=\"T_ab3f2af4_25c9_11ea_bfb1_ccb0da8bdd58row8_col1\" class=\"data row8 col1\" >0.321744</td>\n",
       "            </tr>\n",
       "            <tr>\n",
       "                                <td id=\"T_ab3f2af4_25c9_11ea_bfb1_ccb0da8bdd58row9_col0\" class=\"data row9 col0\" >0.45</td>\n",
       "                        <td id=\"T_ab3f2af4_25c9_11ea_bfb1_ccb0da8bdd58row9_col1\" class=\"data row9 col1\" >0.34616</td>\n",
       "            </tr>\n",
       "            <tr>\n",
       "                                <td id=\"T_ab3f2af4_25c9_11ea_bfb1_ccb0da8bdd58row10_col0\" class=\"data row10 col0\" >0.5</td>\n",
       "                        <td id=\"T_ab3f2af4_25c9_11ea_bfb1_ccb0da8bdd58row10_col1\" class=\"data row10 col1\" >0.366326</td>\n",
       "            </tr>\n",
       "    </tbody></table>"
      ],
      "text/plain": [
       "<pandas.io.formats.style.Styler at 0x16e9a0fd1c8>"
      ]
     },
     "execution_count": 295,
     "metadata": {},
     "output_type": "execute_result"
    }
   ],
   "source": [
    "s = 2\n",
    "x = np.arange(0, 0.55, h)\n",
    "y_rev = richardson(y1, y2, s)\n",
    "d = {'$x$': x, '$y_{rev}$': y_rev}\n",
    "df = pd.DataFrame(data=d)\n",
    "df.style.hide_index()"
   ]
  },
  {
   "cell_type": "markdown",
   "metadata": {},
   "source": [
    "## Напечатать таблицу значений"
   ]
  },
  {
   "cell_type": "code",
   "execution_count": 296,
   "metadata": {},
   "outputs": [
    {
     "data": {
      "text/html": [
       "<style  type=\"text/css\" >\n",
       "</style><table id=\"T_ab97bb0a_25c9_11ea_b85a_ccb0da8bdd58\" ><thead>    <tr>        <th class=\"col_heading level0 col0\" >$x$</th>        <th class=\"col_heading level0 col1\" >$y$</th>        <th class=\"col_heading level0 col2\" >$y_h$</th>        <th class=\"col_heading level0 col3\" >$y_{h/2}$</th>        <th class=\"col_heading level0 col4\" >$y_{rev}$</th>        <th class=\"col_heading level0 col5\" >$y_{rev} - y$</th>    </tr></thead><tbody>\n",
       "                <tr>\n",
       "                                <td id=\"T_ab97bb0a_25c9_11ea_b85a_ccb0da8bdd58row0_col0\" class=\"data row0 col0\" >0</td>\n",
       "                        <td id=\"T_ab97bb0a_25c9_11ea_b85a_ccb0da8bdd58row0_col1\" class=\"data row0 col1\" >0</td>\n",
       "                        <td id=\"T_ab97bb0a_25c9_11ea_b85a_ccb0da8bdd58row0_col2\" class=\"data row0 col2\" >0</td>\n",
       "                        <td id=\"T_ab97bb0a_25c9_11ea_b85a_ccb0da8bdd58row0_col3\" class=\"data row0 col3\" >0</td>\n",
       "                        <td id=\"T_ab97bb0a_25c9_11ea_b85a_ccb0da8bdd58row0_col4\" class=\"data row0 col4\" >0</td>\n",
       "                        <td id=\"T_ab97bb0a_25c9_11ea_b85a_ccb0da8bdd58row0_col5\" class=\"data row0 col5\" >0</td>\n",
       "            </tr>\n",
       "            <tr>\n",
       "                                <td id=\"T_ab97bb0a_25c9_11ea_b85a_ccb0da8bdd58row1_col0\" class=\"data row1 col0\" >0.05</td>\n",
       "                        <td id=\"T_ab97bb0a_25c9_11ea_b85a_ccb0da8bdd58row1_col1\" class=\"data row1 col1\" >0.0492921</td>\n",
       "                        <td id=\"T_ab97bb0a_25c9_11ea_b85a_ccb0da8bdd58row1_col2\" class=\"data row1 col2\" >0.0493123</td>\n",
       "                        <td id=\"T_ab97bb0a_25c9_11ea_b85a_ccb0da8bdd58row1_col3\" class=\"data row1 col3\" >0.0492972</td>\n",
       "                        <td id=\"T_ab97bb0a_25c9_11ea_b85a_ccb0da8bdd58row1_col4\" class=\"data row1 col4\" >0.0492921</td>\n",
       "                        <td id=\"T_ab97bb0a_25c9_11ea_b85a_ccb0da8bdd58row1_col5\" class=\"data row1 col5\" >-1.20614e-08</td>\n",
       "            </tr>\n",
       "            <tr>\n",
       "                                <td id=\"T_ab97bb0a_25c9_11ea_b85a_ccb0da8bdd58row2_col0\" class=\"data row2 col0\" >0.1</td>\n",
       "                        <td id=\"T_ab97bb0a_25c9_11ea_b85a_ccb0da8bdd58row2_col1\" class=\"data row2 col1\" >0.0968425</td>\n",
       "                        <td id=\"T_ab97bb0a_25c9_11ea_b85a_ccb0da8bdd58row2_col2\" class=\"data row2 col2\" >0.0968806</td>\n",
       "                        <td id=\"T_ab97bb0a_25c9_11ea_b85a_ccb0da8bdd58row2_col3\" class=\"data row2 col3\" >0.096852</td>\n",
       "                        <td id=\"T_ab97bb0a_25c9_11ea_b85a_ccb0da8bdd58row2_col4\" class=\"data row2 col4\" >0.0968425</td>\n",
       "                        <td id=\"T_ab97bb0a_25c9_11ea_b85a_ccb0da8bdd58row2_col5\" class=\"data row2 col5\" >-5.93559e-08</td>\n",
       "            </tr>\n",
       "            <tr>\n",
       "                                <td id=\"T_ab97bb0a_25c9_11ea_b85a_ccb0da8bdd58row3_col0\" class=\"data row3 col0\" >0.15</td>\n",
       "                        <td id=\"T_ab97bb0a_25c9_11ea_b85a_ccb0da8bdd58row3_col1\" class=\"data row3 col1\" >0.142179</td>\n",
       "                        <td id=\"T_ab97bb0a_25c9_11ea_b85a_ccb0da8bdd58row3_col2\" class=\"data row3 col2\" >0.142231</td>\n",
       "                        <td id=\"T_ab97bb0a_25c9_11ea_b85a_ccb0da8bdd58row3_col3\" class=\"data row3 col3\" >0.142192</td>\n",
       "                        <td id=\"T_ab97bb0a_25c9_11ea_b85a_ccb0da8bdd58row3_col4\" class=\"data row3 col4\" >0.142179</td>\n",
       "                        <td id=\"T_ab97bb0a_25c9_11ea_b85a_ccb0da8bdd58row3_col5\" class=\"data row3 col5\" >-1.1647e-07</td>\n",
       "            </tr>\n",
       "            <tr>\n",
       "                                <td id=\"T_ab97bb0a_25c9_11ea_b85a_ccb0da8bdd58row4_col0\" class=\"data row4 col0\" >0.2</td>\n",
       "                        <td id=\"T_ab97bb0a_25c9_11ea_b85a_ccb0da8bdd58row4_col1\" class=\"data row4 col1\" >0.18486</td>\n",
       "                        <td id=\"T_ab97bb0a_25c9_11ea_b85a_ccb0da8bdd58row4_col2\" class=\"data row4 col2\" >0.184922</td>\n",
       "                        <td id=\"T_ab97bb0a_25c9_11ea_b85a_ccb0da8bdd58row4_col3\" class=\"data row4 col3\" >0.184875</td>\n",
       "                        <td id=\"T_ab97bb0a_25c9_11ea_b85a_ccb0da8bdd58row4_col4\" class=\"data row4 col4\" >0.18486</td>\n",
       "                        <td id=\"T_ab97bb0a_25c9_11ea_b85a_ccb0da8bdd58row4_col5\" class=\"data row4 col5\" >-1.84148e-07</td>\n",
       "            </tr>\n",
       "            <tr>\n",
       "                                <td id=\"T_ab97bb0a_25c9_11ea_b85a_ccb0da8bdd58row5_col0\" class=\"data row5 col0\" >0.25</td>\n",
       "                        <td id=\"T_ab97bb0a_25c9_11ea_b85a_ccb0da8bdd58row5_col1\" class=\"data row5 col1\" >0.224483</td>\n",
       "                        <td id=\"T_ab97bb0a_25c9_11ea_b85a_ccb0da8bdd58row5_col2\" class=\"data row5 col2\" >0.22455</td>\n",
       "                        <td id=\"T_ab97bb0a_25c9_11ea_b85a_ccb0da8bdd58row5_col3\" class=\"data row5 col3\" >0.2245</td>\n",
       "                        <td id=\"T_ab97bb0a_25c9_11ea_b85a_ccb0da8bdd58row5_col4\" class=\"data row5 col4\" >0.224483</td>\n",
       "                        <td id=\"T_ab97bb0a_25c9_11ea_b85a_ccb0da8bdd58row5_col5\" class=\"data row5 col5\" >-2.48184e-07</td>\n",
       "            </tr>\n",
       "            <tr>\n",
       "                                <td id=\"T_ab97bb0a_25c9_11ea_b85a_ccb0da8bdd58row6_col0\" class=\"data row6 col0\" >0.3</td>\n",
       "                        <td id=\"T_ab97bb0a_25c9_11ea_b85a_ccb0da8bdd58row6_col1\" class=\"data row6 col1\" >0.260695</td>\n",
       "                        <td id=\"T_ab97bb0a_25c9_11ea_b85a_ccb0da8bdd58row6_col2\" class=\"data row6 col2\" >0.260761</td>\n",
       "                        <td id=\"T_ab97bb0a_25c9_11ea_b85a_ccb0da8bdd58row6_col3\" class=\"data row6 col3\" >0.260711</td>\n",
       "                        <td id=\"T_ab97bb0a_25c9_11ea_b85a_ccb0da8bdd58row6_col4\" class=\"data row6 col4\" >0.260695</td>\n",
       "                        <td id=\"T_ab97bb0a_25c9_11ea_b85a_ccb0da8bdd58row6_col5\" class=\"data row6 col5\" >-3.00904e-07</td>\n",
       "            </tr>\n",
       "            <tr>\n",
       "                                <td id=\"T_ab97bb0a_25c9_11ea_b85a_ccb0da8bdd58row7_col0\" class=\"data row7 col0\" >0.35</td>\n",
       "                        <td id=\"T_ab97bb0a_25c9_11ea_b85a_ccb0da8bdd58row7_col1\" class=\"data row7 col1\" >0.293196</td>\n",
       "                        <td id=\"T_ab97bb0a_25c9_11ea_b85a_ccb0da8bdd58row7_col2\" class=\"data row7 col2\" >0.293254</td>\n",
       "                        <td id=\"T_ab97bb0a_25c9_11ea_b85a_ccb0da8bdd58row7_col3\" class=\"data row7 col3\" >0.29321</td>\n",
       "                        <td id=\"T_ab97bb0a_25c9_11ea_b85a_ccb0da8bdd58row7_col4\" class=\"data row7 col4\" >0.293195</td>\n",
       "                        <td id=\"T_ab97bb0a_25c9_11ea_b85a_ccb0da8bdd58row7_col5\" class=\"data row7 col5\" >-3.45199e-07</td>\n",
       "            </tr>\n",
       "            <tr>\n",
       "                                <td id=\"T_ab97bb0a_25c9_11ea_b85a_ccb0da8bdd58row8_col0\" class=\"data row8 col0\" >0.4</td>\n",
       "                        <td id=\"T_ab97bb0a_25c9_11ea_b85a_ccb0da8bdd58row8_col1\" class=\"data row8 col1\" >0.321744</td>\n",
       "                        <td id=\"T_ab97bb0a_25c9_11ea_b85a_ccb0da8bdd58row8_col2\" class=\"data row8 col2\" >0.32179</td>\n",
       "                        <td id=\"T_ab97bb0a_25c9_11ea_b85a_ccb0da8bdd58row8_col3\" class=\"data row8 col3\" >0.321755</td>\n",
       "                        <td id=\"T_ab97bb0a_25c9_11ea_b85a_ccb0da8bdd58row8_col4\" class=\"data row8 col4\" >0.321744</td>\n",
       "                        <td id=\"T_ab97bb0a_25c9_11ea_b85a_ccb0da8bdd58row8_col5\" class=\"data row8 col5\" >-3.53846e-07</td>\n",
       "            </tr>\n",
       "            <tr>\n",
       "                                <td id=\"T_ab97bb0a_25c9_11ea_b85a_ccb0da8bdd58row9_col0\" class=\"data row9 col0\" >0.45</td>\n",
       "                        <td id=\"T_ab97bb0a_25c9_11ea_b85a_ccb0da8bdd58row9_col1\" class=\"data row9 col1\" >0.34616</td>\n",
       "                        <td id=\"T_ab97bb0a_25c9_11ea_b85a_ccb0da8bdd58row9_col2\" class=\"data row9 col2\" >0.346187</td>\n",
       "                        <td id=\"T_ab97bb0a_25c9_11ea_b85a_ccb0da8bdd58row9_col3\" class=\"data row9 col3\" >0.346166</td>\n",
       "                        <td id=\"T_ab97bb0a_25c9_11ea_b85a_ccb0da8bdd58row9_col4\" class=\"data row9 col4\" >0.34616</td>\n",
       "                        <td id=\"T_ab97bb0a_25c9_11ea_b85a_ccb0da8bdd58row9_col5\" class=\"data row9 col5\" >-3.20785e-07</td>\n",
       "            </tr>\n",
       "            <tr>\n",
       "                                <td id=\"T_ab97bb0a_25c9_11ea_b85a_ccb0da8bdd58row10_col0\" class=\"data row10 col0\" >0.5</td>\n",
       "                        <td id=\"T_ab97bb0a_25c9_11ea_b85a_ccb0da8bdd58row10_col1\" class=\"data row10 col1\" >0.366326</td>\n",
       "                        <td id=\"T_ab97bb0a_25c9_11ea_b85a_ccb0da8bdd58row10_col2\" class=\"data row10 col2\" >0.366329</td>\n",
       "                        <td id=\"T_ab97bb0a_25c9_11ea_b85a_ccb0da8bdd58row10_col3\" class=\"data row10 col3\" >0.366327</td>\n",
       "                        <td id=\"T_ab97bb0a_25c9_11ea_b85a_ccb0da8bdd58row10_col4\" class=\"data row10 col4\" >0.366326</td>\n",
       "                        <td id=\"T_ab97bb0a_25c9_11ea_b85a_ccb0da8bdd58row10_col5\" class=\"data row10 col5\" >-2.42527e-07</td>\n",
       "            </tr>\n",
       "    </tbody></table>"
      ],
      "text/plain": [
       "<pandas.io.formats.style.Styler at 0x16e9a04eb88>"
      ]
     },
     "execution_count": 296,
     "metadata": {},
     "output_type": "execute_result"
    }
   ],
   "source": [
    "y2_new = x*0\n",
    "for i in range(len(y2_new)):\n",
    "    y2_new[i] = y2[2*i]\n",
    "d = {'$x$': x, '$y$': y, '$y_h$': y1, '$y_{h/2}$': y2_new,\n",
    "     '$y_{rev}$': y_rev, '$y_{rev} - y$': y_rev - y}\n",
    "df = pd.DataFrame(data=d)\n",
    "df.style.hide_index()"
   ]
  },
  {
   "cell_type": "markdown",
   "metadata": {},
   "source": [
    "## Построить графики заданных таблично функций в одних осях координат"
   ]
  },
  {
   "cell_type": "code",
   "execution_count": 297,
   "metadata": {},
   "outputs": [
    {
     "data": {
      "image/png": "[encoded data removed]",
      "text/plain": [
       "<Figure size 1332x756 with 1 Axes>"
      ]
     },
     "metadata": {
      "needs_background": "light"
     },
     "output_type": "display_data"
    }
   ],
   "source": [
    "fig = plt.figure()\n",
    "fig.set_size_inches(18.5, 10.5)\n",
    "a = fig.add_subplot(1, 1, 1)\n",
    "a.grid(True)\n",
    "plt.plot(x, y, 'black')\n",
    "plt.plot(x, y_rev)\n",
    "plt.plot(x, y2_new)\n",
    "plt.plot(x, y_rev - y)\n",
    "plt.xlabel('$x$', fontsize=18)\n",
    "plt.ylabel('$y$', fontsize=18)\n",
    "plt.show()"
   ]
  },
  {
   "cell_type": "markdown",
   "metadata": {},
   "source": [
    "## Вычислить решение методом Рунге-Кутты"
   ]
  },
  {
   "cell_type": "code",
   "execution_count": 298,
   "metadata": {},
   "outputs": [],
   "source": [
    "def runge_kutt(x, h):\n",
    "    y_rk = x*0\n",
    "    for i in range(0, len(x) - 1):\n",
    "        k1 = h * F(y_rk[i], x[i])\n",
    "        k2 = h * F(y_rk[i] + k1/2, x[i] + h/2)\n",
    "        k3 = h * F(y_rk[i] + k2/2, x[i] + h/2)\n",
    "        k4 = h * F(y_rk[i] + k3, x[i] + h)\n",
    "        y_rk[i+1] = y_rk[i] + (1/6) * (k1 + 2*k2 + 2*k3 + k4)\n",
    "    return y_rk"
   ]
  },
  {
   "cell_type": "code",
   "execution_count": 299,
   "metadata": {},
   "outputs": [
    {
     "data": {
      "text/html": [
       "<style  type=\"text/css\" >\n",
       "</style><table id=\"T_ad9e26f4_25c9_11ea_9df1_ccb0da8bdd58\" ><thead>    <tr>        <th class=\"col_heading level0 col0\" >$x$</th>        <th class=\"col_heading level0 col1\" >$y_{R-K}$</th>    </tr></thead><tbody>\n",
       "                <tr>\n",
       "                                <td id=\"T_ad9e26f4_25c9_11ea_9df1_ccb0da8bdd58row0_col0\" class=\"data row0 col0\" >0</td>\n",
       "                        <td id=\"T_ad9e26f4_25c9_11ea_9df1_ccb0da8bdd58row0_col1\" class=\"data row0 col1\" >0</td>\n",
       "            </tr>\n",
       "            <tr>\n",
       "                                <td id=\"T_ad9e26f4_25c9_11ea_9df1_ccb0da8bdd58row1_col0\" class=\"data row1 col0\" >0.05</td>\n",
       "                        <td id=\"T_ad9e26f4_25c9_11ea_9df1_ccb0da8bdd58row1_col1\" class=\"data row1 col1\" >0.0492921</td>\n",
       "            </tr>\n",
       "            <tr>\n",
       "                                <td id=\"T_ad9e26f4_25c9_11ea_9df1_ccb0da8bdd58row2_col0\" class=\"data row2 col0\" >0.1</td>\n",
       "                        <td id=\"T_ad9e26f4_25c9_11ea_9df1_ccb0da8bdd58row2_col1\" class=\"data row2 col1\" >0.0968425</td>\n",
       "            </tr>\n",
       "            <tr>\n",
       "                                <td id=\"T_ad9e26f4_25c9_11ea_9df1_ccb0da8bdd58row3_col0\" class=\"data row3 col0\" >0.15</td>\n",
       "                        <td id=\"T_ad9e26f4_25c9_11ea_9df1_ccb0da8bdd58row3_col1\" class=\"data row3 col1\" >0.142179</td>\n",
       "            </tr>\n",
       "            <tr>\n",
       "                                <td id=\"T_ad9e26f4_25c9_11ea_9df1_ccb0da8bdd58row4_col0\" class=\"data row4 col0\" >0.2</td>\n",
       "                        <td id=\"T_ad9e26f4_25c9_11ea_9df1_ccb0da8bdd58row4_col1\" class=\"data row4 col1\" >0.18486</td>\n",
       "            </tr>\n",
       "            <tr>\n",
       "                                <td id=\"T_ad9e26f4_25c9_11ea_9df1_ccb0da8bdd58row5_col0\" class=\"data row5 col0\" >0.25</td>\n",
       "                        <td id=\"T_ad9e26f4_25c9_11ea_9df1_ccb0da8bdd58row5_col1\" class=\"data row5 col1\" >0.224483</td>\n",
       "            </tr>\n",
       "            <tr>\n",
       "                                <td id=\"T_ad9e26f4_25c9_11ea_9df1_ccb0da8bdd58row6_col0\" class=\"data row6 col0\" >0.3</td>\n",
       "                        <td id=\"T_ad9e26f4_25c9_11ea_9df1_ccb0da8bdd58row6_col1\" class=\"data row6 col1\" >0.260695</td>\n",
       "            </tr>\n",
       "            <tr>\n",
       "                                <td id=\"T_ad9e26f4_25c9_11ea_9df1_ccb0da8bdd58row7_col0\" class=\"data row7 col0\" >0.35</td>\n",
       "                        <td id=\"T_ad9e26f4_25c9_11ea_9df1_ccb0da8bdd58row7_col1\" class=\"data row7 col1\" >0.293196</td>\n",
       "            </tr>\n",
       "            <tr>\n",
       "                                <td id=\"T_ad9e26f4_25c9_11ea_9df1_ccb0da8bdd58row8_col0\" class=\"data row8 col0\" >0.4</td>\n",
       "                        <td id=\"T_ad9e26f4_25c9_11ea_9df1_ccb0da8bdd58row8_col1\" class=\"data row8 col1\" >0.321744</td>\n",
       "            </tr>\n",
       "            <tr>\n",
       "                                <td id=\"T_ad9e26f4_25c9_11ea_9df1_ccb0da8bdd58row9_col0\" class=\"data row9 col0\" >0.45</td>\n",
       "                        <td id=\"T_ad9e26f4_25c9_11ea_9df1_ccb0da8bdd58row9_col1\" class=\"data row9 col1\" >0.34616</td>\n",
       "            </tr>\n",
       "            <tr>\n",
       "                                <td id=\"T_ad9e26f4_25c9_11ea_9df1_ccb0da8bdd58row10_col0\" class=\"data row10 col0\" >0.5</td>\n",
       "                        <td id=\"T_ad9e26f4_25c9_11ea_9df1_ccb0da8bdd58row10_col1\" class=\"data row10 col1\" >0.366326</td>\n",
       "            </tr>\n",
       "    </tbody></table>"
      ],
      "text/plain": [
       "<pandas.io.formats.style.Styler at 0x16e9b8c3b08>"
      ]
     },
     "execution_count": 299,
     "metadata": {},
     "output_type": "execute_result"
    }
   ],
   "source": [
    "x = np.arange(0, 0.55, h)\n",
    "y_rk = runge_kutt(x, h)\n",
    "d = {'$x$': x, '$y_{R-K}$': y_rk}\n",
    "df = pd.DataFrame(data=d)\n",
    "df.style.hide_index()"
   ]
  },
  {
   "cell_type": "markdown",
   "metadata": {},
   "source": [
    "## Вычислить решение экстраполяционным методом Адамса 3-его порядка с шагом из метода Рунге-Кутты"
   ]
  },
  {
   "cell_type": "code",
   "execution_count": 300,
   "metadata": {},
   "outputs": [],
   "source": [
    "def calculate_q(y, x, h):\n",
    "    q = np.arange(0, 0.55, h)\n",
    "    for i in range(len(x)):\n",
    "        q[i] = h * F(y[i], x[i])\n",
    "    return q"
   ]
  },
  {
   "cell_type": "code",
   "execution_count": 301,
   "metadata": {},
   "outputs": [],
   "source": [
    "def Adams_exp(x, y_Adams_exp, h, q):\n",
    "    for i in range(0, len(x) - 1):\n",
    "        y_Adams_exp[i+1] = (y_Adams_exp[i] + 1.0/720 * (1901 * q[i + 4] - 2774 *\n",
    "                                                q[i + 3] + 2616 * q[i + 2] - 1274 * q[i + 1] + 251 * q[i]))\n",
    "        q[i + 5] = h * F(y_Adams_exp[i + 1], x[i + 1])\n",
    "    return y_Adams_exp"
   ]
  },
  {
   "cell_type": "code",
   "execution_count": 302,
   "metadata": {},
   "outputs": [
    {
     "data": {
      "text/html": [
       "<style  type=\"text/css\" >\n",
       "</style><table id=\"T_aeb5be10_25c9_11ea_98ff_ccb0da8bdd58\" ><thead>    <tr>        <th class=\"col_heading level0 col0\" >$x$</th>        <th class=\"col_heading level0 col1\" >$y^{exp}_{Adams}$</th>    </tr></thead><tbody>\n",
       "                <tr>\n",
       "                                <td id=\"T_aeb5be10_25c9_11ea_98ff_ccb0da8bdd58row0_col0\" class=\"data row0 col0\" >0.2</td>\n",
       "                        <td id=\"T_aeb5be10_25c9_11ea_98ff_ccb0da8bdd58row0_col1\" class=\"data row0 col1\" >0.18486</td>\n",
       "            </tr>\n",
       "            <tr>\n",
       "                                <td id=\"T_aeb5be10_25c9_11ea_98ff_ccb0da8bdd58row1_col0\" class=\"data row1 col0\" >0.25</td>\n",
       "                        <td id=\"T_aeb5be10_25c9_11ea_98ff_ccb0da8bdd58row1_col1\" class=\"data row1 col1\" >0.224483</td>\n",
       "            </tr>\n",
       "            <tr>\n",
       "                                <td id=\"T_aeb5be10_25c9_11ea_98ff_ccb0da8bdd58row2_col0\" class=\"data row2 col0\" >0.3</td>\n",
       "                        <td id=\"T_aeb5be10_25c9_11ea_98ff_ccb0da8bdd58row2_col1\" class=\"data row2 col1\" >0.260696</td>\n",
       "            </tr>\n",
       "            <tr>\n",
       "                                <td id=\"T_aeb5be10_25c9_11ea_98ff_ccb0da8bdd58row3_col0\" class=\"data row3 col0\" >0.35</td>\n",
       "                        <td id=\"T_aeb5be10_25c9_11ea_98ff_ccb0da8bdd58row3_col1\" class=\"data row3 col1\" >0.293197</td>\n",
       "            </tr>\n",
       "            <tr>\n",
       "                                <td id=\"T_aeb5be10_25c9_11ea_98ff_ccb0da8bdd58row4_col0\" class=\"data row4 col0\" >0.4</td>\n",
       "                        <td id=\"T_aeb5be10_25c9_11ea_98ff_ccb0da8bdd58row4_col1\" class=\"data row4 col1\" >0.321746</td>\n",
       "            </tr>\n",
       "            <tr>\n",
       "                                <td id=\"T_aeb5be10_25c9_11ea_98ff_ccb0da8bdd58row5_col0\" class=\"data row5 col0\" >0.45</td>\n",
       "                        <td id=\"T_aeb5be10_25c9_11ea_98ff_ccb0da8bdd58row5_col1\" class=\"data row5 col1\" >0.346162</td>\n",
       "            </tr>\n",
       "            <tr>\n",
       "                                <td id=\"T_aeb5be10_25c9_11ea_98ff_ccb0da8bdd58row6_col0\" class=\"data row6 col0\" >0.5</td>\n",
       "                        <td id=\"T_aeb5be10_25c9_11ea_98ff_ccb0da8bdd58row6_col1\" class=\"data row6 col1\" >0.366329</td>\n",
       "            </tr>\n",
       "    </tbody></table>"
      ],
      "text/plain": [
       "<pandas.io.formats.style.Styler at 0x16e9b8c85c8>"
      ]
     },
     "execution_count": 302,
     "metadata": {},
     "output_type": "execute_result"
    }
   ],
   "source": [
    "x_Adams_exp = np.arange(4*h,0.55, h)\n",
    "y_Adams_exp = x_Adams_exp*0\n",
    "\n",
    "x_help = np.arange(0,0.25, h)\n",
    "y_help = runge_kutt(x_help, h)\n",
    "\n",
    "q = calculate_q(y_help, x_help, h)\n",
    "\n",
    "y_Adams_exp[0] = y_help[4]\n",
    "y_Adams_exp = Adams_exp(x_Adams_exp, y_Adams_exp, h, q)\n",
    "\n",
    "d = {'$x$': x_Adams_exp, '$y^{exp}_{Adams}$': y_Adams_exp}\n",
    "df = pd.DataFrame(data=d)\n",
    "df.style.hide_index()"
   ]
  },
  {
   "cell_type": "markdown",
   "metadata": {},
   "source": [
    "## Вычислить решение интерполяционным методом Адамса 4-ого порядка"
   ]
  },
  {
   "cell_type": "code",
   "execution_count": 303,
   "metadata": {},
   "outputs": [],
   "source": [
    "def Adams_int(y_Adams_int, h, q):\n",
    "    for i in range(0, len(y_Adams_int) - 1):\n",
    "        y_Adams_int[i+1] = y_Adams_int[i] + 1.0/720 * \\\n",
    "            (251 * q[i + 4] + 646 * q[i + 3] - 264 *\n",
    "             q[i + 2] + 106 * q[i + 1] - 19 * q[i])\n",
    "    return y_Adams_int"
   ]
  },
  {
   "cell_type": "code",
   "execution_count": 304,
   "metadata": {},
   "outputs": [
    {
     "data": {
      "text/html": [
       "<style  type=\"text/css\" >\n",
       "</style><table id=\"T_afa5776c_25c9_11ea_bb2b_ccb0da8bdd58\" ><thead>    <tr>        <th class=\"col_heading level0 col0\" >$x$</th>        <th class=\"col_heading level0 col1\" >$y^{int}_{Adams}$</th>    </tr></thead><tbody>\n",
       "                <tr>\n",
       "                                <td id=\"T_afa5776c_25c9_11ea_bb2b_ccb0da8bdd58row0_col0\" class=\"data row0 col0\" >0.2</td>\n",
       "                        <td id=\"T_afa5776c_25c9_11ea_bb2b_ccb0da8bdd58row0_col1\" class=\"data row0 col1\" >0.18486</td>\n",
       "            </tr>\n",
       "            <tr>\n",
       "                                <td id=\"T_afa5776c_25c9_11ea_bb2b_ccb0da8bdd58row1_col0\" class=\"data row1 col0\" >0.25</td>\n",
       "                        <td id=\"T_afa5776c_25c9_11ea_bb2b_ccb0da8bdd58row1_col1\" class=\"data row1 col1\" >0.22754</td>\n",
       "            </tr>\n",
       "            <tr>\n",
       "                                <td id=\"T_afa5776c_25c9_11ea_bb2b_ccb0da8bdd58row2_col0\" class=\"data row2 col0\" >0.3</td>\n",
       "                        <td id=\"T_afa5776c_25c9_11ea_bb2b_ccb0da8bdd58row2_col1\" class=\"data row2 col1\" >0.267164</td>\n",
       "            </tr>\n",
       "            <tr>\n",
       "                                <td id=\"T_afa5776c_25c9_11ea_bb2b_ccb0da8bdd58row3_col0\" class=\"data row3 col0\" >0.35</td>\n",
       "                        <td id=\"T_afa5776c_25c9_11ea_bb2b_ccb0da8bdd58row3_col1\" class=\"data row3 col1\" >0.303376</td>\n",
       "            </tr>\n",
       "            <tr>\n",
       "                                <td id=\"T_afa5776c_25c9_11ea_bb2b_ccb0da8bdd58row4_col0\" class=\"data row4 col0\" >0.4</td>\n",
       "                        <td id=\"T_afa5776c_25c9_11ea_bb2b_ccb0da8bdd58row4_col1\" class=\"data row4 col1\" >0.335876</td>\n",
       "            </tr>\n",
       "            <tr>\n",
       "                                <td id=\"T_afa5776c_25c9_11ea_bb2b_ccb0da8bdd58row5_col0\" class=\"data row5 col0\" >0.45</td>\n",
       "                        <td id=\"T_afa5776c_25c9_11ea_bb2b_ccb0da8bdd58row5_col1\" class=\"data row5 col1\" >0.364425</td>\n",
       "            </tr>\n",
       "            <tr>\n",
       "                                <td id=\"T_afa5776c_25c9_11ea_bb2b_ccb0da8bdd58row6_col0\" class=\"data row6 col0\" >0.5</td>\n",
       "                        <td id=\"T_afa5776c_25c9_11ea_bb2b_ccb0da8bdd58row6_col1\" class=\"data row6 col1\" >0.388841</td>\n",
       "            </tr>\n",
       "    </tbody></table>"
      ],
      "text/plain": [
       "<pandas.io.formats.style.Styler at 0x16e9b8be748>"
      ]
     },
     "execution_count": 304,
     "metadata": {},
     "output_type": "execute_result"
    }
   ],
   "source": [
    "x_Adams_int = np.arange(4*h, 0.55, h)\n",
    "y_Adams_int = x_Adams_int*0\n",
    "\n",
    "x_help = np.arange(0, 0.55, h)\n",
    "y_help = runge_kutt(x_help, h)\n",
    "\n",
    "q = calculate_q(y_help, x_help, h)\n",
    "\n",
    "y_Adams_int[0] = y_help[4]\n",
    "y_Adams_int = Adams_int(y_Adams_int, h, q)\n",
    "\n",
    "d = {'$x$': x_Adams_int, '$y^{int}_{Adams}$': y_Adams_int}\n",
    "df = pd.DataFrame(data=d)\n",
    "df.style.hide_index()"
   ]
  },
  {
   "cell_type": "markdown",
   "metadata": {},
   "source": [
    "## Напечатать таблицу значений решения и погрешностей\n"
   ]
  },
  {
   "cell_type": "code",
   "execution_count": 305,
   "metadata": {},
   "outputs": [
    {
     "data": {
      "text/html": [
       "<style  type=\"text/css\" >\n",
       "</style><table id=\"T_b07f4d58_25c9_11ea_bd42_ccb0da8bdd58\" ><thead>    <tr>        <th class=\"col_heading level0 col0\" >$x$</th>        <th class=\"col_heading level0 col1\" >$|$$y - y_{R-K}|$</th>        <th class=\"col_heading level0 col2\" >$|$$y - y^{exp}_{Adams}$$|$</th>        <th class=\"col_heading level0 col3\" >$|$$y - y^{int}_{Adams}$$|$</th>    </tr></thead><tbody>\n",
       "                <tr>\n",
       "                                <td id=\"T_b07f4d58_25c9_11ea_bd42_ccb0da8bdd58row0_col0\" class=\"data row0 col0\" >0.2</td>\n",
       "                        <td id=\"T_b07f4d58_25c9_11ea_bd42_ccb0da8bdd58row0_col1\" class=\"data row0 col1\" >3.64317e-09</td>\n",
       "                        <td id=\"T_b07f4d58_25c9_11ea_bd42_ccb0da8bdd58row0_col2\" class=\"data row0 col2\" >3.64317e-09</td>\n",
       "                        <td id=\"T_b07f4d58_25c9_11ea_bd42_ccb0da8bdd58row0_col3\" class=\"data row0 col3\" >3.64317e-09</td>\n",
       "            </tr>\n",
       "            <tr>\n",
       "                                <td id=\"T_b07f4d58_25c9_11ea_bd42_ccb0da8bdd58row1_col0\" class=\"data row1 col0\" >0.25</td>\n",
       "                        <td id=\"T_b07f4d58_25c9_11ea_bd42_ccb0da8bdd58row1_col1\" class=\"data row1 col1\" >4.81081e-09</td>\n",
       "                        <td id=\"T_b07f4d58_25c9_11ea_bd42_ccb0da8bdd58row1_col2\" class=\"data row1 col2\" >4.02578e-07</td>\n",
       "                        <td id=\"T_b07f4d58_25c9_11ea_bd42_ccb0da8bdd58row1_col3\" class=\"data row1 col3\" >0.00305739</td>\n",
       "            </tr>\n",
       "            <tr>\n",
       "                                <td id=\"T_b07f4d58_25c9_11ea_bd42_ccb0da8bdd58row2_col0\" class=\"data row2 col0\" >0.3</td>\n",
       "                        <td id=\"T_b07f4d58_25c9_11ea_bd42_ccb0da8bdd58row2_col1\" class=\"data row2 col1\" >5.0156e-09</td>\n",
       "                        <td id=\"T_b07f4d58_25c9_11ea_bd42_ccb0da8bdd58row2_col2\" class=\"data row2 col2\" >8.68253e-07</td>\n",
       "                        <td id=\"T_b07f4d58_25c9_11ea_bd42_ccb0da8bdd58row2_col3\" class=\"data row2 col3\" >0.00646877</td>\n",
       "            </tr>\n",
       "            <tr>\n",
       "                                <td id=\"T_b07f4d58_25c9_11ea_bd42_ccb0da8bdd58row3_col0\" class=\"data row3 col0\" >0.35</td>\n",
       "                        <td id=\"T_b07f4d58_25c9_11ea_bd42_ccb0da8bdd58row3_col1\" class=\"data row3 col1\" >9.22158e-09</td>\n",
       "                        <td id=\"T_b07f4d58_25c9_11ea_bd42_ccb0da8bdd58row3_col2\" class=\"data row3 col2\" >1.38697e-06</td>\n",
       "                        <td id=\"T_b07f4d58_25c9_11ea_bd42_ccb0da8bdd58row3_col3\" class=\"data row3 col3\" >0.01018</td>\n",
       "            </tr>\n",
       "            <tr>\n",
       "                                <td id=\"T_b07f4d58_25c9_11ea_bd42_ccb0da8bdd58row4_col0\" class=\"data row4 col0\" >0.4</td>\n",
       "                        <td id=\"T_b07f4d58_25c9_11ea_bd42_ccb0da8bdd58row4_col1\" class=\"data row4 col1\" >2.03727e-08</td>\n",
       "                        <td id=\"T_b07f4d58_25c9_11ea_bd42_ccb0da8bdd58row4_col2\" class=\"data row4 col2\" >1.91954e-06</td>\n",
       "                        <td id=\"T_b07f4d58_25c9_11ea_bd42_ccb0da8bdd58row4_col3\" class=\"data row4 col3\" >0.0141325</td>\n",
       "            </tr>\n",
       "            <tr>\n",
       "                                <td id=\"T_b07f4d58_25c9_11ea_bd42_ccb0da8bdd58row5_col0\" class=\"data row5 col0\" >0.45</td>\n",
       "                        <td id=\"T_b07f4d58_25c9_11ea_bd42_ccb0da8bdd58row5_col1\" class=\"data row5 col1\" >3.04199e-08</td>\n",
       "                        <td id=\"T_b07f4d58_25c9_11ea_bd42_ccb0da8bdd58row5_col2\" class=\"data row5 col2\" >2.4451e-06</td>\n",
       "                        <td id=\"T_b07f4d58_25c9_11ea_bd42_ccb0da8bdd58row5_col3\" class=\"data row5 col3\" >0.0182647</td>\n",
       "            </tr>\n",
       "            <tr>\n",
       "                                <td id=\"T_b07f4d58_25c9_11ea_bd42_ccb0da8bdd58row6_col0\" class=\"data row6 col0\" >0.5</td>\n",
       "                        <td id=\"T_b07f4d58_25c9_11ea_bd42_ccb0da8bdd58row6_col1\" class=\"data row6 col1\" >4.16227e-08</td>\n",
       "                        <td id=\"T_b07f4d58_25c9_11ea_bd42_ccb0da8bdd58row6_col2\" class=\"data row6 col2\" >2.92586e-06</td>\n",
       "                        <td id=\"T_b07f4d58_25c9_11ea_bd42_ccb0da8bdd58row6_col3\" class=\"data row6 col3\" >0.0225145</td>\n",
       "            </tr>\n",
       "    </tbody></table>"
      ],
      "text/plain": [
       "<pandas.io.formats.style.Styler at 0x16e9b8b0d08>"
      ]
     },
     "execution_count": 305,
     "metadata": {},
     "output_type": "execute_result"
    }
   ],
   "source": [
    "y_ = y[4:]\n",
    "y_rk_ = y_rk[4:]\n",
    "x = np.arange(0, 0.55, h)[4:]\n",
    "\n",
    "d = {'$x$': x, '$|$$y - y_{R-K}|$': abs(y_ - y_rk_), '$|$$y - y^{exp}_{Adams}$$|$': abs(y_ -\n",
    "     y_Adams_exp), '$|$$y - y^{int}_{Adams}$$|$': abs(y_ - y_Adams_int)}\n",
    "\n",
    "df = pd.DataFrame(data=d)\n",
    "df.style.hide_index()"
   ]
  },
  {
   "cell_type": "code",
   "execution_count": null,
   "metadata": {},
   "outputs": [],
   "source": []
  }
 ],
 "metadata": {
  "kernelspec": {
   "display_name": "Python 3",
   "language": "python",
   "name": "python3"
  },
  "language_info": {
   "codemirror_mode": {
    "name": "ipython",
    "version": 3
   },
   "file_extension": ".py",
   "mimetype": "text/x-python",
   "name": "python",
   "nbconvert_exporter": "python",
   "pygments_lexer": "ipython3",
   "version": "3.7.4"
  },
  "toc": {
   "base_numbering": 1,
   "nav_menu": {},
   "number_sections": true,
   "sideBar": true,
   "skip_h1_title": false,
   "title_cell": "Table of Contents",
   "title_sidebar": "Contents",
   "toc_cell": false,
   "toc_position": {},
   "toc_section_display": true,
   "toc_window_display": false
  }
 },
 "nbformat": 4,
 "nbformat_minor": 2
}
