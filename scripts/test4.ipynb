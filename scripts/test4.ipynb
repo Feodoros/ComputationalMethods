{
 "cells": [
  {
   "cell_type": "markdown",
   "metadata": {},
   "source": [
    "Жилкин Федор, 344\n",
    "# Тест 4\n",
    "### Задание: Найти число обусловленности (cond) обобщенной матрицы Вандермонда и корня из нее.\n",
    "$b_k = k, a_k = (n + 1 - k)^{-1}, k = 1,...,n$\n",
    "\n",
    "\n"
   ]
  },
  {
   "cell_type": "markdown",
   "metadata": {},
   "source": [
    "**Необходимые мат. пакеты:**"
   ]
  },
  {
   "cell_type": "code",
   "execution_count": 1,
   "metadata": {},
   "outputs": [],
   "source": [
    "import numpy as np \n",
    "import scipy.linalg\n",
    "import pandas as pd"
   ]
  },
  {
   "cell_type": "markdown",
   "metadata": {},
   "source": [
    "**Заполняем матрицу:**"
   ]
  },
  {
   "cell_type": "code",
   "execution_count": 2,
   "metadata": {},
   "outputs": [],
   "source": [
    "def fill_matrix(n):\n",
    "    matrix = []\n",
    "    for i in range(1, n + 1):\n",
    "        line = []\n",
    "        for k in range(1, n + 1):\n",
    "            line.append((n + 1 - i)**(-1 * k))\n",
    "        matrix.append(line)\n",
    "    return np.array(matrix)"
   ]
  },
  {
   "cell_type": "markdown",
   "metadata": {},
   "source": [
    "**Считаем корень матрицы:**"
   ]
  },
  {
   "cell_type": "code",
   "execution_count": 3,
   "metadata": {},
   "outputs": [],
   "source": [
    "def sqrtm(m):\n",
    "    return scipy.linalg.sqrtm(m)"
   ]
  },
  {
   "cell_type": "markdown",
   "metadata": {},
   "source": [
    "**Считаем квадрат корня матрицы:**"
   ]
  },
  {
   "cell_type": "code",
   "execution_count": 25,
   "metadata": {},
   "outputs": [],
   "source": [
    "def square_sqrtm(m):\n",
    "    return np.dot(m, m)"
   ]
  },
  {
   "cell_type": "markdown",
   "metadata": {},
   "source": [
    "**Заполняем таблицу числами обусловленности:**"
   ]
  },
  {
   "cell_type": "code",
   "execution_count": 32,
   "metadata": {},
   "outputs": [],
   "source": [
    "def fill_table(n, ord_=None):\n",
    "    results = {}\n",
    "    cond1 = []\n",
    "    cond2 = []\n",
    "    errors = []\n",
    "    for i in range(1, n + 1):\n",
    "        m = fill_matrix(i)\n",
    "        sqrt_m = sqrtm(m)\n",
    "        square = square_sqrtm(sqrt_m)\n",
    "        cond1.append(np.linalg.cond(m, ord_))\n",
    "        cond2.append(np.linalg.cond(square, ord_))\n",
    "        errors.append(abs(np.linalg.cond(m, ord_) - np.linalg.cond(square, ord_)))\n",
    "    results[\"N\"] = list(range(1, n + 1))\n",
    "    results[\"Cond1\"] = cond1\n",
    "    results[\"Cond2\"] = cond2\n",
    "    results[\"Error\"] = errors\n",
    "    return results"
   ]
  },
  {
   "cell_type": "markdown",
   "metadata": {},
   "source": [
    "**Отображаем результат:**"
   ]
  },
  {
   "cell_type": "code",
   "execution_count": 33,
   "metadata": {},
   "outputs": [],
   "source": [
    "def show_res(n):\n",
    "    df = pd.DataFrame(data=fill_table(n))\n",
    "    return df.style.hide_index()"
   ]
  },
  {
   "cell_type": "code",
   "execution_count": 34,
   "metadata": {},
   "outputs": [
    {
     "data": {
      "text/html": [
       "<style  type=\"text/css\" >\n",
       "</style><table id=\"T_a975f503_a2b3_11ea_8664_ccb0da8bdd57\" ><thead>    <tr>        <th class=\"col_heading level0 col0\" >N</th>        <th class=\"col_heading level0 col1\" >Cond1</th>        <th class=\"col_heading level0 col2\" >Cond2</th>        <th class=\"col_heading level0 col3\" >Error</th>    </tr></thead><tbody>\n",
       "                <tr>\n",
       "                                <td id=\"T_a975f503_a2b3_11ea_8664_ccb0da8bdd57row0_col0\" class=\"data row0 col0\" >1</td>\n",
       "                        <td id=\"T_a975f503_a2b3_11ea_8664_ccb0da8bdd57row0_col1\" class=\"data row0 col1\" >1.000000</td>\n",
       "                        <td id=\"T_a975f503_a2b3_11ea_8664_ccb0da8bdd57row0_col2\" class=\"data row0 col2\" >1.000000</td>\n",
       "                        <td id=\"T_a975f503_a2b3_11ea_8664_ccb0da8bdd57row0_col3\" class=\"data row0 col3\" >0.000000</td>\n",
       "            </tr>\n",
       "            <tr>\n",
       "                                <td id=\"T_a975f503_a2b3_11ea_8664_ccb0da8bdd57row1_col0\" class=\"data row1 col0\" >2</td>\n",
       "                        <td id=\"T_a975f503_a2b3_11ea_8664_ccb0da8bdd57row1_col1\" class=\"data row1 col1\" >9.140598</td>\n",
       "                        <td id=\"T_a975f503_a2b3_11ea_8664_ccb0da8bdd57row1_col2\" class=\"data row1 col2\" >9.140598</td>\n",
       "                        <td id=\"T_a975f503_a2b3_11ea_8664_ccb0da8bdd57row1_col3\" class=\"data row1 col3\" >0.000000</td>\n",
       "            </tr>\n",
       "            <tr>\n",
       "                                <td id=\"T_a975f503_a2b3_11ea_8664_ccb0da8bdd57row2_col0\" class=\"data row2 col0\" >3</td>\n",
       "                        <td id=\"T_a975f503_a2b3_11ea_8664_ccb0da8bdd57row2_col1\" class=\"data row2 col1\" >118.822069</td>\n",
       "                        <td id=\"T_a975f503_a2b3_11ea_8664_ccb0da8bdd57row2_col2\" class=\"data row2 col2\" >118.822069</td>\n",
       "                        <td id=\"T_a975f503_a2b3_11ea_8664_ccb0da8bdd57row2_col3\" class=\"data row2 col3\" >0.000000</td>\n",
       "            </tr>\n",
       "            <tr>\n",
       "                                <td id=\"T_a975f503_a2b3_11ea_8664_ccb0da8bdd57row3_col0\" class=\"data row3 col0\" >4</td>\n",
       "                        <td id=\"T_a975f503_a2b3_11ea_8664_ccb0da8bdd57row3_col1\" class=\"data row3 col1\" >1969.812334</td>\n",
       "                        <td id=\"T_a975f503_a2b3_11ea_8664_ccb0da8bdd57row3_col2\" class=\"data row3 col2\" >1969.812334</td>\n",
       "                        <td id=\"T_a975f503_a2b3_11ea_8664_ccb0da8bdd57row3_col3\" class=\"data row3 col3\" >0.000000</td>\n",
       "            </tr>\n",
       "            <tr>\n",
       "                                <td id=\"T_a975f503_a2b3_11ea_8664_ccb0da8bdd57row4_col0\" class=\"data row4 col0\" >5</td>\n",
       "                        <td id=\"T_a975f503_a2b3_11ea_8664_ccb0da8bdd57row4_col1\" class=\"data row4 col1\" >39820.702598</td>\n",
       "                        <td id=\"T_a975f503_a2b3_11ea_8664_ccb0da8bdd57row4_col2\" class=\"data row4 col2\" >39820.702598</td>\n",
       "                        <td id=\"T_a975f503_a2b3_11ea_8664_ccb0da8bdd57row4_col3\" class=\"data row4 col3\" >0.000000</td>\n",
       "            </tr>\n",
       "            <tr>\n",
       "                                <td id=\"T_a975f503_a2b3_11ea_8664_ccb0da8bdd57row5_col0\" class=\"data row5 col0\" >6</td>\n",
       "                        <td id=\"T_a975f503_a2b3_11ea_8664_ccb0da8bdd57row5_col1\" class=\"data row5 col1\" >949760.533917</td>\n",
       "                        <td id=\"T_a975f503_a2b3_11ea_8664_ccb0da8bdd57row5_col2\" class=\"data row5 col2\" >949760.533874</td>\n",
       "                        <td id=\"T_a975f503_a2b3_11ea_8664_ccb0da8bdd57row5_col3\" class=\"data row5 col3\" >0.000043</td>\n",
       "            </tr>\n",
       "            <tr>\n",
       "                                <td id=\"T_a975f503_a2b3_11ea_8664_ccb0da8bdd57row6_col0\" class=\"data row6 col0\" >7</td>\n",
       "                        <td id=\"T_a975f503_a2b3_11ea_8664_ccb0da8bdd57row6_col1\" class=\"data row6 col1\" >26094840.001177</td>\n",
       "                        <td id=\"T_a975f503_a2b3_11ea_8664_ccb0da8bdd57row6_col2\" class=\"data row6 col2\" >26094839.989107</td>\n",
       "                        <td id=\"T_a975f503_a2b3_11ea_8664_ccb0da8bdd57row6_col3\" class=\"data row6 col3\" >0.012070</td>\n",
       "            </tr>\n",
       "            <tr>\n",
       "                                <td id=\"T_a975f503_a2b3_11ea_8664_ccb0da8bdd57row7_col0\" class=\"data row7 col0\" >8</td>\n",
       "                        <td id=\"T_a975f503_a2b3_11ea_8664_ccb0da8bdd57row7_col1\" class=\"data row7 col1\" >811284093.383962</td>\n",
       "                        <td id=\"T_a975f503_a2b3_11ea_8664_ccb0da8bdd57row7_col2\" class=\"data row7 col2\" >811284106.363762</td>\n",
       "                        <td id=\"T_a975f503_a2b3_11ea_8664_ccb0da8bdd57row7_col3\" class=\"data row7 col3\" >12.979801</td>\n",
       "            </tr>\n",
       "            <tr>\n",
       "                                <td id=\"T_a975f503_a2b3_11ea_8664_ccb0da8bdd57row8_col0\" class=\"data row8 col0\" >9</td>\n",
       "                        <td id=\"T_a975f503_a2b3_11ea_8664_ccb0da8bdd57row8_col1\" class=\"data row8 col1\" >28149643345.171818</td>\n",
       "                        <td id=\"T_a975f503_a2b3_11ea_8664_ccb0da8bdd57row8_col2\" class=\"data row8 col2\" >28149637296.770641</td>\n",
       "                        <td id=\"T_a975f503_a2b3_11ea_8664_ccb0da8bdd57row8_col3\" class=\"data row8 col3\" >6048.401176</td>\n",
       "            </tr>\n",
       "            <tr>\n",
       "                                <td id=\"T_a975f503_a2b3_11ea_8664_ccb0da8bdd57row9_col0\" class=\"data row9 col0\" >10</td>\n",
       "                        <td id=\"T_a975f503_a2b3_11ea_8664_ccb0da8bdd57row9_col1\" class=\"data row9 col1\" >1078150774019.147583</td>\n",
       "                        <td id=\"T_a975f503_a2b3_11ea_8664_ccb0da8bdd57row9_col2\" class=\"data row9 col2\" >1078175102652.320312</td>\n",
       "                        <td id=\"T_a975f503_a2b3_11ea_8664_ccb0da8bdd57row9_col3\" class=\"data row9 col3\" >24328633.172729</td>\n",
       "            </tr>\n",
       "    </tbody></table>"
      ],
      "text/plain": [
       "<pandas.io.formats.style.Styler at 0x178a01dceb0>"
      ]
     },
     "execution_count": 34,
     "metadata": {},
     "output_type": "execute_result"
    }
   ],
   "source": [
    "show_res(10)"
   ]
  },
  {
   "cell_type": "code",
   "execution_count": null,
   "metadata": {},
   "outputs": [],
   "source": []
  }
 ],
 "metadata": {
  "kernelspec": {
   "display_name": "Python 3",
   "language": "python",
   "name": "python3"
  },
  "language_info": {
   "codemirror_mode": {
    "name": "ipython",
    "version": 3
   },
   "file_extension": ".py",
   "mimetype": "text/x-python",
   "name": "python",
   "nbconvert_exporter": "python",
   "pygments_lexer": "ipython3",
   "version": "3.8.0"
  },
  "toc": {
   "base_numbering": 1,
   "nav_menu": {},
   "number_sections": false,
   "sideBar": true,
   "skip_h1_title": false,
   "title_cell": "Table of Contents",
   "title_sidebar": "Contents",
   "toc_cell": false,
   "toc_position": {},
   "toc_section_display": true,
   "toc_window_display": false
  }
 },
 "nbformat": 4,
 "nbformat_minor": 4
}
