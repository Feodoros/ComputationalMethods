{
 "cells": [
  {
   "cell_type": "markdown",
   "metadata": {},
   "source": [
    "Студент Жилкин Федор, 344\n",
    "# Домашняя работа 3: \"Интерполирование по равноотстоящим/неравноотстоящим узлам. Обратное интерполирование.\"\n",
    "**Задания:**\n",
    "1. Построить полиномы заданного порядка, вывести необходимые таблицы\n",
    "2. Выполнить обратное интерполирование, считая, что у данной функции нет обратной, для этого построить многочлен нужной степени и, прировняв к заданному значению, найти корень уравнения"
   ]
  },
  {
   "cell_type": "markdown",
   "metadata": {},
   "source": [
    "$f(x) = cos(x)$\n",
    "\n",
    "$[a, b] = [3.5, 4.5]$ \n",
    "\n",
    "**Точки интерполирования:** $\\; \\overline{x_1} = 3.45; \\; \\; \\overline{x_3} = 3.95$\n",
    "                            "
   ]
  },
  {
   "cell_type": "code",
   "execution_count": 1,
   "metadata": {},
   "outputs": [
    {
     "ename": "ModuleNotFoundError",
     "evalue": "No module named 'sympy'",
     "output_type": "error",
     "traceback": [
      "\u001b[1;31m---------------------------------------------------------------------------\u001b[0m",
      "\u001b[1;31mModuleNotFoundError\u001b[0m                       Traceback (most recent call last)",
      "\u001b[1;32m<ipython-input-1-9b7596e8d830>\u001b[0m in \u001b[0;36m<module>\u001b[1;34m\u001b[0m\n\u001b[0;32m      1\u001b[0m \u001b[1;32mimport\u001b[0m \u001b[0mnumpy\u001b[0m \u001b[1;32mas\u001b[0m \u001b[0mnp\u001b[0m\u001b[1;33m\u001b[0m\u001b[1;33m\u001b[0m\u001b[0m\n\u001b[0;32m      2\u001b[0m \u001b[1;32mimport\u001b[0m \u001b[0mmatplotlib\u001b[0m\u001b[1;33m.\u001b[0m\u001b[0mpyplot\u001b[0m \u001b[1;32mas\u001b[0m \u001b[0mplt\u001b[0m\u001b[1;33m\u001b[0m\u001b[1;33m\u001b[0m\u001b[0m\n\u001b[1;32m----> 3\u001b[1;33m \u001b[1;32mfrom\u001b[0m \u001b[0msympy\u001b[0m \u001b[1;32mimport\u001b[0m \u001b[1;33m*\u001b[0m\u001b[1;33m\u001b[0m\u001b[1;33m\u001b[0m\u001b[0m\n\u001b[0m\u001b[0;32m      4\u001b[0m \u001b[1;32mimport\u001b[0m \u001b[0mpandas\u001b[0m \u001b[1;32mas\u001b[0m \u001b[0mpd\u001b[0m\u001b[1;33m\u001b[0m\u001b[1;33m\u001b[0m\u001b[0m\n",
      "\u001b[1;31mModuleNotFoundError\u001b[0m: No module named 'sympy'"
     ]
    }
   ],
   "source": [
    "import numpy as np\n",
    "import matplotlib.pyplot as plt\n",
    "from sympy import *\n",
    "import pandas as pd"
   ]
  },
  {
   "cell_type": "code",
   "execution_count": null,
   "metadata": {},
   "outputs": [],
   "source": [
    "fig = plt.figure()\n",
    "fig.set_size_inches(18.5, 10.5)\n",
    "\n",
    "a = fig.add_subplot(1, 2, 1)\n",
    "x = np.linspace(0, 10, 100)\n",
    "y = [np.cos(i) for i in x]  \n",
    "a.plot(x, y, color='black')\n",
    "a.hlines(0, -1, 11, color='black')\n",
    "a.axvline(x=3.5, color='blue')\n",
    "a.axvline(x=4.5, color='blue')\n",
    "a.grid(True)\n",
    "\n",
    "a = fig.add_subplot(1, 2, 2)\n",
    "x = np.linspace(3.5, 4.5, 100)\n",
    "y = [np.cos(i) for i in x]  \n",
    "a.plot(x, y, color='black')\n",
    "a.axvline(x=3.5, color='blue')\n",
    "a.axvline(x=4.5, color='blue')\n",
    "a.grid(True)\n"
   ]
  },
  {
   "cell_type": "markdown",
   "metadata": {},
   "source": [
    "## Таблица значений функции"
   ]
  },
  {
   "cell_type": "code",
   "execution_count": 49,
   "metadata": {},
   "outputs": [],
   "source": [
    "def f(x):\n",
    "    return np.cos(x)"
   ]
  },
  {
   "cell_type": "code",
   "execution_count": 82,
   "metadata": {},
   "outputs": [],
   "source": [
    "def args_values_arrays(xl, xr, h=0.1):\n",
    "    x = xl\n",
    "    values = []\n",
    "    args = []\n",
    "    while x<=xr:\n",
    "        args.append(np.round(x, 1))\n",
    "        values.append(np.round(f(x), 5))\n",
    "        x += h\n",
    "    return args, values"
   ]
  },
  {
   "cell_type": "code",
   "execution_count": 83,
   "metadata": {},
   "outputs": [],
   "source": [
    "args, values = args_values_arrays(3.5, 4.5)"
   ]
  },
  {
   "cell_type": "code",
   "execution_count": 84,
   "metadata": {},
   "outputs": [],
   "source": [
    "def fill_table(args, values):\n",
    "    return pd.DataFrame({ 'x':args, 'cos(x)': values})   "
   ]
  },
  {
   "cell_type": "code",
   "execution_count": 85,
   "metadata": {},
   "outputs": [
    {
     "data": {
      "text/html": [
       "<div>\n",
       "<style scoped>\n",
       "    .dataframe tbody tr th:only-of-type {\n",
       "        vertical-align: middle;\n",
       "    }\n",
       "\n",
       "    .dataframe tbody tr th {\n",
       "        vertical-align: top;\n",
       "    }\n",
       "\n",
       "    .dataframe thead th {\n",
       "        text-align: right;\n",
       "    }\n",
       "</style>\n",
       "<table border=\"1\" class=\"dataframe\">\n",
       "  <thead>\n",
       "    <tr style=\"text-align: right;\">\n",
       "      <th></th>\n",
       "      <th>x</th>\n",
       "      <th>cos(x)</th>\n",
       "    </tr>\n",
       "  </thead>\n",
       "  <tbody>\n",
       "    <tr>\n",
       "      <td>0</td>\n",
       "      <td>3.5</td>\n",
       "      <td>-0.93646</td>\n",
       "    </tr>\n",
       "    <tr>\n",
       "      <td>1</td>\n",
       "      <td>3.6</td>\n",
       "      <td>-0.89676</td>\n",
       "    </tr>\n",
       "    <tr>\n",
       "      <td>2</td>\n",
       "      <td>3.7</td>\n",
       "      <td>-0.84810</td>\n",
       "    </tr>\n",
       "    <tr>\n",
       "      <td>3</td>\n",
       "      <td>3.8</td>\n",
       "      <td>-0.79097</td>\n",
       "    </tr>\n",
       "    <tr>\n",
       "      <td>4</td>\n",
       "      <td>3.9</td>\n",
       "      <td>-0.72593</td>\n",
       "    </tr>\n",
       "    <tr>\n",
       "      <td>5</td>\n",
       "      <td>4.0</td>\n",
       "      <td>-0.65364</td>\n",
       "    </tr>\n",
       "    <tr>\n",
       "      <td>6</td>\n",
       "      <td>4.1</td>\n",
       "      <td>-0.57482</td>\n",
       "    </tr>\n",
       "    <tr>\n",
       "      <td>7</td>\n",
       "      <td>4.2</td>\n",
       "      <td>-0.49026</td>\n",
       "    </tr>\n",
       "    <tr>\n",
       "      <td>8</td>\n",
       "      <td>4.3</td>\n",
       "      <td>-0.40080</td>\n",
       "    </tr>\n",
       "    <tr>\n",
       "      <td>9</td>\n",
       "      <td>4.4</td>\n",
       "      <td>-0.30733</td>\n",
       "    </tr>\n",
       "    <tr>\n",
       "      <td>10</td>\n",
       "      <td>4.5</td>\n",
       "      <td>-0.21080</td>\n",
       "    </tr>\n",
       "  </tbody>\n",
       "</table>\n",
       "</div>"
      ],
      "text/plain": [
       "      x   cos(x)\n",
       "0   3.5 -0.93646\n",
       "1   3.6 -0.89676\n",
       "2   3.7 -0.84810\n",
       "3   3.8 -0.79097\n",
       "4   3.9 -0.72593\n",
       "5   4.0 -0.65364\n",
       "6   4.1 -0.57482\n",
       "7   4.2 -0.49026\n",
       "8   4.3 -0.40080\n",
       "9   4.4 -0.30733\n",
       "10  4.5 -0.21080"
      ]
     },
     "execution_count": 85,
     "metadata": {},
     "output_type": "execute_result"
    }
   ],
   "source": [
    "fill_table(args, values)"
   ]
  },
  {
   "cell_type": "markdown",
   "metadata": {},
   "source": [
    "## Конечные разницы"
   ]
  },
  {
   "cell_type": "code",
   "execution_count": 97,
   "metadata": {},
   "outputs": [],
   "source": [
    "def C(n, k):\n",
    "    if 0 <= k <= n:\n",
    "        nn = 1\n",
    "        kk = 1\n",
    "        for t in range(1, min(k, n - k) + 1):\n",
    "            nn *= n\n",
    "            kk *= t\n",
    "            n -= 1\n",
    "        return nn // kk\n",
    "    else:\n",
    "        return 0"
   ]
  },
  {
   "cell_type": "code",
   "execution_count": 159,
   "metadata": {},
   "outputs": [],
   "source": [
    "def finite_difference(values, diffs):\n",
    "    i = 0\n",
    "    diffs_for_one = []\n",
    "    if (len(values) > 7):\n",
    "        for value in values:\n",
    "            if (i < len(values)-1):\n",
    "                diffs_for_one.append(np.round(value - values[i+1], 5))\n",
    "                i += 1\n",
    "            else:\n",
    "                #print(diffs)\n",
    "                diffs.append(diffs_for_one)\n",
    "                finite_difference(diffs_for_one, diffs)                \n",
    "    else:\n",
    "        print(\"\")\n",
    "    return diffs"
   ]
  },
  {
   "cell_type": "code",
   "execution_count": null,
   "metadata": {},
   "outputs": [],
   "source": []
  },
  {
   "cell_type": "code",
   "execution_count": 160,
   "metadata": {},
   "outputs": [
    {
     "name": "stdout",
     "output_type": "stream",
     "text": [
      "\n"
     ]
    },
    {
     "data": {
      "text/plain": [
       "[[-0.0397,\n",
       "  -0.04866,\n",
       "  -0.05713,\n",
       "  -0.06504,\n",
       "  -0.07229,\n",
       "  -0.07882,\n",
       "  -0.08456,\n",
       "  -0.08946,\n",
       "  -0.09347,\n",
       "  -0.09653],\n",
       " [0.00896,\n",
       "  0.00847,\n",
       "  0.00791,\n",
       "  0.00725,\n",
       "  0.00653,\n",
       "  0.00574,\n",
       "  0.0049,\n",
       "  0.00401,\n",
       "  0.00306],\n",
       " [0.00049, 0.00056, 0.00066, 0.00072, 0.00079, 0.00084, 0.00089, 0.00095],\n",
       " [-7e-05, -0.0001, -6e-05, -7e-05, -5e-05, -5e-05, -6e-05]]"
      ]
     },
     "execution_count": 160,
     "metadata": {},
     "output_type": "execute_result"
    }
   ],
   "source": [
    "f1 = finite_difference(values, [])\n",
    "f1"
   ]
  },
  {
   "cell_type": "code",
   "execution_count": 153,
   "metadata": {},
   "outputs": [
    {
     "name": "stdout",
     "output_type": "stream",
     "text": [
      "10\n",
      "9\n",
      "8\n",
      "7\n"
     ]
    }
   ],
   "source": [
    "for f in f1:\n",
    "    print(len(f))"
   ]
  },
  {
   "cell_type": "code",
   "execution_count": 109,
   "metadata": {},
   "outputs": [
    {
     "data": {
      "text/plain": [
       "[0.00049, 0.00056, 0.00066, 0.00072, 0.00079, 0.00084, 0.00089, 0.00095]"
      ]
     },
     "execution_count": 109,
     "metadata": {},
     "output_type": "execute_result"
    }
   ],
   "source": [
    "f3 = finite_difference(f2)\n",
    "f3"
   ]
  },
  {
   "cell_type": "code",
   "execution_count": 108,
   "metadata": {},
   "outputs": [
    {
     "data": {
      "text/plain": [
       "10"
      ]
     },
     "execution_count": 108,
     "metadata": {},
     "output_type": "execute_result"
    }
   ],
   "source": []
  },
  {
   "cell_type": "code",
   "execution_count": null,
   "metadata": {},
   "outputs": [],
   "source": []
  }
 ],
 "metadata": {
  "kernelspec": {
   "display_name": "Python 3",
   "language": "python",
   "name": "python3"
  },
  "toc": {
   "base_numbering": 1,
   "nav_menu": {},
   "number_sections": true,
   "sideBar": true,
   "skip_h1_title": false,
   "title_cell": "Table of Contents",
   "title_sidebar": "Contents",
   "toc_cell": false,
   "toc_position": {},
   "toc_section_display": true,
   "toc_window_display": false
  }
 },
 "nbformat": 4,
 "nbformat_minor": 2
}
