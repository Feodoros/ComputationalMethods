{
 "cells": [
  {
   "cell_type": "markdown",
   "metadata": {},
   "source": [
    "Студент Жилкин Федор, 344\n",
    "# Домашняя работа 4: \"Численное дифференцирование.\"\n",
    "**Задания:**\n",
    "1. Вычислить приближенно значения:\n",
    "    1. Первой производной функции $f(x)$ с порядком погрещности $O(h)$ и $O(h^2)$\n",
    "    2. Второй производной функции $f(x)$ с порядком погрещности $O(h^2)$\n",
    "\n",
    "2. Вычислить вторую разностную производную второго порядка аппроксимации функции $e^{2x}$, последовательно уменьшая шаг h\n",
    "3. Дифференцированием интерполяционного многочлена в форме Ньютона получить формулу численного дифференцирования для вычисления приближенного значения первой производной с третьим порядком аппроксимации в точке $x = x_2$"
   ]
  },
  {
   "cell_type": "code",
   "execution_count": 1,
   "metadata": {},
   "outputs": [],
   "source": [
    "import numpy as np\n",
    "import matplotlib.pyplot as plt\n",
    "from sympy import *\n",
    "import pandas as pd"
   ]
  },
  {
   "cell_type": "code",
   "execution_count": 2,
   "metadata": {},
   "outputs": [
    {
     "data": {
      "text/latex": [
       "$\\displaystyle e^{2 x}$"
      ],
      "text/plain": [
       "exp(2*x)"
      ]
     },
     "execution_count": 2,
     "metadata": {},
     "output_type": "execute_result"
    }
   ],
   "source": [
    "x = Symbol('x')\n",
    "y = exp(2*x)\n",
    "y"
   ]
  },
  {
   "cell_type": "markdown",
   "metadata": {},
   "source": [
    "## Вычисление производных"
   ]
  },
  {
   "cell_type": "code",
   "execution_count": 3,
   "metadata": {},
   "outputs": [],
   "source": [
    "def F(x):\n",
    "    return np.exp(2*x)"
   ]
  },
  {
   "cell_type": "code",
   "execution_count": 4,
   "metadata": {},
   "outputs": [],
   "source": [
    "def args_values_arrays(xl, xr, h=0.1):\n",
    "    x = xl\n",
    "    values = []\n",
    "    args = []\n",
    "    while x <= xr:\n",
    "        args.append(np.round(x, 1))\n",
    "        values.append(np.round(F(x), 5))\n",
    "        x += h\n",
    "    return args, values"
   ]
  },
  {
   "cell_type": "code",
   "execution_count": 5,
   "metadata": {},
   "outputs": [],
   "source": [
    "args, values = args_values_arrays(0, 1)"
   ]
  },
  {
   "cell_type": "code",
   "execution_count": 6,
   "metadata": {},
   "outputs": [],
   "source": [
    "def dfdx(f, ord_):\n",
    "    for i in range(ord_):\n",
    "        y = diff(f)\n",
    "        f = y\n",
    "    return lambdify(x, y, 'numpy')"
   ]
  },
  {
   "cell_type": "code",
   "execution_count": 7,
   "metadata": {},
   "outputs": [],
   "source": [
    "def calculate_derivatives(args=args, values=values, h=0.1):\n",
    "    i = 1\n",
    "    accurate_derivs_1 = []\n",
    "    accurate_derivs_2 = []\n",
    "    derivs_1_h1 = [round((values[1] - values[0]) / h, 4)]\n",
    "    derivs_1_h2 = [round((-3*values[0] + 4*values[1] - values[2]) / (2*h), 4),\n",
    "                  round((-3*values[1] + 4*values[2] - values[3]) / (2*h), 4)]\n",
    "    derivs_2_h2 = [nan]\n",
    "\n",
    "    g1 = dfdx(y, 1)\n",
    "    g2 = dfdx(y, 2)\n",
    "    for arg in args:\n",
    "        accurate_derivs_1.append(round(g1(arg), 4))\n",
    "        accurate_derivs_2.append(round(g2(arg), 4))\n",
    "    while i < len(values):\n",
    "        derivs_1_h1.append(round((values[i] - values[i-1]) / h, 4))\n",
    "        if i > 1:\n",
    "            derivs_1_h2.append(\n",
    "                round((3*values[i] - 4*values[i-1] + values[i-2]) / (2*h), 4))\n",
    "        if i < len(values) - 1:\n",
    "            derivs_2_h2.append(\n",
    "                round((values[i+1] - 2*values[i] + values[i-1]) / (h**2), 4))\n",
    "        i += 1\n",
    "    derivs_2_h2.append(nan)\n",
    "    return accurate_derivs_1, accurate_derivs_2, derivs_1_h1, derivs_1_h2, derivs_2_h2"
   ]
  },
  {
   "cell_type": "code",
   "execution_count": 8,
   "metadata": {},
   "outputs": [],
   "source": [
    "derivs = list(calculate_derivatives())"
   ]
  },
  {
   "cell_type": "code",
   "execution_count": 9,
   "metadata": {},
   "outputs": [],
   "source": [
    "def fill_table(args, values, derivs, func='f(x)'):\n",
    "    a = {}\n",
    "    a[\"$x$\"] = args\n",
    "    a[\"$f(x)$\"] = values\n",
    "    a[\"$f'(x)$\"] = derivs[0]\n",
    "    a[\"$f'(x)$ $+$ $O(h)$\"] = derivs[2]\n",
    "    a[\"$O(h)$\"] = [x - y for x, y in zip(derivs[0], derivs[2])]\n",
    "    a[\"$f'(x)$ $+$ $O(h^2)$\"] = derivs[3]\n",
    "    a[\"$O(h^2)$\"] = [x - y for x, y in zip(derivs[0], derivs[3])]  \n",
    "    a[\"$f''(x)$\"] = derivs[1]\n",
    "    a[\"$f''(x)$ $+$ $O(h^2)$\"] = derivs[4]\n",
    "    a[\"$(2)$ $O(h^2)$\"] = [x - y for x, y in zip(derivs[1], derivs[4])]  \n",
    "    \n",
    "    \n",
    "    df = pd.DataFrame.from_dict(a, orient='index')\n",
    "    df = df.transpose() \n",
    "\n",
    "    a.pop(\"$x$\")\n",
    "    a.pop(\"$O(h)$\")\n",
    "    a.pop(\"$f(x)$\")\n",
    "    a.pop(\"$O(h^2)$\")\n",
    "    a.pop(\"$f''(x)$\")\n",
    "    a.pop(\"$f''(x)$ $+$ $O(h^2)$\")\n",
    "    a.pop(\"$(2)$ $O(h^2)$\")\n",
    "    \n",
    "    df1 = pd.DataFrame.from_dict(a, orient='index')\n",
    "    df1 = df1.transpose()    \n",
    "   \n",
    "    df1.plot(figsize=(20,8))\n",
    "    \n",
    "    return df.style.hide_index()"
   ]
  },
  {
   "cell_type": "code",
   "execution_count": 10,
   "metadata": {
    "scrolled": false
   },
   "outputs": [
    {
     "data": {
      "text/html": [
       "<style  type=\"text/css\" >\n",
       "</style><table id=\"T_fb3a9eca_2068_11ea_be19_ccb0da8bdd58\" ><thead>    <tr>        <th class=\"col_heading level0 col0\" >$x$</th>        <th class=\"col_heading level0 col1\" >$f(x)$</th>        <th class=\"col_heading level0 col2\" >$f'(x)$</th>        <th class=\"col_heading level0 col3\" >$f'(x)$ $+$ $O(h)$</th>        <th class=\"col_heading level0 col4\" >$O(h)$</th>        <th class=\"col_heading level0 col5\" >$f'(x)$ $+$ $O(h^2)$</th>        <th class=\"col_heading level0 col6\" >$O(h^2)$</th>        <th class=\"col_heading level0 col7\" >$f''(x)$</th>        <th class=\"col_heading level0 col8\" >$f''(x)$ $+$ $O(h^2)$</th>        <th class=\"col_heading level0 col9\" >$(2)$ $O(h^2)$</th>    </tr></thead><tbody>\n",
       "                <tr>\n",
       "                                <td id=\"T_fb3a9eca_2068_11ea_be19_ccb0da8bdd58row0_col0\" class=\"data row0 col0\" >0</td>\n",
       "                        <td id=\"T_fb3a9eca_2068_11ea_be19_ccb0da8bdd58row0_col1\" class=\"data row0 col1\" >1</td>\n",
       "                        <td id=\"T_fb3a9eca_2068_11ea_be19_ccb0da8bdd58row0_col2\" class=\"data row0 col2\" >2</td>\n",
       "                        <td id=\"T_fb3a9eca_2068_11ea_be19_ccb0da8bdd58row0_col3\" class=\"data row0 col3\" >2.214</td>\n",
       "                        <td id=\"T_fb3a9eca_2068_11ea_be19_ccb0da8bdd58row0_col4\" class=\"data row0 col4\" >-0.214</td>\n",
       "                        <td id=\"T_fb3a9eca_2068_11ea_be19_ccb0da8bdd58row0_col5\" class=\"data row0 col5\" >1.9689</td>\n",
       "                        <td id=\"T_fb3a9eca_2068_11ea_be19_ccb0da8bdd58row0_col6\" class=\"data row0 col6\" >0.0311</td>\n",
       "                        <td id=\"T_fb3a9eca_2068_11ea_be19_ccb0da8bdd58row0_col7\" class=\"data row0 col7\" >4</td>\n",
       "                        <td id=\"T_fb3a9eca_2068_11ea_be19_ccb0da8bdd58row0_col8\" class=\"data row0 col8\" >nan</td>\n",
       "                        <td id=\"T_fb3a9eca_2068_11ea_be19_ccb0da8bdd58row0_col9\" class=\"data row0 col9\" >nan</td>\n",
       "            </tr>\n",
       "            <tr>\n",
       "                                <td id=\"T_fb3a9eca_2068_11ea_be19_ccb0da8bdd58row1_col0\" class=\"data row1 col0\" >0.1</td>\n",
       "                        <td id=\"T_fb3a9eca_2068_11ea_be19_ccb0da8bdd58row1_col1\" class=\"data row1 col1\" >1.2214</td>\n",
       "                        <td id=\"T_fb3a9eca_2068_11ea_be19_ccb0da8bdd58row1_col2\" class=\"data row1 col2\" >2.4428</td>\n",
       "                        <td id=\"T_fb3a9eca_2068_11ea_be19_ccb0da8bdd58row1_col3\" class=\"data row1 col3\" >2.214</td>\n",
       "                        <td id=\"T_fb3a9eca_2068_11ea_be19_ccb0da8bdd58row1_col4\" class=\"data row1 col4\" >0.2288</td>\n",
       "                        <td id=\"T_fb3a9eca_2068_11ea_be19_ccb0da8bdd58row1_col5\" class=\"data row1 col5\" >2.4048</td>\n",
       "                        <td id=\"T_fb3a9eca_2068_11ea_be19_ccb0da8bdd58row1_col6\" class=\"data row1 col6\" >0.038</td>\n",
       "                        <td id=\"T_fb3a9eca_2068_11ea_be19_ccb0da8bdd58row1_col7\" class=\"data row1 col7\" >4.8856</td>\n",
       "                        <td id=\"T_fb3a9eca_2068_11ea_be19_ccb0da8bdd58row1_col8\" class=\"data row1 col8\" >4.902</td>\n",
       "                        <td id=\"T_fb3a9eca_2068_11ea_be19_ccb0da8bdd58row1_col9\" class=\"data row1 col9\" >-0.0164</td>\n",
       "            </tr>\n",
       "            <tr>\n",
       "                                <td id=\"T_fb3a9eca_2068_11ea_be19_ccb0da8bdd58row2_col0\" class=\"data row2 col0\" >0.2</td>\n",
       "                        <td id=\"T_fb3a9eca_2068_11ea_be19_ccb0da8bdd58row2_col1\" class=\"data row2 col1\" >1.49182</td>\n",
       "                        <td id=\"T_fb3a9eca_2068_11ea_be19_ccb0da8bdd58row2_col2\" class=\"data row2 col2\" >2.9836</td>\n",
       "                        <td id=\"T_fb3a9eca_2068_11ea_be19_ccb0da8bdd58row2_col3\" class=\"data row2 col3\" >2.7042</td>\n",
       "                        <td id=\"T_fb3a9eca_2068_11ea_be19_ccb0da8bdd58row2_col4\" class=\"data row2 col4\" >0.2794</td>\n",
       "                        <td id=\"T_fb3a9eca_2068_11ea_be19_ccb0da8bdd58row2_col5\" class=\"data row2 col5\" >2.9493</td>\n",
       "                        <td id=\"T_fb3a9eca_2068_11ea_be19_ccb0da8bdd58row2_col6\" class=\"data row2 col6\" >0.0343</td>\n",
       "                        <td id=\"T_fb3a9eca_2068_11ea_be19_ccb0da8bdd58row2_col7\" class=\"data row2 col7\" >5.9673</td>\n",
       "                        <td id=\"T_fb3a9eca_2068_11ea_be19_ccb0da8bdd58row2_col8\" class=\"data row2 col8\" >5.988</td>\n",
       "                        <td id=\"T_fb3a9eca_2068_11ea_be19_ccb0da8bdd58row2_col9\" class=\"data row2 col9\" >-0.0207</td>\n",
       "            </tr>\n",
       "            <tr>\n",
       "                                <td id=\"T_fb3a9eca_2068_11ea_be19_ccb0da8bdd58row3_col0\" class=\"data row3 col0\" >0.3</td>\n",
       "                        <td id=\"T_fb3a9eca_2068_11ea_be19_ccb0da8bdd58row3_col1\" class=\"data row3 col1\" >1.82212</td>\n",
       "                        <td id=\"T_fb3a9eca_2068_11ea_be19_ccb0da8bdd58row3_col2\" class=\"data row3 col2\" >3.6442</td>\n",
       "                        <td id=\"T_fb3a9eca_2068_11ea_be19_ccb0da8bdd58row3_col3\" class=\"data row3 col3\" >3.303</td>\n",
       "                        <td id=\"T_fb3a9eca_2068_11ea_be19_ccb0da8bdd58row3_col4\" class=\"data row3 col4\" >0.3412</td>\n",
       "                        <td id=\"T_fb3a9eca_2068_11ea_be19_ccb0da8bdd58row3_col5\" class=\"data row3 col5\" >3.6024</td>\n",
       "                        <td id=\"T_fb3a9eca_2068_11ea_be19_ccb0da8bdd58row3_col6\" class=\"data row3 col6\" >0.0418</td>\n",
       "                        <td id=\"T_fb3a9eca_2068_11ea_be19_ccb0da8bdd58row3_col7\" class=\"data row3 col7\" >7.2885</td>\n",
       "                        <td id=\"T_fb3a9eca_2068_11ea_be19_ccb0da8bdd58row3_col8\" class=\"data row3 col8\" >7.312</td>\n",
       "                        <td id=\"T_fb3a9eca_2068_11ea_be19_ccb0da8bdd58row3_col9\" class=\"data row3 col9\" >-0.0235</td>\n",
       "            </tr>\n",
       "            <tr>\n",
       "                                <td id=\"T_fb3a9eca_2068_11ea_be19_ccb0da8bdd58row4_col0\" class=\"data row4 col0\" >0.4</td>\n",
       "                        <td id=\"T_fb3a9eca_2068_11ea_be19_ccb0da8bdd58row4_col1\" class=\"data row4 col1\" >2.22554</td>\n",
       "                        <td id=\"T_fb3a9eca_2068_11ea_be19_ccb0da8bdd58row4_col2\" class=\"data row4 col2\" >4.4511</td>\n",
       "                        <td id=\"T_fb3a9eca_2068_11ea_be19_ccb0da8bdd58row4_col3\" class=\"data row4 col3\" >4.0342</td>\n",
       "                        <td id=\"T_fb3a9eca_2068_11ea_be19_ccb0da8bdd58row4_col4\" class=\"data row4 col4\" >0.4169</td>\n",
       "                        <td id=\"T_fb3a9eca_2068_11ea_be19_ccb0da8bdd58row4_col5\" class=\"data row4 col5\" >4.3998</td>\n",
       "                        <td id=\"T_fb3a9eca_2068_11ea_be19_ccb0da8bdd58row4_col6\" class=\"data row4 col6\" >0.0513</td>\n",
       "                        <td id=\"T_fb3a9eca_2068_11ea_be19_ccb0da8bdd58row4_col7\" class=\"data row4 col7\" >8.9022</td>\n",
       "                        <td id=\"T_fb3a9eca_2068_11ea_be19_ccb0da8bdd58row4_col8\" class=\"data row4 col8\" >8.932</td>\n",
       "                        <td id=\"T_fb3a9eca_2068_11ea_be19_ccb0da8bdd58row4_col9\" class=\"data row4 col9\" >-0.0298</td>\n",
       "            </tr>\n",
       "            <tr>\n",
       "                                <td id=\"T_fb3a9eca_2068_11ea_be19_ccb0da8bdd58row5_col0\" class=\"data row5 col0\" >0.5</td>\n",
       "                        <td id=\"T_fb3a9eca_2068_11ea_be19_ccb0da8bdd58row5_col1\" class=\"data row5 col1\" >2.71828</td>\n",
       "                        <td id=\"T_fb3a9eca_2068_11ea_be19_ccb0da8bdd58row5_col2\" class=\"data row5 col2\" >5.4366</td>\n",
       "                        <td id=\"T_fb3a9eca_2068_11ea_be19_ccb0da8bdd58row5_col3\" class=\"data row5 col3\" >4.9274</td>\n",
       "                        <td id=\"T_fb3a9eca_2068_11ea_be19_ccb0da8bdd58row5_col4\" class=\"data row5 col4\" >0.5092</td>\n",
       "                        <td id=\"T_fb3a9eca_2068_11ea_be19_ccb0da8bdd58row5_col5\" class=\"data row5 col5\" >5.374</td>\n",
       "                        <td id=\"T_fb3a9eca_2068_11ea_be19_ccb0da8bdd58row5_col6\" class=\"data row5 col6\" >0.0626</td>\n",
       "                        <td id=\"T_fb3a9eca_2068_11ea_be19_ccb0da8bdd58row5_col7\" class=\"data row5 col7\" >10.8731</td>\n",
       "                        <td id=\"T_fb3a9eca_2068_11ea_be19_ccb0da8bdd58row5_col8\" class=\"data row5 col8\" >10.91</td>\n",
       "                        <td id=\"T_fb3a9eca_2068_11ea_be19_ccb0da8bdd58row5_col9\" class=\"data row5 col9\" >-0.0369</td>\n",
       "            </tr>\n",
       "            <tr>\n",
       "                                <td id=\"T_fb3a9eca_2068_11ea_be19_ccb0da8bdd58row6_col0\" class=\"data row6 col0\" >0.6</td>\n",
       "                        <td id=\"T_fb3a9eca_2068_11ea_be19_ccb0da8bdd58row6_col1\" class=\"data row6 col1\" >3.32012</td>\n",
       "                        <td id=\"T_fb3a9eca_2068_11ea_be19_ccb0da8bdd58row6_col2\" class=\"data row6 col2\" >6.6402</td>\n",
       "                        <td id=\"T_fb3a9eca_2068_11ea_be19_ccb0da8bdd58row6_col3\" class=\"data row6 col3\" >6.0184</td>\n",
       "                        <td id=\"T_fb3a9eca_2068_11ea_be19_ccb0da8bdd58row6_col4\" class=\"data row6 col4\" >0.6218</td>\n",
       "                        <td id=\"T_fb3a9eca_2068_11ea_be19_ccb0da8bdd58row6_col5\" class=\"data row6 col5\" >6.5639</td>\n",
       "                        <td id=\"T_fb3a9eca_2068_11ea_be19_ccb0da8bdd58row6_col6\" class=\"data row6 col6\" >0.0763</td>\n",
       "                        <td id=\"T_fb3a9eca_2068_11ea_be19_ccb0da8bdd58row6_col7\" class=\"data row6 col7\" >13.2805</td>\n",
       "                        <td id=\"T_fb3a9eca_2068_11ea_be19_ccb0da8bdd58row6_col8\" class=\"data row6 col8\" >13.324</td>\n",
       "                        <td id=\"T_fb3a9eca_2068_11ea_be19_ccb0da8bdd58row6_col9\" class=\"data row6 col9\" >-0.0435</td>\n",
       "            </tr>\n",
       "            <tr>\n",
       "                                <td id=\"T_fb3a9eca_2068_11ea_be19_ccb0da8bdd58row7_col0\" class=\"data row7 col0\" >0.7</td>\n",
       "                        <td id=\"T_fb3a9eca_2068_11ea_be19_ccb0da8bdd58row7_col1\" class=\"data row7 col1\" >4.0552</td>\n",
       "                        <td id=\"T_fb3a9eca_2068_11ea_be19_ccb0da8bdd58row7_col2\" class=\"data row7 col2\" >8.1104</td>\n",
       "                        <td id=\"T_fb3a9eca_2068_11ea_be19_ccb0da8bdd58row7_col3\" class=\"data row7 col3\" >7.3508</td>\n",
       "                        <td id=\"T_fb3a9eca_2068_11ea_be19_ccb0da8bdd58row7_col4\" class=\"data row7 col4\" >0.7596</td>\n",
       "                        <td id=\"T_fb3a9eca_2068_11ea_be19_ccb0da8bdd58row7_col5\" class=\"data row7 col5\" >8.017</td>\n",
       "                        <td id=\"T_fb3a9eca_2068_11ea_be19_ccb0da8bdd58row7_col6\" class=\"data row7 col6\" >0.0934</td>\n",
       "                        <td id=\"T_fb3a9eca_2068_11ea_be19_ccb0da8bdd58row7_col7\" class=\"data row7 col7\" >16.2208</td>\n",
       "                        <td id=\"T_fb3a9eca_2068_11ea_be19_ccb0da8bdd58row7_col8\" class=\"data row7 col8\" >16.275</td>\n",
       "                        <td id=\"T_fb3a9eca_2068_11ea_be19_ccb0da8bdd58row7_col9\" class=\"data row7 col9\" >-0.0542</td>\n",
       "            </tr>\n",
       "            <tr>\n",
       "                                <td id=\"T_fb3a9eca_2068_11ea_be19_ccb0da8bdd58row8_col0\" class=\"data row8 col0\" >0.8</td>\n",
       "                        <td id=\"T_fb3a9eca_2068_11ea_be19_ccb0da8bdd58row8_col1\" class=\"data row8 col1\" >4.95303</td>\n",
       "                        <td id=\"T_fb3a9eca_2068_11ea_be19_ccb0da8bdd58row8_col2\" class=\"data row8 col2\" >9.9061</td>\n",
       "                        <td id=\"T_fb3a9eca_2068_11ea_be19_ccb0da8bdd58row8_col3\" class=\"data row8 col3\" >8.9783</td>\n",
       "                        <td id=\"T_fb3a9eca_2068_11ea_be19_ccb0da8bdd58row8_col4\" class=\"data row8 col4\" >0.9278</td>\n",
       "                        <td id=\"T_fb3a9eca_2068_11ea_be19_ccb0da8bdd58row8_col5\" class=\"data row8 col5\" >9.792</td>\n",
       "                        <td id=\"T_fb3a9eca_2068_11ea_be19_ccb0da8bdd58row8_col6\" class=\"data row8 col6\" >0.1141</td>\n",
       "                        <td id=\"T_fb3a9eca_2068_11ea_be19_ccb0da8bdd58row8_col7\" class=\"data row8 col7\" >19.8121</td>\n",
       "                        <td id=\"T_fb3a9eca_2068_11ea_be19_ccb0da8bdd58row8_col8\" class=\"data row8 col8\" >19.879</td>\n",
       "                        <td id=\"T_fb3a9eca_2068_11ea_be19_ccb0da8bdd58row8_col9\" class=\"data row8 col9\" >-0.0669</td>\n",
       "            </tr>\n",
       "            <tr>\n",
       "                                <td id=\"T_fb3a9eca_2068_11ea_be19_ccb0da8bdd58row9_col0\" class=\"data row9 col0\" >0.9</td>\n",
       "                        <td id=\"T_fb3a9eca_2068_11ea_be19_ccb0da8bdd58row9_col1\" class=\"data row9 col1\" >6.04965</td>\n",
       "                        <td id=\"T_fb3a9eca_2068_11ea_be19_ccb0da8bdd58row9_col2\" class=\"data row9 col2\" >12.0993</td>\n",
       "                        <td id=\"T_fb3a9eca_2068_11ea_be19_ccb0da8bdd58row9_col3\" class=\"data row9 col3\" >10.9662</td>\n",
       "                        <td id=\"T_fb3a9eca_2068_11ea_be19_ccb0da8bdd58row9_col4\" class=\"data row9 col4\" >1.1331</td>\n",
       "                        <td id=\"T_fb3a9eca_2068_11ea_be19_ccb0da8bdd58row9_col5\" class=\"data row9 col5\" >11.9601</td>\n",
       "                        <td id=\"T_fb3a9eca_2068_11ea_be19_ccb0da8bdd58row9_col6\" class=\"data row9 col6\" >0.1392</td>\n",
       "                        <td id=\"T_fb3a9eca_2068_11ea_be19_ccb0da8bdd58row9_col7\" class=\"data row9 col7\" >24.1986</td>\n",
       "                        <td id=\"T_fb3a9eca_2068_11ea_be19_ccb0da8bdd58row9_col8\" class=\"data row9 col8\" >24.279</td>\n",
       "                        <td id=\"T_fb3a9eca_2068_11ea_be19_ccb0da8bdd58row9_col9\" class=\"data row9 col9\" >-0.0804</td>\n",
       "            </tr>\n",
       "            <tr>\n",
       "                                <td id=\"T_fb3a9eca_2068_11ea_be19_ccb0da8bdd58row10_col0\" class=\"data row10 col0\" >1</td>\n",
       "                        <td id=\"T_fb3a9eca_2068_11ea_be19_ccb0da8bdd58row10_col1\" class=\"data row10 col1\" >7.38906</td>\n",
       "                        <td id=\"T_fb3a9eca_2068_11ea_be19_ccb0da8bdd58row10_col2\" class=\"data row10 col2\" >14.7781</td>\n",
       "                        <td id=\"T_fb3a9eca_2068_11ea_be19_ccb0da8bdd58row10_col3\" class=\"data row10 col3\" >13.3941</td>\n",
       "                        <td id=\"T_fb3a9eca_2068_11ea_be19_ccb0da8bdd58row10_col4\" class=\"data row10 col4\" >1.384</td>\n",
       "                        <td id=\"T_fb3a9eca_2068_11ea_be19_ccb0da8bdd58row10_col5\" class=\"data row10 col5\" >14.608</td>\n",
       "                        <td id=\"T_fb3a9eca_2068_11ea_be19_ccb0da8bdd58row10_col6\" class=\"data row10 col6\" >0.1701</td>\n",
       "                        <td id=\"T_fb3a9eca_2068_11ea_be19_ccb0da8bdd58row10_col7\" class=\"data row10 col7\" >29.5562</td>\n",
       "                        <td id=\"T_fb3a9eca_2068_11ea_be19_ccb0da8bdd58row10_col8\" class=\"data row10 col8\" >nan</td>\n",
       "                        <td id=\"T_fb3a9eca_2068_11ea_be19_ccb0da8bdd58row10_col9\" class=\"data row10 col9\" >nan</td>\n",
       "            </tr>\n",
       "    </tbody></table>"
      ],
      "text/plain": [
       "<pandas.io.formats.style.Styler at 0x180ba52e808>"
      ]
     },
     "execution_count": 10,
     "metadata": {},
     "output_type": "execute_result"
    },
    {
     "data": {
      "image/png": "[encoded data removed]",
      "text/plain": [
       "<Figure size 1440x576 with 1 Axes>"
      ]
     },
     "metadata": {
      "needs_background": "light"
     },
     "output_type": "display_data"
    }
   ],
   "source": [
    "fill_table(args, values, derivs)"
   ]
  },
  {
   "cell_type": "markdown",
   "metadata": {},
   "source": [
    "## Вычисление второй разностной производной"
   ]
  },
  {
   "cell_type": "code",
   "execution_count": 11,
   "metadata": {},
   "outputs": [],
   "source": [
    "def difference_derivative(arg, h=0.1):\n",
    "    \n",
    "    def f():\n",
    "        return (3*F(arg) - 4*F(arg - h) + F(arg - 2*h))/(2*h)\n",
    "        \n",
    "    g = dfdx(y, 1)\n",
    "    g = g(arg)\n",
    "    delta = 1\n",
    "    error = abs(f() - g)\n",
    "    while delta > 0:\n",
    "        h = h/2\n",
    "        delta = error - abs(f()-g)\n",
    "        error = abs(f()-g)\n",
    "    return f(), h"
   ]
  },
  {
   "cell_type": "code",
   "execution_count": 12,
   "metadata": {},
   "outputs": [
    {
     "data": {
      "text/plain": [
       "109.19630007818341"
      ]
     },
     "execution_count": 12,
     "metadata": {},
     "output_type": "execute_result"
    }
   ],
   "source": [
    "der, h = difference_derivative(2)\n",
    "der"
   ]
  },
  {
   "cell_type": "code",
   "execution_count": 13,
   "metadata": {},
   "outputs": [
    {
     "data": {
      "text/plain": [
       "109.19630006628847"
      ]
     },
     "execution_count": 13,
     "metadata": {},
     "output_type": "execute_result"
    }
   ],
   "source": [
    "g = dfdx(y, 1)\n",
    "g(2)"
   ]
  },
  {
   "cell_type": "code",
   "execution_count": 14,
   "metadata": {},
   "outputs": [
    {
     "data": {
      "text/plain": [
       "1.1894940143974964e-08"
      ]
     },
     "execution_count": 14,
     "metadata": {},
     "output_type": "execute_result"
    }
   ],
   "source": [
    "abs(g(2) - der)"
   ]
  },
  {
   "cell_type": "markdown",
   "metadata": {},
   "source": [
    "**Погрешность: $1.189 * 10^{-8}$**"
   ]
  },
  {
   "cell_type": "code",
   "execution_count": 15,
   "metadata": {},
   "outputs": [
    {
     "data": {
      "text/plain": [
       "1.52587890625e-06"
      ]
     },
     "execution_count": 15,
     "metadata": {},
     "output_type": "execute_result"
    }
   ],
   "source": [
    "h"
   ]
  },
  {
   "cell_type": "markdown",
   "metadata": {},
   "source": [
    "**Оптимальный h: $1.526 * 10^{-6}$**"
   ]
  },
  {
   "cell_type": "markdown",
   "metadata": {},
   "source": [
    "## Дифференцирование интерполяционного многочлена"
   ]
  },
  {
   "cell_type": "code",
   "execution_count": 16,
   "metadata": {},
   "outputs": [],
   "source": [
    "def C(n, k):\n",
    "    if 0 <= k <= n:\n",
    "        nn = 1\n",
    "        kk = 1\n",
    "        for t in range(1, min(k, n - k) + 1):\n",
    "            nn *= n\n",
    "            kk *= t\n",
    "            n -= 1\n",
    "        return nn // kk\n",
    "    else:\n",
    "        return 0"
   ]
  },
  {
   "cell_type": "code",
   "execution_count": 17,
   "metadata": {},
   "outputs": [],
   "source": [
    "def finite_difference(values, rank=4, diffs=[]):\n",
    "    i = 0\n",
    "    diffs_for_one = []\n",
    "    if len(diffs) < rank:\n",
    "        for value in values:\n",
    "            if (i < len(values) - 1):\n",
    "                diffs_for_one.append(np.round(values[i+1] - value, 5))\n",
    "                i += 1\n",
    "            else:\n",
    "                diffs.append(diffs_for_one)\n",
    "                finite_difference(diffs_for_one, rank, diffs)\n",
    "    return diffs"
   ]
  },
  {
   "cell_type": "code",
   "execution_count": 18,
   "metadata": {},
   "outputs": [],
   "source": [
    "diffs  = finite_difference(values)"
   ]
  },
  {
   "cell_type": "code",
   "execution_count": 19,
   "metadata": {},
   "outputs": [],
   "source": [
    "def derivative_P(x):\n",
    "    h = 0.1\n",
    "    a = list(filter(lambda i: i < x, args))[-1:][0]\n",
    "    q = round((x - a) / h, 3)\n",
    "    index = args.index(a)\n",
    "    result = diffs[0][index] / h + (-(2*a + h - 2*x)/(2*h**2)) * diffs[1][index - 1] + (\n",
    "        -(-3*a**2 + h**2 + 6*a*x - 3*x**2)/(6*h**3)) * diffs[2][index - 1] + (\n",
    "        ((a + h - x)*(-4*a**2 + h**2 - h*x - 4*x**2 + a*(h + 8*x)))/(24*h**4)) * diffs[3][index - 2]\n",
    "    return result"
   ]
  },
  {
   "cell_type": "markdown",
   "metadata": {},
   "source": [
    "**Возьмем точку $x = 0.75$** "
   ]
  },
  {
   "cell_type": "code",
   "execution_count": 20,
   "metadata": {},
   "outputs": [
    {
     "data": {
      "text/plain": [
       "8.963378140676129"
      ]
     },
     "execution_count": 20,
     "metadata": {},
     "output_type": "execute_result"
    }
   ],
   "source": [
    "g = dfdx(y, 1)\n",
    "g(0.75)"
   ]
  },
  {
   "cell_type": "code",
   "execution_count": 21,
   "metadata": {},
   "outputs": [
    {
     "data": {
      "text/plain": [
       "8.962603125000001"
      ]
     },
     "execution_count": 21,
     "metadata": {},
     "output_type": "execute_result"
    }
   ],
   "source": [
    "derivative_P(0.75)"
   ]
  },
  {
   "cell_type": "code",
   "execution_count": 22,
   "metadata": {},
   "outputs": [
    {
     "data": {
      "text/plain": [
       "0.0007750156761279214"
      ]
     },
     "execution_count": 22,
     "metadata": {},
     "output_type": "execute_result"
    }
   ],
   "source": [
    "abs(g(0.75) - derivative_P(0.75))"
   ]
  },
  {
   "cell_type": "markdown",
   "metadata": {},
   "source": [
    "**Погрешность: $7.750 * 10^{-4}$**"
   ]
  },
  {
   "cell_type": "code",
   "execution_count": null,
   "metadata": {},
   "outputs": [],
   "source": []
  }
 ],
 "metadata": {
  "kernelspec": {
   "display_name": "Python 3",
   "language": "python",
   "name": "python3"
  },
  "language_info": {
   "codemirror_mode": {
    "name": "ipython",
    "version": 3
   },
   "file_extension": ".py",
   "mimetype": "text/x-python",
   "name": "python",
   "nbconvert_exporter": "python",
   "pygments_lexer": "ipython3",
   "version": "3.7.4"
  },
  "toc": {
   "base_numbering": 1,
   "nav_menu": {},
   "number_sections": true,
   "sideBar": true,
   "skip_h1_title": false,
   "title_cell": "Table of Contents",
   "title_sidebar": "Contents",
   "toc_cell": false,
   "toc_position": {},
   "toc_section_display": true,
   "toc_window_display": false
  }
 },
 "nbformat": 4,
 "nbformat_minor": 2
}
