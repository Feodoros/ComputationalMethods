{
 "cells": [
  {
   "cell_type": "markdown",
   "metadata": {},
   "source": [
    "Студент Жилкин Федор, 344\n",
    "# Домашняя работа 4: \"Численное решение интегрального уравнения Фредгольма 2-го рода.\"\n",
    "**Задания:**\n",
    "\n",
    "1. Метод механических квадратур  \n",
    "2. Метод замены ядра на вырожденное"
   ]
  },
  {
   "cell_type": "markdown",
   "metadata": {},
   "source": [
    "$u(x) - 5\\int\\limits_0^1 \\frac{ycos(x)}{xy-2}u(y)dy= 2 + \\frac{e^{5x}-1}{2x}$"
   ]
  },
  {
   "cell_type": "code",
   "execution_count": 62,
   "metadata": {},
   "outputs": [],
   "source": [
    "import numpy as np\n",
    "import pandas as pd \n",
    "import sympy"
   ]
  },
  {
   "cell_type": "code",
   "execution_count": 64,
   "metadata": {},
   "outputs": [],
   "source": [
    "# Используем предел для вычисления функции, \n",
    "# т.к. функция может не иметь значения в некоторых точках.\n",
    "def f(x):\n",
    "    X = sympy.symbols('x')\n",
    "    expr = 2+(sympy.exp(5*X)-1)/(2*X)\n",
    "    res = sympy.limit(expr, X ,x)\n",
    "    return float(res)"
   ]
  },
  {
   "cell_type": "code",
   "execution_count": 40,
   "metadata": {},
   "outputs": [],
   "source": [
    "def K(x, y):\n",
    "    return (y*np.cos(x))/(x*y-2)"
   ]
  },
  {
   "cell_type": "code",
   "execution_count": 7,
   "metadata": {},
   "outputs": [],
   "source": [
    "x = [i/10 for i in range(1,11)]\n",
    "f = [f(i) for i in x]"
   ]
  },
  {
   "cell_type": "code",
   "execution_count": 78,
   "metadata": {},
   "outputs": [],
   "source": [
    "# Рекурсивно записываем полином Лежандра\n",
    "def Legendre(n,x):\n",
    "    x=np.array(x)\n",
    "    if (n==0):\n",
    "        return x*0+1.0\n",
    "    elif (n==1):\n",
    "        return x\n",
    "    else:\n",
    "        return ((2.0*n-1.0)*x*Legendre(n-1,x)-(n-1)*Legendre(n-2,x))/n"
   ]
  },
  {
   "cell_type": "code",
   "execution_count": 79,
   "metadata": {},
   "outputs": [],
   "source": [
    "def DLegendre(n,x):\n",
    "    x=np.array(x)\n",
    "    if (n==0):\n",
    "        return x*0\n",
    "    elif (n==1):\n",
    "        return x*0+1.0\n",
    "    else:\n",
    "        return (n/(x**2-1.0))*(x*Legendre(n,x)-Legendre(n-1,x))"
   ]
  },
  {
   "cell_type": "code",
   "execution_count": 80,
   "metadata": {},
   "outputs": [],
   "source": [
    "# Корни полинома Лежандра по методу Ньютона-Рафсона\n",
    "def LegendreRoots(polyorder,tolerance=1e-20):\n",
    "    if polyorder<2:\n",
    "        err=1 \n",
    "    else:\n",
    "        roots=[]\n",
    "        for i in range(1,int(polyorder/2 +1)):\n",
    "            x = np.cos(np.pi*(i-0.25)/(polyorder+0.5))\n",
    "            error = 10*tolerance\n",
    "            iters = 0\n",
    "            while (error>tolerance) and (iters<1000):\n",
    "                dx=-Legendre(polyorder,x)/DLegendre(polyorder,x)\n",
    "                x=x+dx\n",
    "                iters=iters+1\n",
    "                error=abs(dx)\n",
    "            roots.append(x)\n",
    "        roots=np.array(roots)\n",
    "        if polyorder%2==0:\n",
    "            roots=np.concatenate( (-1.0*roots, roots[::-1]) )\n",
    "        else:\n",
    "            roots=np.concatenate( (-1.0*roots, [0.0], roots[::-1]) )\n",
    "        err=0 \n",
    "    return [roots, err]"
   ]
  },
  {
   "cell_type": "code",
   "execution_count": 48,
   "metadata": {},
   "outputs": [],
   "source": [
    "# Веса квадратурной формулы\n",
    "def GaussLegendreWeights(polyorder):\n",
    "    W=[]\n",
    "    [xis,err]=LegendreRoots(polyorder)\n",
    "    if err==0:\n",
    "        W=2.0/( (1.0-xis**2)*(DLegendre(polyorder,xis)**2) )\n",
    "        err=0\n",
    "    else:\n",
    "        err=1 \n",
    "    return [W, xis, err]\n"
   ]
  },
  {
   "cell_type": "code",
   "execution_count": 49,
   "metadata": {},
   "outputs": [],
   "source": [
    "def GaussLegendreQuadrature(func, polyorder, a, b):\n",
    "    [Ws,xs, err]= GaussLegendreWeights(polyorder)\n",
    "    if err==0:\n",
    "        ans=(b-a)*0.5*sum( Ws*func( (b-a)*0.5*xs+ (b+a)*0.5 ) )\n",
    "    else: \n",
    "        err=1\n",
    "        ans=None\n",
    "    return [ans,err]"
   ]
  },
  {
   "cell_type": "code",
   "execution_count": 50,
   "metadata": {},
   "outputs": [
    {
     "data": {
      "text/plain": [
       "[array([0.23692689, 0.47862867, 0.56888889, 0.47862867, 0.23692689]),\n",
       " array([-0.90617985, -0.53846931,  0.        ,  0.53846931,  0.90617985]),\n",
       " 0]"
      ]
     },
     "execution_count": 50,
     "metadata": {},
     "output_type": "execute_result"
    }
   ],
   "source": [
    "GaussLegendreWeights(5)"
   ]
  },
  {
   "cell_type": "code",
   "execution_count": 83,
   "metadata": {},
   "outputs": [],
   "source": [
    "# Метод механических квадратур\n",
    "def mechanical_quadrature(n, a, b):\n",
    "    \"\"\"\n",
    "    Решение интегрального уравнения методом механических квадратур\n",
    "    n -- кол-во точек разбиения отрезка [-1, 1] (кол-во корней мн-на Лежандра)\n",
    "    \"\"\"\n",
    "    W, X, er = GaussLegendreWeights(n)\n",
    "    if er == 1:\n",
    "        print(\"Ошибка в подборе корней Лежандра\")\n",
    "        return None\n",
    "    A = np.zeros((n, n))\n",
    "    B = np.zeros(n)\n",
    "    for i in range(0, n):\n",
    "        for j in range(0, n):\n",
    "            if j == i:\n",
    "                beta = 1\n",
    "            else:\n",
    "                beta = 0\n",
    "            A[i][j] = beta -5*W[j]*(b-a)*0.5*K((b-a)*0.5*X[i]+ (b+a)*0.5, (b-a)*0.5*X[j]+ (b+a)*0.5)\n",
    "        B[i] = f(X[i])\n",
    "    return A, B"
   ]
  },
  {
   "cell_type": "code",
   "execution_count": 85,
   "metadata": {},
   "outputs": [],
   "source": [
    "A, B = mechanical_quadrature(5, 0, 1)"
   ]
  },
  {
   "cell_type": "code",
   "execution_count": 88,
   "metadata": {},
   "outputs": [
    {
     "data": {
      "text/plain": [
       "array([-7.21567496, -7.76556239, -6.99955296,  3.13731602, 41.55739404])"
      ]
     },
     "execution_count": 88,
     "metadata": {},
     "output_type": "execute_result"
    }
   ],
   "source": [
    "z = np.linalg.solve(A, B)\n",
    "z"
   ]
  },
  {
   "cell_type": "code",
   "execution_count": null,
   "metadata": {},
   "outputs": [],
   "source": [
    "sum()"
   ]
  },
  {
   "cell_type": "code",
   "execution_count": null,
   "metadata": {},
   "outputs": [],
   "source": []
  },
  {
   "cell_type": "code",
   "execution_count": null,
   "metadata": {},
   "outputs": [],
   "source": []
  },
  {
   "cell_type": "code",
   "execution_count": null,
   "metadata": {},
   "outputs": [],
   "source": []
  },
  {
   "cell_type": "markdown",
   "metadata": {},
   "source": [
    "## Метод механических квадратур"
   ]
  },
  {
   "cell_type": "code",
   "execution_count": 25,
   "metadata": {},
   "outputs": [],
   "source": [
    "def define(a, b):\n",
    "    return a**3/3 - b**3/3"
   ]
  },
  {
   "cell_type": "code",
   "execution_count": null,
   "metadata": {},
   "outputs": [],
   "source": []
  },
  {
   "cell_type": "code",
   "execution_count": 56,
   "metadata": {},
   "outputs": [],
   "source": []
  },
  {
   "cell_type": "code",
   "execution_count": null,
   "metadata": {},
   "outputs": [],
   "source": []
  },
  {
   "cell_type": "code",
   "execution_count": 32,
   "metadata": {},
   "outputs": [
    {
     "data": {
      "text/plain": [
       "-93.33333333333333"
      ]
     },
     "execution_count": 32,
     "metadata": {},
     "output_type": "execute_result"
    }
   ],
   "source": [
    "define(-4,6)"
   ]
  },
  {
   "cell_type": "code",
   "execution_count": null,
   "metadata": {},
   "outputs": [],
   "source": []
  },
  {
   "cell_type": "code",
   "execution_count": null,
   "metadata": {},
   "outputs": [],
   "source": []
  },
  {
   "cell_type": "code",
   "execution_count": null,
   "metadata": {},
   "outputs": [],
   "source": []
  },
  {
   "cell_type": "code",
   "execution_count": null,
   "metadata": {},
   "outputs": [],
   "source": []
  },
  {
   "cell_type": "code",
   "execution_count": null,
   "metadata": {},
   "outputs": [],
   "source": []
  },
  {
   "cell_type": "code",
   "execution_count": null,
   "metadata": {},
   "outputs": [],
   "source": []
  },
  {
   "cell_type": "code",
   "execution_count": null,
   "metadata": {},
   "outputs": [],
   "source": []
  },
  {
   "cell_type": "code",
   "execution_count": null,
   "metadata": {},
   "outputs": [],
   "source": []
  },
  {
   "cell_type": "code",
   "execution_count": null,
   "metadata": {},
   "outputs": [],
   "source": []
  },
  {
   "cell_type": "code",
   "execution_count": null,
   "metadata": {},
   "outputs": [],
   "source": []
  },
  {
   "cell_type": "code",
   "execution_count": null,
   "metadata": {},
   "outputs": [],
   "source": []
  },
  {
   "cell_type": "code",
   "execution_count": null,
   "metadata": {},
   "outputs": [],
   "source": []
  }
 ],
 "metadata": {
  "kernelspec": {
   "display_name": "Python 3",
   "language": "python",
   "name": "python3"
  },
  "language_info": {
   "codemirror_mode": {
    "name": "ipython",
    "version": 3
   },
   "file_extension": ".py",
   "mimetype": "text/x-python",
   "name": "python",
   "nbconvert_exporter": "python",
   "pygments_lexer": "ipython3",
   "version": "3.8.0"
  },
  "toc": {
   "base_numbering": 1,
   "nav_menu": {},
   "number_sections": true,
   "sideBar": true,
   "skip_h1_title": false,
   "title_cell": "Table of Contents",
   "title_sidebar": "Contents",
   "toc_cell": false,
   "toc_position": {},
   "toc_section_display": true,
   "toc_window_display": false
  }
 },
 "nbformat": 4,
 "nbformat_minor": 4
}
