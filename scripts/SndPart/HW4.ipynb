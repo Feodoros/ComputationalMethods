{
 "cells": [
  {
   "cell_type": "markdown",
   "metadata": {},
   "source": [
    "Студент Жилкин Федор, 344\n",
    "# Домашняя работа 4: \"Численное решение интегрального уравнения Фредгольма 2-го рода.\"\n",
    "**Задания:**\n",
    "\n",
    "1. Метод механических квадратур  \n",
    "2. Метод замены ядра на вырожденное"
   ]
  },
  {
   "cell_type": "markdown",
   "metadata": {},
   "source": [
    "$u(x) + 0.5\\int\\limits_0^1 e^{xy}u(y)dy = x + 0.5$"
   ]
  },
  {
   "cell_type": "code",
   "execution_count": 62,
   "metadata": {},
   "outputs": [],
   "source": [
    "import numpy as np\n",
    "import pandas as pd \n",
    "import sympy"
   ]
  },
  {
   "cell_type": "code",
   "execution_count": 108,
   "metadata": {},
   "outputs": [],
   "source": [
    "# Функция f(x) справа\n",
    "def f(x):\n",
    "    return x + 0.5 "
   ]
  },
  {
   "cell_type": "code",
   "execution_count": 109,
   "metadata": {},
   "outputs": [],
   "source": [
    "# Ядро\n",
    "def K(x, y):\n",
    "    return np.exp(x*y)"
   ]
  },
  {
   "cell_type": "markdown",
   "metadata": {},
   "source": [
    "## Метод механических квадратур"
   ]
  },
  {
   "cell_type": "code",
   "execution_count": 159,
   "metadata": {},
   "outputs": [],
   "source": [
    "# Метод механических квадратур\n",
    "def mechanical_quadrature(n, X):\n",
    "     \n",
    "    \"\"\"\n",
    "    Решение интегрального уравнения методом механических квадратур\n",
    "    n -- кол-во точек разбиения отрезка\n",
    "    X -- точка\n",
    "    default: up, down = 1, 0\n",
    "    \"\"\"\n",
    "    \n",
    "    # Задаем равномерную сетку\n",
    "    up, down = 1, 0\n",
    "    h = (up - down)/n\n",
    "    x = [(down + i*h) for i in range(0, n)]\n",
    "    \n",
    "    A = np.zeros((n, n))\n",
    "    B = np.zeros(n)\n",
    "    \n",
    "    # Веса составной формулы средних прямоугольников\n",
    "    weights = np.ones(n)*h \n",
    "    weights[0] /= 2\n",
    "    weights[n-1] /= 2\n",
    "    \n",
    "    for i in range(0, n):\n",
    "        for j in range(0, n):\n",
    "            if j == i:\n",
    "                beta = 1\n",
    "            else:\n",
    "                beta = 0\n",
    "            A[i][j] = beta - weights[j]*K(x[i], x[j])\n",
    "        B[i] = f(x[i])\n",
    "    \n",
    "    # Нашли искомый вектор Z\n",
    "    Z = np.linalg.solve(A, B)\n",
    "    \n",
    "    # Решение уравнения\n",
    "    sum_ = sum([weights[i]*K(X, x[i])*Z[i] for i in range(0, n)])\n",
    "    u = -0.5*sum_ + f(X)\n",
    "    return u"
   ]
  },
  {
   "cell_type": "code",
   "execution_count": 162,
   "metadata": {},
   "outputs": [
    {
     "data": {
      "text/plain": [
       "4.098714964616895"
      ]
     },
     "execution_count": 162,
     "metadata": {},
     "output_type": "execute_result"
    }
   ],
   "source": [
    "mechanical_quadrature(1200,1)"
   ]
  },
  {
   "cell_type": "code",
   "execution_count": 194,
   "metadata": {},
   "outputs": [],
   "source": [
    "x = sympy.Symbol('x')\n",
    "f = sympy.integrate(x/(x**2+2*x+1), x)"
   ]
  },
  {
   "cell_type": "code",
   "execution_count": 213,
   "metadata": {},
   "outputs": [
    {
     "data": {
      "text/latex": [
       "$\\displaystyle \\log{\\left(x + 1 \\right)} + \\frac{1}{x + 1}$"
      ],
      "text/plain": [
       "log(x + 1) + 1/(x + 1)"
      ]
     },
     "execution_count": 213,
     "metadata": {},
     "output_type": "execute_result"
    }
   ],
   "source": [
    "f"
   ]
  },
  {
   "cell_type": "code",
   "execution_count": 215,
   "metadata": {},
   "outputs": [],
   "source": [
    "d = sympy.lambdify(x, f, 'numpy')"
   ]
  },
  {
   "cell_type": "code",
   "execution_count": 218,
   "metadata": {},
   "outputs": [
    {
     "data": {
      "text/plain": [
       "1.0"
      ]
     },
     "execution_count": 218,
     "metadata": {},
     "output_type": "execute_result"
    }
   ],
   "source": [
    "d(0)"
   ]
  },
  {
   "cell_type": "code",
   "execution_count": null,
   "metadata": {},
   "outputs": [],
   "source": []
  },
  {
   "cell_type": "markdown",
   "metadata": {},
   "source": [
    "Ядро $e^{xy}$ заменяем на вырожденное ядро: $e^{xy} = \\sum\\limits^{n}_{k=0}{\\frac{(xy)^{k}}{k!}} = \\sum\\limits^{n}_{k=0}x^k \\frac{y^k}{k!} = \\sum\\limits^{n}_{k=0}a_k(x)b_k(y)$\n",
    "\n",
    "Отсюда $a_k(x) = x^k$"
   ]
  },
  {
   "cell_type": "code",
   "execution_count": null,
   "metadata": {},
   "outputs": [],
   "source": [
    "def degenerate_kernel(n, X):\n",
    "    \n",
    "    \"\"\"\n",
    "    Решение интегрального уравнения методом замены ядра на вырожденное\n",
    "    n -- кол-во точек разбиения отрезка\n",
    "    X -- точка\n",
    "    default: up, down = 1, 0\n",
    "    \"\"\"\n",
    "    \n",
    "    # Задаем равномерную сетку\n",
    "    up, down = 1, 0\n",
    "    h = (up - down)/n\n",
    "    x = [(down + i*h) for i in range(0, n)]\n",
    "    \n",
    "    A = np.zeros((n, n))\n",
    "    B = np.zeros(n)\n",
    "    \n",
    "    \n",
    "    "
   ]
  },
  {
   "cell_type": "code",
   "execution_count": null,
   "metadata": {},
   "outputs": [],
   "source": []
  },
  {
   "cell_type": "code",
   "execution_count": null,
   "metadata": {},
   "outputs": [],
   "source": []
  },
  {
   "cell_type": "code",
   "execution_count": null,
   "metadata": {},
   "outputs": [],
   "source": []
  },
  {
   "cell_type": "code",
   "execution_count": null,
   "metadata": {},
   "outputs": [],
   "source": []
  },
  {
   "cell_type": "code",
   "execution_count": null,
   "metadata": {},
   "outputs": [],
   "source": []
  },
  {
   "cell_type": "code",
   "execution_count": null,
   "metadata": {},
   "outputs": [],
   "source": []
  },
  {
   "cell_type": "code",
   "execution_count": null,
   "metadata": {},
   "outputs": [],
   "source": []
  }
 ],
 "metadata": {
  "kernelspec": {
   "display_name": "Python 3",
   "language": "python",
   "name": "python3"
  },
  "language_info": {
   "codemirror_mode": {
    "name": "ipython",
    "version": 3
   },
   "file_extension": ".py",
   "mimetype": "text/x-python",
   "name": "python",
   "nbconvert_exporter": "python",
   "pygments_lexer": "ipython3",
   "version": "3.8.0"
  },
  "toc": {
   "base_numbering": 1,
   "nav_menu": {},
   "number_sections": true,
   "sideBar": true,
   "skip_h1_title": false,
   "title_cell": "Table of Contents",
   "title_sidebar": "Contents",
   "toc_cell": false,
   "toc_position": {},
   "toc_section_display": true,
   "toc_window_display": false
  }
 },
 "nbformat": 4,
 "nbformat_minor": 4
}
