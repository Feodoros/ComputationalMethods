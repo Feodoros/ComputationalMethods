{
 "cells": [
  {
   "cell_type": "markdown",
   "metadata": {},
   "source": [
    "Студент Жилкин Федор, 344\n",
    "# Домашняя работа 4: \"Численное решение интегрального уравнения Фредгольма 2-го рода.\"\n",
    "**Задания:**\n",
    "\n",
    "1. Метод замены ядра на вырожденное\n",
    "2. Метод механических квадратур  "
   ]
  },
  {
   "cell_type": "markdown",
   "metadata": {},
   "source": [
    "$u(x) + 0.5\\int\\limits_0^1 e^{xy}u(y)dy = x + 0.5$"
   ]
  },
  {
   "cell_type": "code",
   "execution_count": 71,
   "metadata": {},
   "outputs": [],
   "source": [
    "import numpy as np\n",
    "import pandas as pd \n",
    "import sympy\n",
    "import matplotlib.pyplot as plt "
   ]
  },
  {
   "cell_type": "code",
   "execution_count": 4,
   "metadata": {},
   "outputs": [],
   "source": [
    "# Функция f(x) справа\n",
    "def f(x):\n",
    "    return x + 0.5 "
   ]
  },
  {
   "cell_type": "code",
   "execution_count": 5,
   "metadata": {},
   "outputs": [],
   "source": [
    "# Ядро\n",
    "def K(x, y):\n",
    "    return np.exp(x*y)"
   ]
  },
  {
   "cell_type": "markdown",
   "metadata": {},
   "source": [
    "## Метод замены ядра на вырожденное"
   ]
  },
  {
   "cell_type": "markdown",
   "metadata": {},
   "source": [
    "Ядро $e^{xy}$ заменяем на вырожденное ядро: $e^{xy} = \\sum\\limits^{n}_{k=0}{\\frac{(xy)^{k}}{k!}} = \\sum\\limits^{n}_{k=0}x^k \\frac{y^k}{k!} = \\sum\\limits^{n}_{k=0}a_k(x)b_k(y)$\n",
    "\n",
    "Отсюда $a_k(x) = x^k$"
   ]
  },
  {
   "cell_type": "code",
   "execution_count": 12,
   "metadata": {},
   "outputs": [],
   "source": [
    "def integrate_omega(i, j):\n",
    "    \n",
    "    \"\"\"\n",
    "    Вычисляем интеграл ∫[y^(i+j)/i!]dy\n",
    "    default: up, down = 1, 0\n",
    "    \"\"\"\n",
    "    \n",
    "    up, down = 1, 0\n",
    "    y = sympy.Symbol('y')\n",
    "    d = sympy.integrate(y**(i+j)/sympy.factorial(i), y)\n",
    "    res = sympy.lambdify(y, d, 'numpy')\n",
    "    return res(up) - res(down)"
   ]
  },
  {
   "cell_type": "code",
   "execution_count": 13,
   "metadata": {},
   "outputs": [],
   "source": [
    "def integrate_beta(i):\n",
    "    \n",
    "    \"\"\"\n",
    "    Вычисляем интеграл ∫[y^(i)*f(y)/i!]dy\n",
    "    default: up, down = 1, 0\n",
    "    \"\"\"\n",
    "    \n",
    "    up, down = 1, 0\n",
    "    y = sympy.Symbol('y')\n",
    "    d = sympy.integrate(y**(i)/sympy.factorial(i) * (y + 0.5), y)\n",
    "    res = sympy.lambdify(y, d, 'numpy')\n",
    "    return res(up) - res(down)"
   ]
  },
  {
   "cell_type": "code",
   "execution_count": 14,
   "metadata": {},
   "outputs": [],
   "source": [
    "def degenerate_kernel(n, X):\n",
    "    \n",
    "    \"\"\"\n",
    "    Решение интегрального уравнения методом замены ядра на вырожденное\n",
    "    n -- кол-во точек разбиения отрезка\n",
    "    X -- точка\n",
    "    default: up, down = 1, 0\n",
    "    \"\"\"\n",
    "    \n",
    "    # Задаем равномерную сетку\n",
    "    up, down = 1, 0\n",
    "    h = (up - down)/n\n",
    "    x = [(down + i*h) for i in range(0, n)]\n",
    "    \n",
    "    A = np.zeros((n, n))\n",
    "    B = np.zeros(n)\n",
    "    \n",
    "    for i in range(0, n):\n",
    "        for j in range(0, n):\n",
    "            A[i][j] = int(i==j) - integrate_omega(i, j) # int(i==j) -- Символ Кронекера\n",
    "        B[i] = integrate_beta(i)\n",
    "        \n",
    "    # Искомый вектор C\n",
    "    C = np.linalg.solve(A, B)\n",
    "    \n",
    "    # Решение уравнения\n",
    "    sum_ = sum([C[i]*(X**i) for i in range(0,n)])\n",
    "    u = f(X) - 0.5*sum_\n",
    "    return u"
   ]
  },
  {
   "cell_type": "markdown",
   "metadata": {},
   "source": [
    "### Тестирование метода замены ядра"
   ]
  },
  {
   "cell_type": "code",
   "execution_count": 31,
   "metadata": {},
   "outputs": [],
   "source": [
    "def test_degenerate():\n",
    "    \"\"\"\n",
    "    Тестирование метода замены ядра на вырожденное.\n",
    "    Вычисляем u^3(x), u^4(x) в точках a, (a+b)/2, b\n",
    "    находим Δ \n",
    "    default: up, down = 1, 0\n",
    "    \"\"\"\n",
    "    u_3 = [degenerate_kernel(3, 0), degenerate_kernel(3, 0.5), degenerate_kernel(3, 1)]\n",
    "    u_4 = [degenerate_kernel(4, 0), degenerate_kernel(4, 0.5), degenerate_kernel(4, 1)]\n",
    "    delta = np.linalg.norm(list(map(abs, [x - y for x, y in zip(u_3, u_4)])))\n",
    "    return u_3, u_4, delta"
   ]
  },
  {
   "cell_type": "code",
   "execution_count": 90,
   "metadata": {},
   "outputs": [
    {
     "data": {
      "text/html": [
       "<style  type=\"text/css\" >\n",
       "</style><table id=\"T_4991f571_a80c_11ea_b5d5_ccb0da8bdd57\" ><thead>    <tr>        <th class=\"col_heading level0 col0\" >$$x$$</th>        <th class=\"col_heading level0 col1\" >$$a$$</th>        <th class=\"col_heading level0 col2\" >$$ \\frac{a+b}{2} $$</th>        <th class=\"col_heading level0 col3\" >$$b$$</th>    </tr></thead><tbody>\n",
       "                <tr>\n",
       "                                <td id=\"T_4991f571_a80c_11ea_b5d5_ccb0da8bdd57row0_col0\" class=\"data row0 col0\" >$$\\widetilde{u}^3(x)$$</td>\n",
       "                        <td id=\"T_4991f571_a80c_11ea_b5d5_ccb0da8bdd57row0_col1\" class=\"data row0 col1\" >2.027630</td>\n",
       "                        <td id=\"T_4991f571_a80c_11ea_b5d5_ccb0da8bdd57row0_col2\" class=\"data row0 col2\" >3.004287</td>\n",
       "                        <td id=\"T_4991f571_a80c_11ea_b5d5_ccb0da8bdd57row0_col3\" class=\"data row0 col3\" >4.120998</td>\n",
       "            </tr>\n",
       "            <tr>\n",
       "                                <td id=\"T_4991f571_a80c_11ea_b5d5_ccb0da8bdd57row1_col0\" class=\"data row1 col0\" >$$\\widetilde{u}^4(x)$$</td>\n",
       "                        <td id=\"T_4991f571_a80c_11ea_b5d5_ccb0da8bdd57row1_col1\" class=\"data row1 col1\" >1.966109</td>\n",
       "                        <td id=\"T_4991f571_a80c_11ea_b5d5_ccb0da8bdd57row1_col2\" class=\"data row1 col2\" >2.934846</td>\n",
       "                        <td id=\"T_4991f571_a80c_11ea_b5d5_ccb0da8bdd57row1_col3\" class=\"data row1 col3\" >4.091162</td>\n",
       "            </tr>\n",
       "    </tbody></table>"
      ],
      "text/plain": [
       "<pandas.io.formats.style.Styler at 0x211cef2deb0>"
      ]
     },
     "execution_count": 90,
     "metadata": {},
     "output_type": "execute_result"
    }
   ],
   "source": [
    "u_3, u_4, delta = test_degenerate()\n",
    "data = {'$$x$$': [\"$$\\widetilde{u}^3(x)$$\", \"$$\\widetilde{u}^4(x)$$\"],\n",
    "        \"$$a$$\": [u_3[0], u_4[0]],\n",
    "        \"$$ \\\\frac{a+b}{2} $$\" : [u_3[1], u_4[1]],\n",
    "        \"$$b$$\" : [u_3[2], u_4[2]],\n",
    "       }\n",
    "df = pd.DataFrame(data)\n",
    "df.style.hide_index()"
   ]
  },
  {
   "cell_type": "markdown",
   "metadata": {},
   "source": [
    "**Оценка $\\widetilde{\\Delta} = 0.09745$**"
   ]
  },
  {
   "cell_type": "code",
   "execution_count": 92,
   "metadata": {},
   "outputs": [
    {
     "data": {
      "image/png": "[encoded data removed]",
      "text/plain": [
       "<Figure size 576x432 with 1 Axes>"
      ]
     },
     "metadata": {
      "needs_background": "light"
     },
     "output_type": "display_data"
    }
   ],
   "source": [
    "x = [i/100 for i in range(0, 101)]\n",
    "u_3 = [degenerate_kernel(3, value) for value in x]\n",
    "u_4 = [degenerate_kernel(4, value) for value in x]\n",
    "\n",
    "fig, ax = plt.subplots(figsize=(8, 6))\n",
    "ax.set_xlabel(\"x\", fontsize=14)        \n",
    "ax.set_ylabel(\"u(x)\", fontsize=14)\n",
    "ax.grid(which=\"major\", linewidth=1.2)\n",
    "ax.grid(which=\"minor\", linestyle=\"--\", color=\"gray\", linewidth=0.5)\n",
    "ax.plot(x, u_3, label=\"u_3\")\n",
    "ax.plot(x, u_4, label=\"u_4\")\n",
    "ax.legend()\n",
    "\n",
    "ax.xaxis.set_minor_locator(plt.AutoLocator())\n",
    "ax.yaxis.set_minor_locator(plt.AutoLocator())\n",
    "\n",
    "ax.tick_params(which='major', length=10, width=2)\n",
    "ax.tick_params(which='minor', length=5, width=1)\n",
    "plt.show()"
   ]
  },
  {
   "cell_type": "markdown",
   "metadata": {},
   "source": [
    "## Метод механических квадратур"
   ]
  },
  {
   "cell_type": "code",
   "execution_count": 445,
   "metadata": {},
   "outputs": [],
   "source": [
    "def mechanical_quadrature(n, X):\n",
    "     \n",
    "    \"\"\"\n",
    "    Решение интегрального уравнения методом механических квадратур\n",
    "    n -- кол-во точек разбиения отрезка\n",
    "    X -- точка\n",
    "    default: up, down = 1, 0\n",
    "    \"\"\"\n",
    "    \n",
    "    # Задаем равномерную сетку\n",
    "    up, down = 1, 0\n",
    "    h = (up - down)/n\n",
    "    x = [(down + i*h) for i in range(0, n)]\n",
    "    \n",
    "    A = np.zeros((n, n))\n",
    "    B = np.zeros(n)\n",
    "    \n",
    "    # Веса составной формулы средних прямоугольников\n",
    "    weights = np.ones(n)*h \n",
    "    weights[0] /= 2\n",
    "    weights[n-1] /= 2\n",
    "    \n",
    "    for i in range(0, n):\n",
    "        for j in range(0, n):\n",
    "            A[i][j] = int(i==j) - weights[j]*K(x[i], x[j]) # int(i==j) -- Символ Кронекера\n",
    "        B[i] = f(x[i])\n",
    "    \n",
    "    # Искомый вектор Z\n",
    "    Z = np.linalg.solve(A, B)\n",
    "    \n",
    "    # Решение уравнения\n",
    "    sum_ = sum([weights[i]*K(X, x[i])*Z[i] for i in range(0, n)])\n",
    "    u = -0.5*sum_ + f(X)\n",
    "    return u"
   ]
  },
  {
   "cell_type": "code",
   "execution_count": 2,
   "metadata": {},
   "outputs": [
    {
     "data": {
      "text/plain": [
       "1923"
      ]
     },
     "execution_count": 2,
     "metadata": {},
     "output_type": "execute_result"
    }
   ],
   "source": [
    "1923"
   ]
  },
  {
   "cell_type": "markdown",
   "metadata": {},
   "source": [
    "### Тестирование метода механических квадратур"
   ]
  },
  {
   "cell_type": "code",
   "execution_count": null,
   "metadata": {},
   "outputs": [],
   "source": [
    "def test_degenerate():\n",
    "    \"\"\"\n",
    "    Тестирование метода замены ядра на вырожденное.\n",
    "    Вычисляем u^3(x), u^4(x) в точках a, (a+b)/2, b\n",
    "    находим Δ \n",
    "    default: up, down = 1, 0\n",
    "    \"\"\"\n",
    "    u_3 = [degenerate_kernel(3, 0), degenerate_kernel(3, 0.5), degenerate_kernel(3, 1)]\n",
    "    u_4 = [degenerate_kernel(4, 0), degenerate_kernel(4, 0.5), degenerate_kernel(4, 1)]\n",
    "    delta = np.linalg.norm(list(map(abs, [x - y for x, y in zip(u_3, u_4)])))\n",
    "    return u_3, u_4, delta"
   ]
  }
 ],
 "metadata": {
  "kernelspec": {
   "display_name": "Python 3",
   "language": "python",
   "name": "python3"
  },
  "language_info": {
   "codemirror_mode": {
    "name": "ipython",
    "version": 3
   },
   "file_extension": ".py",
   "mimetype": "text/x-python",
   "name": "python",
   "nbconvert_exporter": "python",
   "pygments_lexer": "ipython3",
   "version": "3.8.0"
  },
  "toc": {
   "base_numbering": 1,
   "nav_menu": {},
   "number_sections": true,
   "sideBar": true,
   "skip_h1_title": false,
   "title_cell": "Table of Contents",
   "title_sidebar": "Contents",
   "toc_cell": false,
   "toc_position": {},
   "toc_section_display": true,
   "toc_window_display": false
  }
 },
 "nbformat": 4,
 "nbformat_minor": 4
}
