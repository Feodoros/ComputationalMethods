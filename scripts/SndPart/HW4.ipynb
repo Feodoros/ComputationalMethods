{
 "cells": [
  {
   "cell_type": "markdown",
   "metadata": {},
   "source": [
    "Студент Жилкин Федор, 344\n",
    "# Домашняя работа 4: \"Численное решение интегрального уравнения Фредгольма 2-го рода.\"\n",
    "**Задания:**\n",
    "\n",
    "1. Метод механических квадратур  \n",
    "2. Метод замены ядра на вырожденное"
   ]
  },
  {
   "cell_type": "markdown",
   "metadata": {},
   "source": [
    "$u(x) + 0.5\\int\\limits_0^1 e^{xy}u(y)dy = x + 0.5$"
   ]
  },
  {
   "cell_type": "code",
   "execution_count": 62,
   "metadata": {},
   "outputs": [],
   "source": [
    "import numpy as np\n",
    "import pandas as pd \n",
    "import sympy"
   ]
  },
  {
   "cell_type": "code",
   "execution_count": 251,
   "metadata": {},
   "outputs": [],
   "source": [
    "# Функция f(x) справа\n",
    "def f(x):\n",
    "    return x + 0.5 "
   ]
  },
  {
   "cell_type": "code",
   "execution_count": 252,
   "metadata": {},
   "outputs": [],
   "source": [
    "# Ядро\n",
    "def K(x, y):\n",
    "    return np.exp(x*y)"
   ]
  },
  {
   "cell_type": "markdown",
   "metadata": {},
   "source": [
    "## Метод механических квадратур"
   ]
  },
  {
   "cell_type": "code",
   "execution_count": 329,
   "metadata": {},
   "outputs": [],
   "source": [
    "# Метод механических квадратур\n",
    "def mechanical_quadrature(n, X):\n",
    "     \n",
    "    \"\"\"\n",
    "    Решение интегрального уравнения методом механических квадратур\n",
    "    n -- кол-во точек разбиения отрезка\n",
    "    X -- точка\n",
    "    default: up, down = 1, 0\n",
    "    \"\"\"\n",
    "    \n",
    "    # Задаем равномерную сетку\n",
    "    up, down = 1, 0\n",
    "    h = (up - down)/n\n",
    "    x = [(down + i*h) for i in range(0, n)]\n",
    "    \n",
    "    A = np.zeros((n, n))\n",
    "    B = np.zeros(n)\n",
    "    \n",
    "    # Веса составной формулы средних прямоугольников\n",
    "    weights = np.ones(n)*h \n",
    "    weights[0] /= 2\n",
    "    weights[n-1] /= 2\n",
    "    \n",
    "    for i in range(0, n):\n",
    "        for j in range(0, n):\n",
    "            if j == i:\n",
    "                beta = 1\n",
    "            else:\n",
    "                beta = 0\n",
    "            A[i][j] = beta - weights[j]*K(x[i], x[j])\n",
    "        B[i] = f(x[i])\n",
    "    \n",
    "    # Нашли искомый вектор Z\n",
    "    Z = np.linalg.solve(A, B)\n",
    "    \n",
    "    # Решение уравнения\n",
    "    sum_ = sum([weights[i]*K(X, x[i])*Z[i] for i in range(0, n)])\n",
    "    u = -0.5*sum_ + f(X)\n",
    "    return u"
   ]
  },
  {
   "cell_type": "code",
   "execution_count": 363,
   "metadata": {},
   "outputs": [
    {
     "data": {
      "text/plain": [
       "2.1368947678067136"
      ]
     },
     "execution_count": 363,
     "metadata": {},
     "output_type": "execute_result"
    }
   ],
   "source": [
    "mechanical_quadrature(4800, 0.1)"
   ]
  },
  {
   "cell_type": "code",
   "execution_count": 417,
   "metadata": {},
   "outputs": [
    {
     "data": {
      "text/plain": [
       "2.135295269050406"
      ]
     },
     "execution_count": 417,
     "metadata": {},
     "output_type": "execute_result"
    }
   ],
   "source": [
    "degenerate_kernel(60, 0.1)"
   ]
  },
  {
   "cell_type": "code",
   "execution_count": null,
   "metadata": {},
   "outputs": [],
   "source": []
  },
  {
   "cell_type": "code",
   "execution_count": null,
   "metadata": {},
   "outputs": [],
   "source": []
  },
  {
   "cell_type": "markdown",
   "metadata": {},
   "source": [
    "Ядро $e^{xy}$ заменяем на вырожденное ядро: $e^{xy} = \\sum\\limits^{n}_{k=0}{\\frac{(xy)^{k}}{k!}} = \\sum\\limits^{n}_{k=0}x^k \\frac{y^k}{k!} = \\sum\\limits^{n}_{k=0}a_k(x)b_k(y)$\n",
    "\n",
    "Отсюда $a_k(x) = x^k$"
   ]
  },
  {
   "cell_type": "code",
   "execution_count": 402,
   "metadata": {},
   "outputs": [],
   "source": [
    "def integrate(i, j):\n",
    "    \"\"\"\n",
    "    Вычисляем интеграл ∫[y^(i+j)/i!]dy\n",
    "    default: up, down = 1, 0\n",
    "    \"\"\"\n",
    "    up, down = 1, 0\n",
    "    y = sympy.Symbol('y')\n",
    "    d = sympy.integrate(y**(i+j)/math.factorial(i), y)\n",
    "    res = sympy.lambdify(y, d, 'numpy')\n",
    "    return res(up) - res(down)"
   ]
  },
  {
   "cell_type": "code",
   "execution_count": 408,
   "metadata": {},
   "outputs": [],
   "source": [
    "def degenerate_kernel(n, X):\n",
    "    \n",
    "    \"\"\"\n",
    "    Решение интегрального уравнения методом замены ядра на вырожденное\n",
    "    n -- кол-во точек разбиения отрезка\n",
    "    X -- точка\n",
    "    default: up, down = 1, 0\n",
    "    \"\"\"\n",
    "    \n",
    "    # Задаем равномерную сетку\n",
    "    up, down = 1, 0\n",
    "    h = (up - down)/n\n",
    "    x = [(down + i*h) for i in range(0, n)]\n",
    "    \n",
    "    A = np.zeros((n, n))\n",
    "    B = np.zeros(n)\n",
    "    \n",
    "    for i in range(0, n):\n",
    "        for j in range(0, n):\n",
    "            if j == i:\n",
    "                beta = 1\n",
    "            else:\n",
    "                beta = 0\n",
    "            A[i][j] = beta - integrate(i, j)\n",
    "        B[i] = integrate_2(i)\n",
    "        \n",
    "    # Обратная матрица к А\n",
    "    D = np.linalg.inv(A)\n",
    "    \n",
    "    # Искомый вектор C\n",
    "    #C = np.zeros(n)\n",
    "    #for i in range(0, n):\n",
    "     #   C[i] = sum([D[i][j]*B[j] for j in range(0, n)])\n",
    "    C = np.linalg.solve(A, B)\n",
    "    sum_ = sum([C[i]*(X**i) for i in range(0,n)])\n",
    "    u = f(X) - 0.5*sum_\n",
    "    return u"
   ]
  },
  {
   "cell_type": "code",
   "execution_count": 405,
   "metadata": {},
   "outputs": [],
   "source": [
    "def integrate_2(i):\n",
    "    \"\"\"\n",
    "    Вычисляем интеграл ∫[y^(i+j)/i!]dy\n",
    "    default: up, down = 1, 0\n",
    "    \"\"\"\n",
    "    up, down = 1, 0\n",
    "    y = sympy.Symbol('y')\n",
    "    d = sympy.integrate(y**(i)/math.factorial(i) * (y + 0.5), y)\n",
    "    res = sympy.lambdify(y, d, 'numpy')\n",
    "    return res(up) - res(down)"
   ]
  },
  {
   "cell_type": "code",
   "execution_count": 406,
   "metadata": {},
   "outputs": [
    {
     "data": {
      "text/plain": [
       "0.20833333333333331"
      ]
     },
     "execution_count": 406,
     "metadata": {},
     "output_type": "execute_result"
    }
   ],
   "source": [
    "integrate_2(2)"
   ]
  },
  {
   "cell_type": "code",
   "execution_count": 407,
   "metadata": {},
   "outputs": [
    {
     "data": {
      "text/plain": [
       "0.8"
      ]
     },
     "execution_count": 407,
     "metadata": {},
     "output_type": "execute_result"
    }
   ],
   "source": [
    "f(0.3)"
   ]
  },
  {
   "cell_type": "code",
   "execution_count": null,
   "metadata": {},
   "outputs": [],
   "source": []
  }
 ],
 "metadata": {
  "kernelspec": {
   "display_name": "Python 3",
   "language": "python",
   "name": "python3"
  },
  "language_info": {
   "codemirror_mode": {
    "name": "ipython",
    "version": 3
   },
   "file_extension": ".py",
   "mimetype": "text/x-python",
   "name": "python",
   "nbconvert_exporter": "python",
   "pygments_lexer": "ipython3",
   "version": "3.8.0"
  },
  "toc": {
   "base_numbering": 1,
   "nav_menu": {},
   "number_sections": true,
   "sideBar": true,
   "skip_h1_title": false,
   "title_cell": "Table of Contents",
   "title_sidebar": "Contents",
   "toc_cell": false,
   "toc_position": {},
   "toc_section_display": true,
   "toc_window_display": false
  }
 },
 "nbformat": 4,
 "nbformat_minor": 4
}
