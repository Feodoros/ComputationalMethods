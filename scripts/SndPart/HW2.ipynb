{
 "cells": [
  {
   "cell_type": "markdown",
   "metadata": {},
   "source": [
    "Студент Жилкин Федор, 344\n",
    "# Домашняя работа 2: \"Итерационные методы решения СЛАУ.\"\n",
    "**Задания:**\n",
    "\n",
    "1. Метод простой итерации (с уточнением по Люстернику)\n",
    "2. Метод Зейделя (с уточнением по Люстернику)\n",
    "3. Метод верхней релаксации\n",
    " \n",
    "$ A = \n",
    "\\left(\\begin{array}{ccc|c} \n",
    "6.687233 & 0.80267  & -2.06459 & 0\\\\ \n",
    "0.80267 & 5.07816 & 0.48037  & 1\\\\\n",
    "-2.06459 & 0.48037 & 4.02934 & 0\n",
    "\\end{array}\\right)\n",
    "$"
   ]
  },
  {
   "cell_type": "code",
   "execution_count": 1,
   "metadata": {},
   "outputs": [],
   "source": [
    "import numpy as np"
   ]
  },
  {
   "cell_type": "code",
   "execution_count": 2,
   "metadata": {},
   "outputs": [],
   "source": [
    "A = np.array([[6.687233, 0.80267, -2.06459], [0.80267, 5.07816, 0.48037], [-2.06459, 0.48037, 4.02934]])"
   ]
  },
  {
   "cell_type": "code",
   "execution_count": 3,
   "metadata": {},
   "outputs": [],
   "source": [
    "B = np.array([[0.], [1.], [0.]])"
   ]
  },
  {
   "cell_type": "code",
   "execution_count": 4,
   "metadata": {},
   "outputs": [],
   "source": [
    "# Необходимая точность\n",
    "eps = 0.0001"
   ]
  },
  {
   "cell_type": "code",
   "execution_count": 13,
   "metadata": {},
   "outputs": [
    {
     "data": {
      "text/plain": [
       "[-0.038609580502971634, 0.20723292452262765, -0.04448903139560444]"
      ]
     },
     "execution_count": 13,
     "metadata": {},
     "output_type": "execute_result"
    }
   ],
   "source": [
    "x_real = list(map(lambda x: x[0], np.linalg.solve(A, B)))\n",
    "x_real"
   ]
  },
  {
   "cell_type": "markdown",
   "metadata": {},
   "source": [
    "## Метод простой итерации"
   ]
  },
  {
   "cell_type": "code",
   "execution_count": 23,
   "metadata": {},
   "outputs": [],
   "source": [
    "def iterative_method(A, B):\n",
    "    \n",
    "    n = len(A)\n",
    "    beta = np.zeros(n)\n",
    "    alpha = np.zeros((n, n))\n",
    "    x = np.zeros(n)\n",
    "    \n",
    "    # Заполняем матрицы alpha и beta\n",
    "    for i in range(0, n):\n",
    "        beta[i] = B[i][0] / A[i][i]\n",
    "        for j in range(0, n):\n",
    "            if (i == j):\n",
    "                alpha[i][j] = 0\n",
    "            else:\n",
    "                alpha[i][j] = - A[i][j]/A[i][i]\n",
    "\n",
    "    # Нулевое приближение\n",
    "    x = np.copy(beta)  \n",
    "    \n",
    "    # Количество итераций\n",
    "    i = 0 \n",
    "    \n",
    "    # Итерационное приближение\n",
    "    while(False in list(map(lambda x: x < eps, abs(x - x_real)))):\n",
    "        tmp = np.copy(x)\n",
    "        x = beta + np.dot(alpha, tmp)\n",
    "        i += 1\n",
    "    return x, i"
   ]
  },
  {
   "cell_type": "code",
   "execution_count": 24,
   "metadata": {},
   "outputs": [
    {
     "data": {
      "text/plain": [
       "(array([-0.03853631,  0.20718989, -0.04439994]), 8)"
      ]
     },
     "execution_count": 24,
     "metadata": {},
     "output_type": "execute_result"
    }
   ],
   "source": [
    "x1, i1 = iterative_method(A, B)\n",
    "x1, i1"
   ]
  },
  {
   "cell_type": "markdown",
   "metadata": {},
   "source": [
    "**Ответ:**\n",
    "$ X = \n",
    "\\begin{pmatrix}\n",
    " -0.03853631 \\\\\n",
    " 0.20718989 \\\\\n",
    " -0.04439994\n",
    "\\end{pmatrix}\n",
    "$\n",
    "\n",
    "**Решение получено за 8 итераций**"
   ]
  },
  {
   "cell_type": "markdown",
   "metadata": {},
   "source": [
    "## Метод Зейделя"
   ]
  },
  {
   "cell_type": "code",
   "execution_count": 25,
   "metadata": {},
   "outputs": [],
   "source": [
    "def seidel(A, B):\n",
    "    \n",
    "    n = len(A)\n",
    "    x = np.zeros(n)\n",
    "    \n",
    "    # Количество итераций\n",
    "    i = 0 \n",
    "    \n",
    "    while(False in list(map(lambda x: x < eps, abs(x-x_real)))):\n",
    "        x_new = np.copy(x)\n",
    "        for i in range(n):\n",
    "            s1 = sum(A[i][j] * x_new[j] for j in range(i))\n",
    "            s2 = sum(A[i][j] * x[j] for j in range(i + 1, n))\n",
    "            x_new[i] = (B[i] - s1 - s2) / A[i][i]\n",
    "\n",
    "        x = x_new\n",
    "        i += 1\n",
    "    return x, i"
   ]
  },
  {
   "cell_type": "code",
   "execution_count": 26,
   "metadata": {},
   "outputs": [
    {
     "data": {
      "text/plain": [
       "(array([-0.03852571,  0.20719954, -0.04444207]), 3)"
      ]
     },
     "execution_count": 26,
     "metadata": {},
     "output_type": "execute_result"
    }
   ],
   "source": [
    "seidel(A, B)"
   ]
  },
  {
   "cell_type": "markdown",
   "metadata": {},
   "source": [
    "**Ответ:**\n",
    "$ X = \n",
    "\\begin{pmatrix}\n",
    " -0.03852571 \\\\\n",
    " 0.20719954 \\\\\n",
    " -0.04444207\n",
    "\\end{pmatrix}\n",
    "$\n",
    "\n",
    "**Решение получено за 3 итерации**"
   ]
  },
  {
   "cell_type": "markdown",
   "metadata": {},
   "source": [
    "## Метод верхней релаксации"
   ]
  },
  {
   "cell_type": "code",
   "execution_count": 29,
   "metadata": {},
   "outputs": [],
   "source": [
    "def SOR(A, B):\n",
    "    \n",
    "    n = len(A)\n",
    "    x = np.zeros(n)\n",
    "    \n",
    "    # Количество итераций\n",
    "    i = 0 \n",
    "    \n",
    "    # Параметр релаксации\n",
    "    w = 1.25\n",
    "    \n",
    "    while(False in list(map(lambda x: x < eps, abs(x-x_real)))):\n",
    "        x_new = np.copy(x)\n",
    "        for i in range(n):\n",
    "            s1 = sum(A[i][j] * x_new[j] for j in range(i))\n",
    "            s2 = sum(A[i][j] * x[j] for j in range(i + 1, n))\n",
    "            \n",
    "            # Модификация шага метода Зейделя\n",
    "            x_new[i] = w*(B[i] - s1 - s2) / A[i][i] + (1 - w)*x[i]\n",
    "\n",
    "        x = x_new\n",
    "        i += 1\n",
    "    return x, i"
   ]
  },
  {
   "cell_type": "code",
   "execution_count": 30,
   "metadata": {},
   "outputs": [
    {
     "data": {
      "text/plain": [
       "(array([-0.03864406,  0.20716288, -0.04450536]), 3)"
      ]
     },
     "execution_count": 30,
     "metadata": {},
     "output_type": "execute_result"
    }
   ],
   "source": [
    "SOR(A,B)"
   ]
  },
  {
   "cell_type": "markdown",
   "metadata": {},
   "source": [
    "**Ответ:**\n",
    "$ X = \n",
    "\\begin{pmatrix}\n",
    " -0.03864406 \\\\\n",
    " 0.20716288 \\\\\n",
    " -0.04450536\n",
    "\\end{pmatrix}\n",
    "$\n",
    "\n",
    "**Решение получено за 3 итерации**"
   ]
  },
  {
   "cell_type": "code",
   "execution_count": null,
   "metadata": {},
   "outputs": [],
   "source": []
  }
 ],
 "metadata": {
  "kernelspec": {
   "display_name": "Python 3",
   "language": "python",
   "name": "python3"
  },
  "language_info": {
   "codemirror_mode": {
    "name": "ipython",
    "version": 3
   },
   "file_extension": ".py",
   "mimetype": "text/x-python",
   "name": "python",
   "nbconvert_exporter": "python",
   "pygments_lexer": "ipython3",
   "version": "3.8.0"
  },
  "toc": {
   "base_numbering": 1,
   "nav_menu": {},
   "number_sections": true,
   "sideBar": true,
   "skip_h1_title": false,
   "title_cell": "Table of Contents",
   "title_sidebar": "Contents",
   "toc_cell": false,
   "toc_position": {},
   "toc_section_display": true,
   "toc_window_display": false
  }
 },
 "nbformat": 4,
 "nbformat_minor": 4
}
