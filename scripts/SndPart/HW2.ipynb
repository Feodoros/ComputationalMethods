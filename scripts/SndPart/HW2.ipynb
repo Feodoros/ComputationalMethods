{
 "cells": [
  {
   "cell_type": "markdown",
   "metadata": {},
   "source": [
    "Студент Жилкин Федор, 344\n",
    "# Домашняя работа 2: \"Итерационные методы решения СЛАУ.\"\n",
    "**Задания:**\n",
    "\n",
    "1. Метод простой итерации (с уточнением по Люстернику)\n",
    "2. Метод Зейделя (с уточнением по Люстернику)\n",
    "3. Метод верхней релаксации\n",
    "4. Сравнить результаты полученные разными методами\n",
    " \n",
    "$ A = \n",
    "\\left(\\begin{array}{ccc|c} \n",
    "6.687233 & 0.80267  & -2.06459 & 0\\\\ \n",
    "0.80267 & 5.07816 & 0.48037  & 1\\\\\n",
    "-2.06459 & 0.48037 & 4.02934 & 0\n",
    "\\end{array}\\right)\n",
    "$"
   ]
  },
  {
   "cell_type": "code",
   "execution_count": 204,
   "metadata": {},
   "outputs": [],
   "source": [
    "import numpy as np\n",
    "import pandas as pd"
   ]
  },
  {
   "cell_type": "code",
   "execution_count": 2,
   "metadata": {},
   "outputs": [],
   "source": [
    "A = np.array([[6.687233, 0.80267, -2.06459], [0.80267, 5.07816, 0.48037], [-2.06459, 0.48037, 4.02934]])"
   ]
  },
  {
   "cell_type": "code",
   "execution_count": 3,
   "metadata": {},
   "outputs": [],
   "source": [
    "B = np.array([[0.], [1.], [0.]])"
   ]
  },
  {
   "cell_type": "code",
   "execution_count": 4,
   "metadata": {},
   "outputs": [],
   "source": [
    "# Необходимая точность\n",
    "eps = 0.0001"
   ]
  },
  {
   "cell_type": "code",
   "execution_count": 13,
   "metadata": {},
   "outputs": [
    {
     "data": {
      "text/plain": [
       "[-0.038609580502971634, 0.20723292452262765, -0.04448903139560444]"
      ]
     },
     "execution_count": 13,
     "metadata": {},
     "output_type": "execute_result"
    }
   ],
   "source": [
    "x_real = list(map(lambda x: x[0], np.linalg.solve(A, B)))\n",
    "x_real"
   ]
  },
  {
   "cell_type": "markdown",
   "metadata": {},
   "source": [
    "### Спектральный радиус"
   ]
  },
  {
   "cell_type": "code",
   "execution_count": 81,
   "metadata": {},
   "outputs": [],
   "source": [
    "def spectral_radius(A):\n",
    "    \n",
    "    n = len(A)\n",
    "    \n",
    "    # Построение матрицы H\n",
    "    H = np.zeros((n, n))\n",
    "    for i in range(0, n):\n",
    "        for j in range(0, n):\n",
    "            if (i == j):\n",
    "                H[i][j] = 0\n",
    "            else:\n",
    "                H[i][j] = - A[i][j]/A[i][i]\n",
    "    \n",
    "    # Спектральный радиус\n",
    "    p = max(list(map(lambda x: abs(x), np.linalg.eig(H)[0])))\n",
    "    \n",
    "    return p "
   ]
  },
  {
   "cell_type": "markdown",
   "metadata": {},
   "source": [
    "## Метод простой итерации"
   ]
  },
  {
   "cell_type": "code",
   "execution_count": 82,
   "metadata": {},
   "outputs": [],
   "source": [
    "def iterative_method(A, B, correction=False):\n",
    "    \n",
    "    n = len(A)\n",
    "    beta = np.zeros(n)\n",
    "    alpha = np.zeros((n, n))\n",
    "    \n",
    "    # Заполняем матрицы alpha и beta\n",
    "    for i in range(0, n):\n",
    "        beta[i] = B[i][0] / A[i][i]\n",
    "        for j in range(0, n):\n",
    "            if (i == j):\n",
    "                alpha[i][j] = 0\n",
    "            else:\n",
    "                alpha[i][j] = - A[i][j]/A[i][i]\n",
    "\n",
    "    # Нулевое приближение\n",
    "    x = np.copy(beta)  \n",
    "    \n",
    "    # Количество итераций\n",
    "    i = 0 \n",
    "    \n",
    "    # Итерационное приближение\n",
    "    while(False in list(map(lambda x: x < eps, abs(x - x_real)))):\n",
    "        prev_x = np.copy(x)\n",
    "        x = beta + np.dot(alpha, prev_x)\n",
    "        i += 1\n",
    "       \n",
    "    # Уточнение решения\n",
    "    if(correction):\n",
    "        p = spectral_radius(A)\n",
    "        x_correct = prev_x + 1/(1 - p)*(x - prev_x)\n",
    "        return x_correct, i\n",
    "    \n",
    "    else:\n",
    "        return x, i"
   ]
  },
  {
   "cell_type": "code",
   "execution_count": 83,
   "metadata": {},
   "outputs": [
    {
     "data": {
      "text/plain": [
       "(array([-0.03853631,  0.20718989, -0.04439994]), 8)"
      ]
     },
     "execution_count": 83,
     "metadata": {},
     "output_type": "execute_result"
    }
   ],
   "source": [
    "x1, i1 = iterative_method(A, B)\n",
    "x1, i1"
   ]
  },
  {
   "cell_type": "markdown",
   "metadata": {},
   "source": [
    "**Ответ:**\n",
    "$ X = \n",
    "\\begin{pmatrix}\n",
    " -0.03853631 \\\\\n",
    " 0.20718989 \\\\\n",
    " -0.04439994\n",
    "\\end{pmatrix}\n",
    "$\n",
    "\n",
    "**Решение получено за 8 итераций**"
   ]
  },
  {
   "cell_type": "markdown",
   "metadata": {},
   "source": [
    "## Метод Зейделя"
   ]
  },
  {
   "cell_type": "code",
   "execution_count": 84,
   "metadata": {},
   "outputs": [],
   "source": [
    "def seidel(A, B, correction=False):\n",
    "    \n",
    "    n = len(A)\n",
    "    x = np.zeros(n)\n",
    "    \n",
    "    # Количество итераций\n",
    "    i = 0 \n",
    "    \n",
    "    while(False in list(map(lambda x: x < eps, abs(x - x_real)))):\n",
    "        x_new = np.copy(x)\n",
    "        for i in range(n):\n",
    "            s1 = sum(A[i][j] * x_new[j] for j in range(i))\n",
    "            s2 = sum(A[i][j] * x[j] for j in range(i + 1, n))\n",
    "            x_new[i] = (B[i] - s1 - s2) / A[i][i]\n",
    "        prev_x = x\n",
    "        x = x_new\n",
    "        i += 1\n",
    "    \n",
    "    # Уточнение решения\n",
    "    if(correction):\n",
    "        p = spectral_radius(A)\n",
    "        x_correct = prev_x + 1/(1 - p)*(x - prev_x)\n",
    "        return x_correct, i\n",
    "    \n",
    "    else:\n",
    "        return x, i"
   ]
  },
  {
   "cell_type": "code",
   "execution_count": 87,
   "metadata": {},
   "outputs": [
    {
     "data": {
      "text/plain": [
       "(array([-0.03852571,  0.20719954, -0.04444207]), 3)"
      ]
     },
     "execution_count": 87,
     "metadata": {},
     "output_type": "execute_result"
    }
   ],
   "source": [
    "seidel(A, B)"
   ]
  },
  {
   "cell_type": "markdown",
   "metadata": {},
   "source": [
    "**Ответ:**\n",
    "$ X = \n",
    "\\begin{pmatrix}\n",
    " -0.03852571 \\\\\n",
    " 0.20719954 \\\\\n",
    " -0.04444207\n",
    "\\end{pmatrix}\n",
    "$\n",
    "\n",
    "**Решение получено за 3 итерации**"
   ]
  },
  {
   "cell_type": "markdown",
   "metadata": {},
   "source": [
    "## Метод верхней релаксации"
   ]
  },
  {
   "cell_type": "code",
   "execution_count": 88,
   "metadata": {},
   "outputs": [],
   "source": [
    "def SOR(A, B):\n",
    "    \n",
    "    n = len(A)\n",
    "    x = np.zeros(n)\n",
    "    \n",
    "    # Спектральный радиус\n",
    "    p = spectral_radius(A)\n",
    "    \n",
    "    # Параметр релаксации\n",
    "    w = 2 / (1 + np.sqrt(1 - p**2))\n",
    "    \n",
    "    # Количество итераций\n",
    "    i = 0 \n",
    "    \n",
    "    while(False in list(map(lambda x: x < eps, abs(x - x_real)))):\n",
    "        x_new = np.copy(x)\n",
    "        for i in range(n):\n",
    "            s1 = sum(A[i][j] * x_new[j] for j in range(i))\n",
    "            s2 = sum(A[i][j] * x[j] for j in range(i + 1, n))\n",
    "            \n",
    "            # Модификация шага метода Зейделя\n",
    "            x_new[i] = w*(B[i] - s1 - s2) / A[i][i] + (1 - w)*x[i]\n",
    "\n",
    "        x = x_new\n",
    "        i += 1\n",
    "        \n",
    "    return x, i"
   ]
  },
  {
   "cell_type": "code",
   "execution_count": 89,
   "metadata": {},
   "outputs": [
    {
     "data": {
      "text/plain": [
       "(array([-0.03856976,  0.20720924, -0.04447595]), 3)"
      ]
     },
     "execution_count": 89,
     "metadata": {},
     "output_type": "execute_result"
    }
   ],
   "source": [
    "SOR(A,B)"
   ]
  },
  {
   "cell_type": "markdown",
   "metadata": {},
   "source": [
    "**Ответ:**\n",
    "$ X = \n",
    "\\begin{pmatrix}\n",
    " -0.03856976 \\\\\n",
    " 0.20720924 \\\\\n",
    " -0.04447595\n",
    "\\end{pmatrix}\n",
    "$\n",
    "\n",
    "**Решение получено за 3 итерации**"
   ]
  },
  {
   "cell_type": "markdown",
   "metadata": {},
   "source": [
    "## Сравнение результатов"
   ]
  },
  {
   "cell_type": "code",
   "execution_count": 213,
   "metadata": {},
   "outputs": [],
   "source": [
    "def copmare_res(funcs, A, B):\n",
    "\n",
    "    res_dict = {}\n",
    "    \n",
    "    def mean_error(res):\n",
    "        return sum(list(map(lambda x: abs(x), (x_real - res[0]))))/len(x_real)\n",
    "        \n",
    "    for f in funcs:\n",
    "        name = f.__name__\n",
    "        if (name == 'seidel' or name == 'iterative_method'):\n",
    "            \n",
    "            res1 = f(A, B)\n",
    "            name1 = name + ', correction -- ' + str(False)\n",
    "            res_dict[name1] = mean_error(res1)\n",
    "            \n",
    "            res2 = f(A, B, correction=True)\n",
    "            name2 = name + ', correction -- ' + str(True)\n",
    "            res_dict[name2] = mean_error(res2)\n",
    "            \n",
    "        else:\n",
    "            res = f(A, B)\n",
    "            res_dict[name] = mean_error(res)\n",
    "    \n",
    "    \n",
    "    return {k: v for k, v in sorted(res_dict.items(), key=lambda item: item[1])}"
   ]
  },
  {
   "cell_type": "code",
   "execution_count": 216,
   "metadata": {},
   "outputs": [],
   "source": [
    "res_rate = copmare_res([iterative_method, seidel, iterative_method, seidel, SOR], A, B)"
   ]
  },
  {
   "cell_type": "code",
   "execution_count": 217,
   "metadata": {},
   "outputs": [
    {
     "data": {
      "text/html": [
       "<style  type=\"text/css\" >\n",
       "</style><table id=\"T_93432e4d_7512_11ea_988f_ccb0da8bdd57\" ><thead>    <tr>        <th class=\"col_heading level0 col0\" >Method</th>        <th class=\"col_heading level0 col1\" >Mean Error</th>    </tr></thead><tbody>\n",
       "                <tr>\n",
       "                                <td id=\"T_93432e4d_7512_11ea_988f_ccb0da8bdd57row0_col0\" class=\"data row0 col0\" >iterative_method, correction -- True</td>\n",
       "                        <td id=\"T_93432e4d_7512_11ea_988f_ccb0da8bdd57row0_col1\" class=\"data row0 col1\" >0.000004</td>\n",
       "            </tr>\n",
       "            <tr>\n",
       "                                <td id=\"T_93432e4d_7512_11ea_988f_ccb0da8bdd57row1_col0\" class=\"data row1 col0\" >SOR</td>\n",
       "                        <td id=\"T_93432e4d_7512_11ea_988f_ccb0da8bdd57row1_col1\" class=\"data row1 col1\" >0.000026</td>\n",
       "            </tr>\n",
       "            <tr>\n",
       "                                <td id=\"T_93432e4d_7512_11ea_988f_ccb0da8bdd57row2_col0\" class=\"data row2 col0\" >seidel, correction -- False</td>\n",
       "                        <td id=\"T_93432e4d_7512_11ea_988f_ccb0da8bdd57row2_col1\" class=\"data row2 col1\" >0.000055</td>\n",
       "            </tr>\n",
       "            <tr>\n",
       "                                <td id=\"T_93432e4d_7512_11ea_988f_ccb0da8bdd57row3_col0\" class=\"data row3 col0\" >iterative_method, correction -- False</td>\n",
       "                        <td id=\"T_93432e4d_7512_11ea_988f_ccb0da8bdd57row3_col1\" class=\"data row3 col1\" >0.000068</td>\n",
       "            </tr>\n",
       "            <tr>\n",
       "                                <td id=\"T_93432e4d_7512_11ea_988f_ccb0da8bdd57row4_col0\" class=\"data row4 col0\" >seidel, correction -- True</td>\n",
       "                        <td id=\"T_93432e4d_7512_11ea_988f_ccb0da8bdd57row4_col1\" class=\"data row4 col1\" >0.000111</td>\n",
       "            </tr>\n",
       "    </tbody></table>"
      ],
      "text/plain": [
       "<pandas.io.formats.style.Styler at 0x24b9da677c0>"
      ]
     },
     "execution_count": 217,
     "metadata": {},
     "output_type": "execute_result"
    }
   ],
   "source": [
    "d = {'Method': list(res_rate.keys()), 'Mean Error': list(res_rate.values())}\n",
    "df = pd.DataFrame(data=d)\n",
    "df.style.hide_index()"
   ]
  },
  {
   "cell_type": "markdown",
   "metadata": {},
   "source": [
    "## Вывод"
   ]
  },
  {
   "cell_type": "markdown",
   "metadata": {},
   "source": [
    "Метод **простой итерации** (после уточнения решения) является самым **точным** среди рассмотренных методов, второе место занимает **SOR**. Необходимая точность решения была достигнута за **3** итерации в случае метода **Зейделя** и **SOR**. В случае метода **простой итерации** оказалось необходимо **8** итераций. "
   ]
  },
  {
   "cell_type": "code",
   "execution_count": null,
   "metadata": {},
   "outputs": [],
   "source": []
  }
 ],
 "metadata": {
  "kernelspec": {
   "display_name": "Python 3",
   "language": "python",
   "name": "python3"
  },
  "language_info": {
   "codemirror_mode": {
    "name": "ipython",
    "version": 3
   },
   "file_extension": ".py",
   "mimetype": "text/x-python",
   "name": "python",
   "nbconvert_exporter": "python",
   "pygments_lexer": "ipython3",
   "version": "3.8.0"
  },
  "toc": {
   "base_numbering": 1,
   "nav_menu": {},
   "number_sections": true,
   "sideBar": true,
   "skip_h1_title": false,
   "title_cell": "Table of Contents",
   "title_sidebar": "Contents",
   "toc_cell": false,
   "toc_position": {},
   "toc_section_display": true,
   "toc_window_display": false
  }
 },
 "nbformat": 4,
 "nbformat_minor": 4
}
