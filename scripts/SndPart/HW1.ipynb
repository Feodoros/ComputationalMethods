{
 "cells": [
  {
   "cell_type": "markdown",
   "metadata": {},
   "source": [
    "Студент Жилкин Федор, 344\n",
    "# Домашняя работа 1: \"Точные методы решения СЛАУ.\"\n",
    "**Задания:**\n",
    "\n",
    "1. Метод Гаусса с выбором главного элемента (поиск решения системы)\n",
    "2. Метод Жордана (поиск обратной матрицы)\n",
    "3. Метод LU-разложения (вычисление определителя матрицы)\n",
    " \n",
    "$ A = \n",
    "\\left(\\begin{array}{ccc|c} \n",
    "6.687233 & 0.80267  & -2.06459 & 0\\\\ \n",
    "0.80267 & 5.07816 & 0.48037  & 1\\\\\n",
    "-2.06459 & 0.48037 & 4.02934 & 0\n",
    "\\end{array}\\right)\n",
    "$\n",
    "\n"
   ]
  },
  {
   "cell_type": "code",
   "execution_count": 215,
   "metadata": {},
   "outputs": [],
   "source": [
    "import numpy as np"
   ]
  },
  {
   "cell_type": "code",
   "execution_count": 222,
   "metadata": {},
   "outputs": [],
   "source": [
    "A = np.array([[6.687233, 0.80267, -2.06459], [0.80267, 5.07816, 0.48037], [-2.06459, 0.48037, 4.02934]])"
   ]
  },
  {
   "cell_type": "code",
   "execution_count": 223,
   "metadata": {},
   "outputs": [],
   "source": [
    "B = np.array([[0.], [1.], [0.]])"
   ]
  },
  {
   "cell_type": "markdown",
   "metadata": {},
   "source": [
    "## Метод Гаусса"
   ]
  },
  {
   "cell_type": "code",
   "execution_count": 221,
   "metadata": {},
   "outputs": [],
   "source": [
    "def Gauss(A, B):\n",
    "    \n",
    "    # Расширенная матрица\n",
    "    extended_m = np.array(list(map(lambda i: np.append(A[i], B[i]), range(len(B)))))\n",
    "    \n",
    "    # Прямой ход\n",
    "    def forward_trace(extended_m=extended_m):\n",
    "        n = len(extended_m)\n",
    "        \n",
    "        for k in range(0, n):\n",
    "            \n",
    "            # print(extended_m)\n",
    "            \n",
    "            # получаем столбец\n",
    "            column = [ abs(row[k:1+k][0]) for row in A[k:]]\n",
    "\n",
    "            # Номер строки с максимальным элементом в столбце\n",
    "            idx = column.index(max(column))\n",
    "\n",
    "            # Перестановка строк\n",
    "            tmpstr = np.copy(extended_m[idx + k])\n",
    "            extended_m[idx + k] = extended_m[k]\n",
    "            extended_m[k] = tmpstr\n",
    "            \n",
    "            # print(\"После перестановки: \")\n",
    "            # print(extended_m)\n",
    "            \n",
    "            tmp = np.copy(extended_m[k][k])\n",
    "            for i in range(0, n + 1):\n",
    "                extended_m[k][i] /= tmp\n",
    "                \n",
    "            for i in range(k+1, len(A)):\n",
    "                tmp = np.copy(extended_m[i][k])\n",
    "                for j in range(k, len(A)+1):\n",
    "                    extended_m[i][j] -= extended_m[k][j]*tmp\n",
    "                \n",
    "        return extended_m\n",
    "    \n",
    "    # Обратный ход\n",
    "    def back_trace(extended_m):\n",
    "\n",
    "        def sum_x(x, extended_m, i):\n",
    "            sum = 0\n",
    "            for j in range(i+1, n):\n",
    "                sum += extended_m[i][j]*x[j]\n",
    "            return sum     \n",
    "\n",
    "        n = len(extended_m)\n",
    "        x = np.zeros(n)\n",
    "        l = list(range(0, n))\n",
    "        l.reverse()\n",
    "\n",
    "        for i in l:\n",
    "            x[i] = extended_m[i][n] - sum_x(x, extended_m, i)\n",
    "\n",
    "        return x \n",
    "    \n",
    "    return back_trace(forward_trace())"
   ]
  },
  {
   "cell_type": "code",
   "execution_count": 219,
   "metadata": {},
   "outputs": [
    {
     "data": {
      "text/plain": [
       "array([-0.03860958,  0.20723292, -0.04448903])"
      ]
     },
     "execution_count": 219,
     "metadata": {},
     "output_type": "execute_result"
    }
   ],
   "source": [
    "Gauss(A,B)"
   ]
  },
  {
   "cell_type": "markdown",
   "metadata": {},
   "source": [
    "**Ответ:**\n",
    "$ X = \n",
    "\\begin{pmatrix}\n",
    " -0.03860958 \\\\\n",
    " 0.20723292 \\\\\n",
    " -0.04448903\n",
    "\\end{pmatrix}\n",
    "$"
   ]
  },
  {
   "cell_type": "markdown",
   "metadata": {},
   "source": [
    "**Проверка с библиотечным методом:**"
   ]
  },
  {
   "cell_type": "code",
   "execution_count": 245,
   "metadata": {},
   "outputs": [
    {
     "data": {
      "text/plain": [
       "array([ True,  True,  True])"
      ]
     },
     "execution_count": 245,
     "metadata": {},
     "output_type": "execute_result"
    }
   ],
   "source": [
    "Gauss(A,B) == list(map(lambda x: x[0], np.linalg.solve(A, B)))"
   ]
  },
  {
   "cell_type": "markdown",
   "metadata": {},
   "source": [
    "## Метод Жордана"
   ]
  },
  {
   "cell_type": "code",
   "execution_count": 246,
   "metadata": {},
   "outputs": [],
   "source": [
    "def Jordan(A, B):\n",
    "\n",
    "    extended_m = np.array(list(map(lambda i: np.append(A[i], B[i]), range(len(B)))))\n",
    "    n = len(extended_m)\n",
    "\n",
    "    for k in range(0, n):\n",
    "\n",
    "        # print(extended_m)\n",
    "\n",
    "        # получаем столбец\n",
    "        column = [ abs(row[k:1+k][0]) for row in A[k:]]\n",
    "\n",
    "        # Номер строки с максимальным элементом в столбце\n",
    "        idx = column.index(max(column))\n",
    "\n",
    "        # Перестановка строк\n",
    "        tmpstr = np.copy(extended_m[idx + k])\n",
    "        extended_m[idx + k] = extended_m[k]\n",
    "        extended_m[k] = tmpstr\n",
    "\n",
    "        # print(\"После перестановки: \")\n",
    "        # print(extended_m)\n",
    "\n",
    "        tmp = np.copy(extended_m[k][k])\n",
    "        for i in range(0, n + 1):\n",
    "            extended_m[k][i] /= tmp\n",
    "\n",
    "        for i in range(0, len(A)):\n",
    "            if(i != k):\n",
    "                tmp = np.copy(extended_m[i][k])\n",
    "                for j in range(k, len(A)+1):\n",
    "                    extended_m[i][j] -= extended_m[k][j]*tmp\n",
    "                    \n",
    "    return np.array([row[-1:][0] for row in extended_m])"
   ]
  },
  {
   "cell_type": "code",
   "execution_count": 242,
   "metadata": {},
   "outputs": [
    {
     "data": {
      "text/plain": [
       "array([-0.03860958,  0.20723292, -0.04448903])"
      ]
     },
     "execution_count": 242,
     "metadata": {},
     "output_type": "execute_result"
    }
   ],
   "source": [
    "Jordan(A, B)"
   ]
  },
  {
   "cell_type": "markdown",
   "metadata": {},
   "source": [
    "**Ответ:**\n",
    "$ X = \n",
    "\\begin{pmatrix}\n",
    " -0.03860958 \\\\\n",
    " 0.20723292 \\\\\n",
    " -0.04448903\n",
    "\\end{pmatrix}\n",
    "$"
   ]
  },
  {
   "cell_type": "markdown",
   "metadata": {},
   "source": [
    "**Проверка с библиотечным методом:**"
   ]
  },
  {
   "cell_type": "code",
   "execution_count": 247,
   "metadata": {},
   "outputs": [
    {
     "data": {
      "text/plain": [
       "array([ True,  True,  True])"
      ]
     },
     "execution_count": 247,
     "metadata": {},
     "output_type": "execute_result"
    }
   ],
   "source": [
    "Jordan(A,B) == list(map(lambda x: x[0], np.linalg.solve(A, B)))"
   ]
  }
 ],
 "metadata": {
  "kernelspec": {
   "display_name": "Python 3",
   "language": "python",
   "name": "python3"
  },
  "language_info": {
   "codemirror_mode": {
    "name": "ipython",
    "version": 3
   },
   "file_extension": ".py",
   "mimetype": "text/x-python",
   "name": "python",
   "nbconvert_exporter": "python",
   "pygments_lexer": "ipython3",
   "version": "3.8.0"
  },
  "toc": {
   "base_numbering": 1,
   "nav_menu": {},
   "number_sections": true,
   "sideBar": true,
   "skip_h1_title": false,
   "title_cell": "Table of Contents",
   "title_sidebar": "Contents",
   "toc_cell": false,
   "toc_position": {},
   "toc_section_display": true,
   "toc_window_display": false
  }
 },
 "nbformat": 4,
 "nbformat_minor": 4
}
