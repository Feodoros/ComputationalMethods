{
 "cells": [
  {
   "cell_type": "markdown",
   "metadata": {},
   "source": [
    "Студент Жилкин Федор, 344\n",
    "# Домашняя работа 6: \"Решение уравнения теплопроводности методом сеток.\"\n",
    "**Задания:**\n",
    "1. Явная разностная схема\n",
    "2. Схема с весами"
   ]
  },
  {
   "cell_type": "markdown",
   "metadata": {},
   "source": [
    "$$\\frac{d^2u}{dt^2}=cos(x)\\frac{d^2u}{dx^2}+f(x,t),$$\n",
    "$$u(x,0)=\\phi(x), \\frac{du}{dt}\\bigg|_{t=0} = \\psi(x), 0\\leq x \\leq 1,$$\n",
    "$$u(0,t)=\\alpha(t), \\frac{du}{dx}\\bigg|_{x=1} = \\beta(t), 0\\leq t \\leq 1.$$"
   ]
  },
  {
   "cell_type": "code",
   "execution_count": 123,
   "metadata": {},
   "outputs": [],
   "source": [
    "import numpy as np\n",
    "import pandas as pd \n",
    "import sympy\n",
    "import matplotlib.pyplot as plt "
   ]
  },
  {
   "cell_type": "markdown",
   "metadata": {},
   "source": [
    "**Зададим сетку**"
   ]
  },
  {
   "cell_type": "code",
   "execution_count": 124,
   "metadata": {},
   "outputs": [],
   "source": [
    "# Разбиваем отрезок [0,1] на N равных частей\n",
    "N = 5\n",
    "h = 1/N\n",
    "x = np.arange(0, 1 + h, h)\n",
    "\n",
    "T = 1\n",
    "# Разобьем отрезок [0, T] на M равных частей\n",
    "M = 5\n",
    "tau = T/M\n",
    "t = np.arange(0, T + tau, tau)"
   ]
  },
  {
   "cell_type": "markdown",
   "metadata": {},
   "source": [
    "**Разберемся с функциями**"
   ]
  },
  {
   "cell_type": "markdown",
   "metadata": {},
   "source": [
    "$a(x,t)=cos(x) + 0*t = cos(x)$\n",
    "\n",
    "$b(x,t) = 0$\n",
    "\n",
    "$c(x,t) = 0$"
   ]
  },
  {
   "cell_type": "code",
   "execution_count": 125,
   "metadata": {},
   "outputs": [],
   "source": [
    "def a(x):\n",
    "    return np.cos(x)"
   ]
  },
  {
   "cell_type": "markdown",
   "metadata": {},
   "source": [
    "Пусть $u(x,t) = x^3 + t^3,$ тогда $u(x,0)=\\phi(x)=x^3$"
   ]
  },
  {
   "cell_type": "code",
   "execution_count": 126,
   "metadata": {},
   "outputs": [],
   "source": [
    "def phi(x):\n",
    "    return x**3"
   ]
  },
  {
   "cell_type": "markdown",
   "metadata": {},
   "source": [
    "Т.к. $u(x,t) = x^3 + t^3,$ тогда $u(0,t)=\\alpha(t)=t^3$"
   ]
  },
  {
   "cell_type": "code",
   "execution_count": 127,
   "metadata": {},
   "outputs": [],
   "source": [
    "def alpha(t):\n",
    "    return t**3"
   ]
  },
  {
   "cell_type": "markdown",
   "metadata": {},
   "source": [
    "$\\frac{du}{dx}(1, t) = 3 = \\beta(t)$"
   ]
  },
  {
   "cell_type": "code",
   "execution_count": 128,
   "metadata": {},
   "outputs": [],
   "source": [
    "def beta(t):\n",
    "    return 3"
   ]
  },
  {
   "cell_type": "markdown",
   "metadata": {},
   "source": [
    "Пусть $f(x, t)=xt^2$"
   ]
  },
  {
   "cell_type": "code",
   "execution_count": 129,
   "metadata": {},
   "outputs": [],
   "source": [
    "def f(x, t):\n",
    "    return x*t**2"
   ]
  },
  {
   "cell_type": "markdown",
   "metadata": {},
   "source": [
    "Заменяем L разностным оператором"
   ]
  },
  {
   "cell_type": "code",
   "execution_count": 130,
   "metadata": {},
   "outputs": [],
   "source": [
    "def L(i, k, u):\n",
    "    return a(x[i])*((u[k][i+1] - 2*u[k][i] + u[k][i-1])/(h**2))"
   ]
  },
  {
   "cell_type": "markdown",
   "metadata": {},
   "source": [
    "## Явная разностная схема"
   ]
  },
  {
   "cell_type": "code",
   "execution_count": 171,
   "metadata": {},
   "outputs": [],
   "source": [
    "def explicit_difference_scheme():\n",
    "    \n",
    "    \"\"\"\n",
    "    Решение явной разностной схемой.\n",
    "    Возвращаем решения при k = 0...M\n",
    "    \"\"\"\n",
    "\n",
    "    # Помещать решения будем в матрицу u\n",
    "    u = []\n",
    "\n",
    "    # Находим u^0_i\n",
    "    u_0i = phi(x)\n",
    "    u.append(u_0i)\n",
    "\n",
    "    # Находим решения u^k_i при k = 1...M \n",
    "    for k in range(1, M+1):\n",
    "        u_k = [u[k-1][i] + tau*(L(i, k-1, u) + f(x[i], t[k-1])) for i in range(1, N)]\n",
    "\n",
    "        u_0k = alpha(t[k])\n",
    "        u_k.insert(0, u_0k)\n",
    "\n",
    "        u_Nk = 2/3*h*beta(t[k]) + 4*u_k[N-1] + 2*u_k[N-2]\n",
    "        u_k.insert(N, u_Nk)\n",
    "\n",
    "        u_copy = np.copy(u_k)\n",
    "        u.append(u_copy)\n",
    "        u_k.clear()\n",
    "\n",
    "    return u"
   ]
  },
  {
   "cell_type": "markdown",
   "metadata": {},
   "source": [
    "## Схема с весами"
   ]
  },
  {
   "cell_type": "code",
   "execution_count": 240,
   "metadata": {},
   "outputs": [],
   "source": [
    "def weights_sheme():\n",
    "    \n",
    "    \"\"\"\n",
    "    Решение схемой с весами.\n",
    "    Возвращаем решения при k = 0...M\n",
    "    \"\"\"\n",
    "\n",
    "    # Помещать решения будем в матрицу u\n",
    "    u = []\n",
    "\n",
    "    # Находим u^0_i\n",
    "    u_0i = phi(x)\n",
    "    u.append(u_0i)\n",
    "    \n",
    "    for k in range (1, M+1):\n",
    "        \n",
    "        # Реализуем трехдиагональную матрицу m\n",
    "        m = np.zeros((N+1, N+1))\n",
    "\n",
    "        # Первыя ряд\n",
    "        m[0][0] = 1\n",
    "        m[0][1] = 0\n",
    "\n",
    "        # Последний ряд\n",
    "        m[N][N-1] = -1/h\n",
    "        m[N][N] = -1/h\n",
    "\n",
    "        # Столбец справа\n",
    "        G = np.zeros(N+1)\n",
    "        G[0] = alpha(t[k])\n",
    "        G[N] = beta(t[k])\n",
    "        \n",
    "        # Заполняем матрицу\n",
    "        for i in range(1,N):\n",
    "            m[i][i-1] = a(x[i])/h**2\n",
    "            m[i][i] = -2*a(x[i])/h**2\n",
    "            m[i][i+1] = a(x[i])/h**2\n",
    "            \n",
    "            G[i] = -1/tau*u[k-1][i] - (1-1/2)*L(i, k-1, u) - f(x[i], t[k])\n",
    "            \n",
    "        u.append(np.linalg.solve(m, G))\n",
    "    \n",
    "    return u"
   ]
  },
  {
   "cell_type": "markdown",
   "metadata": {},
   "source": [
    "## Тестирование методов"
   ]
  },
  {
   "cell_type": "code",
   "execution_count": 255,
   "metadata": {},
   "outputs": [
    {
     "data": {
      "text/html": [
       "<div>\n",
       "<style scoped>\n",
       "    .dataframe tbody tr th:only-of-type {\n",
       "        vertical-align: middle;\n",
       "    }\n",
       "\n",
       "    .dataframe tbody tr th {\n",
       "        vertical-align: top;\n",
       "    }\n",
       "\n",
       "    .dataframe thead th {\n",
       "        text-align: right;\n",
       "    }\n",
       "</style>\n",
       "<table border=\"1\" class=\"dataframe\">\n",
       "  <thead>\n",
       "    <tr style=\"text-align: right;\">\n",
       "      <th></th>\n",
       "      <th>0.0</th>\n",
       "      <th>0.2</th>\n",
       "      <th>0.4</th>\n",
       "      <th>0.6</th>\n",
       "      <th>0.8</th>\n",
       "      <th>1.0</th>\n",
       "    </tr>\n",
       "  </thead>\n",
       "  <tbody>\n",
       "    <tr>\n",
       "      <th>$u_0$</th>\n",
       "      <td>0.000</td>\n",
       "      <td>0.0080</td>\n",
       "      <td>0.0640</td>\n",
       "      <td>0.2160</td>\n",
       "      <td>0.5120</td>\n",
       "      <td>1.0000</td>\n",
       "    </tr>\n",
       "    <tr>\n",
       "      <th>$u_1$</th>\n",
       "      <td>0.008</td>\n",
       "      <td>0.2432</td>\n",
       "      <td>0.3804</td>\n",
       "      <td>0.3983</td>\n",
       "      <td>2.6659</td>\n",
       "      <td>1628.6559</td>\n",
       "    </tr>\n",
       "    <tr>\n",
       "      <th>$u_2$</th>\n",
       "      <td>0.064</td>\n",
       "      <td>0.5061</td>\n",
       "      <td>0.6992</td>\n",
       "      <td>1.0404</td>\n",
       "      <td>336.6267</td>\n",
       "      <td>-2059.9456</td>\n",
       "    </tr>\n",
       "    <tr>\n",
       "      <th>$u_3$</th>\n",
       "      <td>0.216</td>\n",
       "      <td>0.8102</td>\n",
       "      <td>1.0893</td>\n",
       "      <td>74.5458</td>\n",
       "      <td>150.1826</td>\n",
       "      <td>8990.5823</td>\n",
       "    </tr>\n",
       "    <tr>\n",
       "      <th>$u_4$</th>\n",
       "      <td>0.512</td>\n",
       "      <td>1.1808</td>\n",
       "      <td>19.2751</td>\n",
       "      <td>166.3694</td>\n",
       "      <td>2105.9756</td>\n",
       "      <td>18349.4427</td>\n",
       "    </tr>\n",
       "    <tr>\n",
       "      <th>$u_5$</th>\n",
       "      <td>1.000</td>\n",
       "      <td>6.7438</td>\n",
       "      <td>79.6792</td>\n",
       "      <td>814.9692</td>\n",
       "      <td>8724.6674</td>\n",
       "      <td>91379.3353</td>\n",
       "    </tr>\n",
       "  </tbody>\n",
       "</table>\n",
       "</div>"
      ],
      "text/plain": [
       "         0.0     0.2      0.4       0.6        0.8         1.0\n",
       "$u_0$  0.000  0.0080   0.0640    0.2160     0.5120      1.0000\n",
       "$u_1$  0.008  0.2432   0.3804    0.3983     2.6659   1628.6559\n",
       "$u_2$  0.064  0.5061   0.6992    1.0404   336.6267  -2059.9456\n",
       "$u_3$  0.216  0.8102   1.0893   74.5458   150.1826   8990.5823\n",
       "$u_4$  0.512  1.1808  19.2751  166.3694  2105.9756  18349.4427\n",
       "$u_5$  1.000  6.7438  79.6792  814.9692  8724.6674  91379.3353"
      ]
     },
     "execution_count": 255,
     "metadata": {},
     "output_type": "execute_result"
    }
   ],
   "source": [
    "pd.DataFrame(weights_sheme(), x,\n",
    "             columns=[\"$u_0$\", \"$u_1$\", \"$u_2$\", \n",
    "                      \"$u_3$\",\"$u_4$\",\"$u_5$\"]).T.round(4)"
   ]
  },
  {
   "cell_type": "code",
   "execution_count": 254,
   "metadata": {},
   "outputs": [
    {
     "data": {
      "text/html": [
       "<div>\n",
       "<style scoped>\n",
       "    .dataframe tbody tr th:only-of-type {\n",
       "        vertical-align: middle;\n",
       "    }\n",
       "\n",
       "    .dataframe tbody tr th {\n",
       "        vertical-align: top;\n",
       "    }\n",
       "\n",
       "    .dataframe thead th {\n",
       "        text-align: right;\n",
       "    }\n",
       "</style>\n",
       "<table border=\"1\" class=\"dataframe\">\n",
       "  <thead>\n",
       "    <tr style=\"text-align: right;\">\n",
       "      <th></th>\n",
       "      <th>0.0</th>\n",
       "      <th>0.2</th>\n",
       "      <th>0.4</th>\n",
       "      <th>0.6</th>\n",
       "      <th>0.8</th>\n",
       "      <th>1.0</th>\n",
       "    </tr>\n",
       "  </thead>\n",
       "  <tbody>\n",
       "    <tr>\n",
       "      <th>$u_0$</th>\n",
       "      <td>0.000</td>\n",
       "      <td>0.0080</td>\n",
       "      <td>0.0640</td>\n",
       "      <td>0.2160</td>\n",
       "      <td>0.5120</td>\n",
       "      <td>1.0000</td>\n",
       "    </tr>\n",
       "    <tr>\n",
       "      <th>$u_1$</th>\n",
       "      <td>0.008</td>\n",
       "      <td>0.2432</td>\n",
       "      <td>0.3804</td>\n",
       "      <td>0.3983</td>\n",
       "      <td>2.6659</td>\n",
       "      <td>1628.6559</td>\n",
       "    </tr>\n",
       "    <tr>\n",
       "      <th>$u_2$</th>\n",
       "      <td>0.064</td>\n",
       "      <td>0.5061</td>\n",
       "      <td>0.6992</td>\n",
       "      <td>1.0404</td>\n",
       "      <td>336.6267</td>\n",
       "      <td>-2059.9456</td>\n",
       "    </tr>\n",
       "    <tr>\n",
       "      <th>$u_3$</th>\n",
       "      <td>0.216</td>\n",
       "      <td>0.8102</td>\n",
       "      <td>1.0893</td>\n",
       "      <td>74.5458</td>\n",
       "      <td>150.1826</td>\n",
       "      <td>8990.5823</td>\n",
       "    </tr>\n",
       "    <tr>\n",
       "      <th>$u_4$</th>\n",
       "      <td>0.512</td>\n",
       "      <td>1.1808</td>\n",
       "      <td>19.2751</td>\n",
       "      <td>166.3694</td>\n",
       "      <td>2105.9756</td>\n",
       "      <td>18349.4427</td>\n",
       "    </tr>\n",
       "    <tr>\n",
       "      <th>$u_5$</th>\n",
       "      <td>1.000</td>\n",
       "      <td>6.7438</td>\n",
       "      <td>79.6792</td>\n",
       "      <td>814.9692</td>\n",
       "      <td>8724.6674</td>\n",
       "      <td>91379.3353</td>\n",
       "    </tr>\n",
       "  </tbody>\n",
       "</table>\n",
       "</div>"
      ],
      "text/plain": [
       "         0.0     0.2      0.4       0.6        0.8         1.0\n",
       "$u_0$  0.000  0.0080   0.0640    0.2160     0.5120      1.0000\n",
       "$u_1$  0.008  0.2432   0.3804    0.3983     2.6659   1628.6559\n",
       "$u_2$  0.064  0.5061   0.6992    1.0404   336.6267  -2059.9456\n",
       "$u_3$  0.216  0.8102   1.0893   74.5458   150.1826   8990.5823\n",
       "$u_4$  0.512  1.1808  19.2751  166.3694  2105.9756  18349.4427\n",
       "$u_5$  1.000  6.7438  79.6792  814.9692  8724.6674  91379.3353"
      ]
     },
     "execution_count": 254,
     "metadata": {},
     "output_type": "execute_result"
    }
   ],
   "source": [
    "pd.DataFrame(explicit_difference_scheme(), x,\n",
    "             columns=[\"$u_0$\", \"$u_1$\", \"$u_2$\", \n",
    "                      \"$u_3$\",\"$u_4$\",\"$u_5$\"]).T.round(4)"
   ]
  },
  {
   "cell_type": "markdown",
   "metadata": {},
   "source": [
    "## Вывод"
   ]
  },
  {
   "cell_type": "markdown",
   "metadata": {},
   "source": [
    "Оба метода дают одинаковые результаты (с точностью до **1e-4**), для заданных функций, что говорит о правильности реализации методов. БОльших затрат ресурсов требует **метод схемы с весами**, т.к. приходится решать (N-1) систем (N+1) порядка."
   ]
  },
  {
   "cell_type": "code",
   "execution_count": null,
   "metadata": {},
   "outputs": [],
   "source": []
  }
 ],
 "metadata": {
  "kernelspec": {
   "display_name": "Python 3",
   "language": "python",
   "name": "python3"
  },
  "language_info": {
   "codemirror_mode": {
    "name": "ipython",
    "version": 3
   },
   "file_extension": ".py",
   "mimetype": "text/x-python",
   "name": "python",
   "nbconvert_exporter": "python",
   "pygments_lexer": "ipython3",
   "version": "3.8.0"
  },
  "toc": {
   "base_numbering": 1,
   "nav_menu": {},
   "number_sections": true,
   "sideBar": true,
   "skip_h1_title": false,
   "title_cell": "Table of Contents",
   "title_sidebar": "Contents",
   "toc_cell": false,
   "toc_position": {},
   "toc_section_display": true,
   "toc_window_display": false
  }
 },
 "nbformat": 4,
 "nbformat_minor": 4
}
