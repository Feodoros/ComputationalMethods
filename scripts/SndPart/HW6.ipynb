{
 "cells": [
  {
   "cell_type": "markdown",
   "metadata": {},
   "source": [
    "Студент Жилкин Федор, 344\n",
    "# Домашняя работа 6: \"Решение уравнения теплопроводности методом сеток.\"\n",
    "**Задания:**\n",
    "1. Явная разностная схема\n",
    "2. Схема с весами"
   ]
  },
  {
   "cell_type": "markdown",
   "metadata": {},
   "source": [
    "$$\\frac{d^2u}{dt^2}=cos(x)\\frac{d^2u}{dx^2}+f(x,t),$$\n",
    "$$u(x,0)=\\phi(x), \\frac{du}{dt}\\bigg|_{t=0} = \\psi(x), 0\\leq x \\leq 1,$$\n",
    "$$u(0,t)=\\alpha(t), \\frac{du}{dx}\\bigg|_{x=1} = \\beta(t), 0\\leq t \\leq 1.$$"
   ]
  },
  {
   "cell_type": "code",
   "execution_count": 123,
   "metadata": {},
   "outputs": [],
   "source": [
    "import numpy as np\n",
    "import pandas as pd \n",
    "import sympy\n",
    "import matplotlib.pyplot as plt "
   ]
  },
  {
   "cell_type": "markdown",
   "metadata": {},
   "source": [
    "**Зададим сетку**"
   ]
  },
  {
   "cell_type": "code",
   "execution_count": 124,
   "metadata": {},
   "outputs": [],
   "source": [
    "# Разбиваем отрезок [0,1] на N равных частей\n",
    "N = 5\n",
    "h = 1/N\n",
    "x = np.arange(0, 1 + h, h)\n",
    "\n",
    "T = 1\n",
    "# Разобьем отрезок [0, T] на M равных частей\n",
    "M = 5\n",
    "tau = T/M\n",
    "t = np.arange(0, T + tau, tau)"
   ]
  },
  {
   "cell_type": "markdown",
   "metadata": {},
   "source": [
    "**Разберемся с функциями**"
   ]
  },
  {
   "cell_type": "markdown",
   "metadata": {},
   "source": [
    "$a(x,t)=cos(x) + 0*t = cos(x)$\n",
    "\n",
    "$b(x,t) = 0$\n",
    "\n",
    "$c(x,t) = 0$"
   ]
  },
  {
   "cell_type": "code",
   "execution_count": 125,
   "metadata": {},
   "outputs": [],
   "source": [
    "def a(x):\n",
    "    return np.cos(x)"
   ]
  },
  {
   "cell_type": "markdown",
   "metadata": {},
   "source": [
    "Пусть $u(x,t) = x^3 + t^3,$ тогда $u(x,0)=\\phi(x)=x^3$"
   ]
  },
  {
   "cell_type": "code",
   "execution_count": 126,
   "metadata": {},
   "outputs": [],
   "source": [
    "def phi(x):\n",
    "    return x**3"
   ]
  },
  {
   "cell_type": "markdown",
   "metadata": {},
   "source": [
    "Т.к. $u(x,t) = x^3 + t^3,$ тогда $u(0,t)=\\alpha(t)=t^3$"
   ]
  },
  {
   "cell_type": "code",
   "execution_count": 127,
   "metadata": {},
   "outputs": [],
   "source": [
    "def alpha(t):\n",
    "    return t**3"
   ]
  },
  {
   "cell_type": "markdown",
   "metadata": {},
   "source": [
    "$\\frac{du}{dx}(1, t) = 3 = \\beta(t)$"
   ]
  },
  {
   "cell_type": "code",
   "execution_count": 128,
   "metadata": {},
   "outputs": [],
   "source": [
    "def beta(t):\n",
    "    return 3"
   ]
  },
  {
   "cell_type": "markdown",
   "metadata": {},
   "source": [
    "Пусть $f(x, t)=xt^2$"
   ]
  },
  {
   "cell_type": "code",
   "execution_count": 129,
   "metadata": {},
   "outputs": [],
   "source": [
    "def f(x, t):\n",
    "    return x*t**2"
   ]
  },
  {
   "cell_type": "markdown",
   "metadata": {},
   "source": [
    "Заменяем L разностным оператором"
   ]
  },
  {
   "cell_type": "code",
   "execution_count": 130,
   "metadata": {},
   "outputs": [],
   "source": [
    "def L(i, k, u):\n",
    "    return a(x[i])*((u[k][i+1] - 2*u[k][i] + u[k][i-1])/(h**2))"
   ]
  },
  {
   "cell_type": "markdown",
   "metadata": {},
   "source": [
    "## Явная разностная схема"
   ]
  },
  {
   "cell_type": "code",
   "execution_count": 171,
   "metadata": {},
   "outputs": [],
   "source": [
    "def explicit_difference_scheme():\n",
    "    \n",
    "    \"\"\"\n",
    "    Решение явной разностной схемой.\n",
    "    Возвращаем решения при k = 0...M\n",
    "    \"\"\"\n",
    "\n",
    "    # Помещать решения будем в матрицу u\n",
    "    u = []\n",
    "\n",
    "    # Находим u^0_i\n",
    "    u_0i = phi(x)\n",
    "    u.append(u_0i)\n",
    "\n",
    "    # Находим решения u^k_i при k = 1...M \n",
    "    for k in range(1, M+1):\n",
    "        u_k = [u[k-1][i] + tau*(L(i, k-1, u) + f(x[i], t[k-1])) for i in range(1, N)]\n",
    "\n",
    "        u_0k = alpha(t[k])\n",
    "        u_k.insert(0, u_0k)\n",
    "\n",
    "        u_Nk = 2/3*h*beta(t[k]) + 4*u_k[N-1] + 2*u_k[N-2]\n",
    "        u_k.insert(N, u_Nk)\n",
    "\n",
    "        u_copy = np.copy(u_k)\n",
    "        u.append(u_copy)\n",
    "        u_k.clear()\n",
    "\n",
    "    return u"
   ]
  },
  {
   "cell_type": "markdown",
   "metadata": {},
   "source": [
    "## Схема с весами"
   ]
  },
  {
   "cell_type": "code",
   "execution_count": 240,
   "metadata": {},
   "outputs": [],
   "source": [
    "def weights_sheme():\n",
    "    \n",
    "    \"\"\"\n",
    "    Решение схемой с весами.\n",
    "    Возвращаем решения при k = 0...M\n",
    "    \"\"\"\n",
    "\n",
    "    # Помещать решения будем в матрицу u\n",
    "    u = []\n",
    "\n",
    "    # Находим u^0_i\n",
    "    u_0i = phi(x)\n",
    "    u.append(u_0i)\n",
    "    \n",
    "    for k in range (1, M+1):\n",
    "        \n",
    "        # Реализуем трехдиагональную матрицу m\n",
    "        m = np.zeros((N+1, N+1))\n",
    "\n",
    "        # Первыя ряд\n",
    "        m[0][0] = 1\n",
    "        m[0][1] = 0\n",
    "\n",
    "        # Последний ряд\n",
    "        m[N][N-1] = -1/h\n",
    "        m[N][N] = -1/h\n",
    "\n",
    "        # Столбец справа\n",
    "        G = np.zeros(N+1)\n",
    "        G[0] = alpha(t[k])\n",
    "        G[N] = beta(t[k])\n",
    "        \n",
    "        # Заполняем матрицу\n",
    "        for i in range(1,N):\n",
    "            m[i][i-1] = a(x[i])/h**2\n",
    "            m[i][i] = -2*a(x[i])/h**2\n",
    "            m[i][i+1] = a(x[i])/h**2\n",
    "            \n",
    "            G[i] = -1/tau*u[k-1][i] - (1-1/2)*L(i, k-1, u) - f(x[i], t[k])\n",
    "            \n",
    "        u.append(np.linalg.solve(m, G))\n",
    "    \n",
    "    return u"
   ]
  },
  {
   "cell_type": "code",
   "execution_count": 241,
   "metadata": {},
   "outputs": [
    {
     "data": {
      "text/html": [
       "<div>\n",
       "<style scoped>\n",
       "    .dataframe tbody tr th:only-of-type {\n",
       "        vertical-align: middle;\n",
       "    }\n",
       "\n",
       "    .dataframe tbody tr th {\n",
       "        vertical-align: top;\n",
       "    }\n",
       "\n",
       "    .dataframe thead th {\n",
       "        text-align: right;\n",
       "    }\n",
       "</style>\n",
       "<table border=\"1\" class=\"dataframe\">\n",
       "  <thead>\n",
       "    <tr style=\"text-align: right;\">\n",
       "      <th></th>\n",
       "      <th>0</th>\n",
       "      <th>1</th>\n",
       "      <th>2</th>\n",
       "      <th>3</th>\n",
       "      <th>4</th>\n",
       "      <th>5</th>\n",
       "    </tr>\n",
       "  </thead>\n",
       "  <tbody>\n",
       "    <tr>\n",
       "      <th>0</th>\n",
       "      <td>0.000</td>\n",
       "      <td>0.008000</td>\n",
       "      <td>0.064000</td>\n",
       "      <td>0.216000</td>\n",
       "      <td>0.512000</td>\n",
       "      <td>1.000000</td>\n",
       "    </tr>\n",
       "    <tr>\n",
       "      <th>1</th>\n",
       "      <td>0.008</td>\n",
       "      <td>0.063556</td>\n",
       "      <td>0.093153</td>\n",
       "      <td>0.060158</td>\n",
       "      <td>-0.098343</td>\n",
       "      <td>-0.501657</td>\n",
       "    </tr>\n",
       "    <tr>\n",
       "      <th>2</th>\n",
       "      <td>0.064</td>\n",
       "      <td>-0.050914</td>\n",
       "      <td>-0.167125</td>\n",
       "      <td>-0.275046</td>\n",
       "      <td>-0.339445</td>\n",
       "      <td>-0.260555</td>\n",
       "    </tr>\n",
       "    <tr>\n",
       "      <th>3</th>\n",
       "      <td>0.216</td>\n",
       "      <td>0.068147</td>\n",
       "      <td>-0.071607</td>\n",
       "      <td>-0.185470</td>\n",
       "      <td>-0.264911</td>\n",
       "      <td>-0.335089</td>\n",
       "    </tr>\n",
       "    <tr>\n",
       "      <th>4</th>\n",
       "      <td>0.512</td>\n",
       "      <td>0.346605</td>\n",
       "      <td>0.158030</td>\n",
       "      <td>-0.039060</td>\n",
       "      <td>-0.227026</td>\n",
       "      <td>-0.372974</td>\n",
       "    </tr>\n",
       "    <tr>\n",
       "      <th>5</th>\n",
       "      <td>1.000</td>\n",
       "      <td>0.798063</td>\n",
       "      <td>0.528822</td>\n",
       "      <td>0.212152</td>\n",
       "      <td>-0.128693</td>\n",
       "      <td>-0.471307</td>\n",
       "    </tr>\n",
       "  </tbody>\n",
       "</table>\n",
       "</div>"
      ],
      "text/plain": [
       "       0         1         2         3         4         5\n",
       "0  0.000  0.008000  0.064000  0.216000  0.512000  1.000000\n",
       "1  0.008  0.063556  0.093153  0.060158 -0.098343 -0.501657\n",
       "2  0.064 -0.050914 -0.167125 -0.275046 -0.339445 -0.260555\n",
       "3  0.216  0.068147 -0.071607 -0.185470 -0.264911 -0.335089\n",
       "4  0.512  0.346605  0.158030 -0.039060 -0.227026 -0.372974\n",
       "5  1.000  0.798063  0.528822  0.212152 -0.128693 -0.471307"
      ]
     },
     "execution_count": 241,
     "metadata": {},
     "output_type": "execute_result"
    }
   ],
   "source": [
    "pd.DataFrame(weights_sheme())"
   ]
  },
  {
   "cell_type": "code",
   "execution_count": 242,
   "metadata": {},
   "outputs": [
    {
     "data": {
      "text/html": [
       "<div>\n",
       "<style scoped>\n",
       "    .dataframe tbody tr th:only-of-type {\n",
       "        vertical-align: middle;\n",
       "    }\n",
       "\n",
       "    .dataframe tbody tr th {\n",
       "        vertical-align: top;\n",
       "    }\n",
       "\n",
       "    .dataframe thead th {\n",
       "        text-align: right;\n",
       "    }\n",
       "</style>\n",
       "<table border=\"1\" class=\"dataframe\">\n",
       "  <thead>\n",
       "    <tr style=\"text-align: right;\">\n",
       "      <th></th>\n",
       "      <th>0</th>\n",
       "      <th>1</th>\n",
       "      <th>2</th>\n",
       "      <th>3</th>\n",
       "      <th>4</th>\n",
       "      <th>5</th>\n",
       "    </tr>\n",
       "  </thead>\n",
       "  <tbody>\n",
       "    <tr>\n",
       "      <th>0</th>\n",
       "      <td>0.000</td>\n",
       "      <td>0.008000</td>\n",
       "      <td>0.064000</td>\n",
       "      <td>0.216000</td>\n",
       "      <td>0.512000</td>\n",
       "      <td>1.000000</td>\n",
       "    </tr>\n",
       "    <tr>\n",
       "      <th>1</th>\n",
       "      <td>0.008</td>\n",
       "      <td>0.243216</td>\n",
       "      <td>0.506109</td>\n",
       "      <td>0.810242</td>\n",
       "      <td>1.180838</td>\n",
       "      <td>6.743837</td>\n",
       "    </tr>\n",
       "    <tr>\n",
       "      <th>2</th>\n",
       "      <td>0.064</td>\n",
       "      <td>0.380444</td>\n",
       "      <td>0.699228</td>\n",
       "      <td>1.089319</td>\n",
       "      <td>19.275144</td>\n",
       "      <td>79.679215</td>\n",
       "    </tr>\n",
       "    <tr>\n",
       "      <th>3</th>\n",
       "      <td>0.216</td>\n",
       "      <td>0.398309</td>\n",
       "      <td>1.040421</td>\n",
       "      <td>74.545785</td>\n",
       "      <td>166.369419</td>\n",
       "      <td>814.969246</td>\n",
       "    </tr>\n",
       "    <tr>\n",
       "      <th>4</th>\n",
       "      <td>0.512</td>\n",
       "      <td>2.665894</td>\n",
       "      <td>336.626722</td>\n",
       "      <td>150.182586</td>\n",
       "      <td>2105.975565</td>\n",
       "      <td>8724.667433</td>\n",
       "    </tr>\n",
       "    <tr>\n",
       "      <th>5</th>\n",
       "      <td>1.000</td>\n",
       "      <td>1628.655924</td>\n",
       "      <td>-2059.945640</td>\n",
       "      <td>8990.582316</td>\n",
       "      <td>18349.442671</td>\n",
       "      <td>91379.335315</td>\n",
       "    </tr>\n",
       "  </tbody>\n",
       "</table>\n",
       "</div>"
      ],
      "text/plain": [
       "       0            1            2            3             4             5\n",
       "0  0.000     0.008000     0.064000     0.216000      0.512000      1.000000\n",
       "1  0.008     0.243216     0.506109     0.810242      1.180838      6.743837\n",
       "2  0.064     0.380444     0.699228     1.089319     19.275144     79.679215\n",
       "3  0.216     0.398309     1.040421    74.545785    166.369419    814.969246\n",
       "4  0.512     2.665894   336.626722   150.182586   2105.975565   8724.667433\n",
       "5  1.000  1628.655924 -2059.945640  8990.582316  18349.442671  91379.335315"
      ]
     },
     "execution_count": 242,
     "metadata": {},
     "output_type": "execute_result"
    }
   ],
   "source": [
    "pd.DataFrame(explicit_difference_scheme())"
   ]
  },
  {
   "cell_type": "code",
   "execution_count": null,
   "metadata": {},
   "outputs": [],
   "source": []
  }
 ],
 "metadata": {
  "kernelspec": {
   "display_name": "Python 3",
   "language": "python",
   "name": "python3"
  },
  "language_info": {
   "codemirror_mode": {
    "name": "ipython",
    "version": 3
   },
   "file_extension": ".py",
   "mimetype": "text/x-python",
   "name": "python",
   "nbconvert_exporter": "python",
   "pygments_lexer": "ipython3",
   "version": "3.8.0"
  },
  "toc": {
   "base_numbering": 1,
   "nav_menu": {},
   "number_sections": true,
   "sideBar": true,
   "skip_h1_title": false,
   "title_cell": "Table of Contents",
   "title_sidebar": "Contents",
   "toc_cell": false,
   "toc_position": {},
   "toc_section_display": true,
   "toc_window_display": false
  }
 },
 "nbformat": 4,
 "nbformat_minor": 4
}
