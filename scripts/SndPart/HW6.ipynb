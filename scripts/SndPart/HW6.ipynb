{
 "cells": [
  {
   "cell_type": "markdown",
   "metadata": {},
   "source": [
    "Студент Жилкин Федор, 344\n",
    "# Домашняя работа 6: \"Решение уравнения теплопроводности методом сеток.\"\n",
    "**Задания:**\n",
    "1. Явная разностная схема\n",
    "2. Схема с весами"
   ]
  },
  {
   "cell_type": "markdown",
   "metadata": {},
   "source": [
    "$$\\frac{d^2u}{dt^2}=cos(x)\\frac{d^2u}{dx^2}+f(x,t),$$\n",
    "$$u(x,0)=\\phi(x), \\frac{du}{dt}\\bigg|_{t=0} = \\psi(x), 0\\leq x \\leq 1,$$\n",
    "$$u(0,t)=\\alpha(t), \\frac{du}{dx}\\bigg|_{x=1} = \\beta(t), 0\\leq t \\leq 1.$$"
   ]
  },
  {
   "cell_type": "code",
   "execution_count": 2,
   "metadata": {},
   "outputs": [],
   "source": [
    "import numpy as np\n",
    "import pandas as pd \n",
    "import sympy\n",
    "import matplotlib.pyplot as plt "
   ]
  },
  {
   "cell_type": "markdown",
   "metadata": {},
   "source": [
    "**Зададим сетку**"
   ]
  },
  {
   "cell_type": "code",
   "execution_count": 9,
   "metadata": {},
   "outputs": [],
   "source": [
    "# Разбиваем отрезок [0,1] на N равных частей\n",
    "N = 5\n",
    "h = 1/N\n",
    "x = np.arange(0, 1 + h, h)\n",
    "\n",
    "T = 1\n",
    "# Разобьем отрезок [0, T] на M равных частей\n",
    "M = 5\n",
    "tau = T/M\n",
    "t = np.arange(0, T + tau, tau)"
   ]
  },
  {
   "cell_type": "markdown",
   "metadata": {},
   "source": [
    "$a(x,t)=cos(x) + 0*t = cos(x)$\n",
    "\n",
    "$b(x,t) = 0$\n",
    "\n",
    "$c(x,t) = 0$"
   ]
  },
  {
   "cell_type": "code",
   "execution_count": 18,
   "metadata": {},
   "outputs": [],
   "source": [
    "def a(x):\n",
    "    return np.cos(x)"
   ]
  },
  {
   "cell_type": "markdown",
   "metadata": {},
   "source": [
    "Пусть $u(x,t) = x^3 + t^3,$ тогда $u(x,0)=\\phi(x)=x^3$"
   ]
  },
  {
   "cell_type": "code",
   "execution_count": 11,
   "metadata": {},
   "outputs": [],
   "source": [
    "def phi(x):\n",
    "    return x**3"
   ]
  },
  {
   "cell_type": "markdown",
   "metadata": {},
   "source": [
    "Т.к. $u(x,t) = x^3 + t^3,$ тогда $u(0,t)=\\alpha(t)=t^3$"
   ]
  },
  {
   "cell_type": "code",
   "execution_count": 16,
   "metadata": {},
   "outputs": [],
   "source": [
    "def alpha(t):\n",
    "    return t**3"
   ]
  },
  {
   "cell_type": "markdown",
   "metadata": {},
   "source": [
    "$\\frac{du}{dx}(1, t) = 3 = \\beta(t)$"
   ]
  },
  {
   "cell_type": "code",
   "execution_count": 32,
   "metadata": {},
   "outputs": [],
   "source": [
    "def beta(t):\n",
    "    return 3"
   ]
  },
  {
   "cell_type": "markdown",
   "metadata": {},
   "source": [
    "Пусть $f(x, t)=xt^2$"
   ]
  },
  {
   "cell_type": "code",
   "execution_count": 17,
   "metadata": {},
   "outputs": [],
   "source": [
    "def f(x, t):\n",
    "    return x*t**2"
   ]
  },
  {
   "cell_type": "markdown",
   "metadata": {},
   "source": [
    "Заменяем L разностным оператором"
   ]
  },
  {
   "cell_type": "code",
   "execution_count": 105,
   "metadata": {},
   "outputs": [],
   "source": [
    "def L(i, k, u):\n",
    "    return a(x[i])*((u[k][i+1] - 2*u[k][i] + u[k][i-1])/(h**2))"
   ]
  },
  {
   "cell_type": "markdown",
   "metadata": {},
   "source": [
    "## Явная разностная схема"
   ]
  },
  {
   "cell_type": "code",
   "execution_count": 122,
   "metadata": {},
   "outputs": [],
   "source": [
    "def explicit_difference_scheme():\n",
    "    \n",
    "    \"\"\"\n",
    "    Решение явной разностной схемой.\n",
    "    Возвращаем решения при k = 0...M\n",
    "    \"\"\"\n",
    "\n",
    "    # Помещать решения будем в матрицу u\n",
    "    u = []\n",
    "\n",
    "    # Находим u^0_i\n",
    "    u_0i = phi(x)\n",
    "    u.append(u_0i)\n",
    "\n",
    "    # Находим решения u^k_i при k = 1...M \n",
    "    for k in range(1, M+1):\n",
    "        u_k = [u[k-1][i] + tau*(L(i, k-1, u) + f(x[i], t[k-1])) for i in range(1, N)]\n",
    "\n",
    "        u_0k = alpha(t[k])\n",
    "        u_k.insert(0, u_0k)\n",
    "\n",
    "        u_Nk = 2/3*h*beta(t[k]) + 4*u_k[N-1] + 2*u_k[N-2]\n",
    "        u_k.insert(N, u_Nk)\n",
    "\n",
    "        u_copy = np.copy(u_k)\n",
    "        u.append(u_copy)\n",
    "        u_k.clear()\n",
    "\n",
    "    return u"
   ]
  },
  {
   "cell_type": "code",
   "execution_count": null,
   "metadata": {},
   "outputs": [],
   "source": []
  }
 ],
 "metadata": {
  "kernelspec": {
   "display_name": "Python 3",
   "language": "python",
   "name": "python3"
  },
  "language_info": {
   "codemirror_mode": {
    "name": "ipython",
    "version": 3
   },
   "file_extension": ".py",
   "mimetype": "text/x-python",
   "name": "python",
   "nbconvert_exporter": "python",
   "pygments_lexer": "ipython3",
   "version": "3.8.0"
  },
  "toc": {
   "base_numbering": 1,
   "nav_menu": {},
   "number_sections": true,
   "sideBar": true,
   "skip_h1_title": false,
   "title_cell": "Table of Contents",
   "title_sidebar": "Contents",
   "toc_cell": false,
   "toc_position": {},
   "toc_section_display": true,
   "toc_window_display": false
  }
 },
 "nbformat": 4,
 "nbformat_minor": 4
}
