{
 "cells": [
  {
   "cell_type": "markdown",
   "metadata": {},
   "source": [
    "Студент Жилкин Федор, 344\n",
    "# Домашняя работа 3: \"Решение частичной проблемы собственных значений.\"\n",
    "**Задания:**\n",
    "\n",
    "1. Степенной метод \n",
    "2. Метод скалярных произведений"
   ]
  },
  {
   "cell_type": "code",
   "execution_count": 1,
   "metadata": {},
   "outputs": [],
   "source": [
    "import numpy as np"
   ]
  },
  {
   "cell_type": "code",
   "execution_count": 2,
   "metadata": {},
   "outputs": [
    {
     "data": {
      "text/plain": [
       "array([[ 1.,  2.,  1.],\n",
       "       [ 0.,  5.,  1.],\n",
       "       [ 6.,  4., -1.]])"
      ]
     },
     "execution_count": 2,
     "metadata": {},
     "output_type": "execute_result"
    }
   ],
   "source": [
    "A = np.array([[1., 2., 1.], [0., 5., 1.], [6., 4, -1.]])\n",
    "A"
   ]
  },
  {
   "cell_type": "code",
   "execution_count": 3,
   "metadata": {},
   "outputs": [],
   "source": [
    "# Необходимая точность\n",
    "eps = 0.0001"
   ]
  },
  {
   "cell_type": "markdown",
   "metadata": {},
   "source": [
    "## Степенной метод "
   ]
  },
  {
   "cell_type": "code",
   "execution_count": 54,
   "metadata": {},
   "outputs": [],
   "source": [
    "def power_method(A):\n",
    "    \n",
    "    # Рандомный вектор\n",
    "    b = np.random.rand(A.shape[1])\n",
    "    \n",
    "    # Максимальное (по модулю) собственное значение \n",
    "    real_eigenvalue = max(abs(np.linalg.eigvals(A)))\n",
    "    \n",
    "    # Количество итераций\n",
    "    i = 0\n",
    "    \n",
    "    eigenvalue = -1;\n",
    "    while(abs(eigenvalue - real_eigenvalue) > eps):\n",
    "        b_new = np.dot(A, b)\n",
    "        b_new_norm = np.linalg.norm(b_new)\n",
    "        b = b_new / b_new_norm\n",
    "        \n",
    "        # Собственное значение\n",
    "        Ab = A.dot(b)\n",
    "        eigenvalue = b.dot(Ab)\n",
    "        \n",
    "        i += 1\n",
    "        \n",
    "    # Собственный вектор    \n",
    "    eigenvector = b \n",
    "    \n",
    "    return eigenvalue, eigenvector, i"
   ]
  },
  {
   "cell_type": "code",
   "execution_count": 50,
   "metadata": {},
   "outputs": [
    {
     "data": {
      "text/plain": [
       "(6.078953466706857, array([0.38101743, 0.62851808, 0.67807871]), 14)"
      ]
     },
     "execution_count": 50,
     "metadata": {},
     "output_type": "execute_result"
    }
   ],
   "source": [
    "power_method(A)"
   ]
  },
  {
   "cell_type": "markdown",
   "metadata": {},
   "source": [
    "**Максимальное собственное значение:** $ \\lambda = 6.0789$ \n",
    "\n",
    "**Вектор:** \n",
    "$v = \n",
    "\\begin{pmatrix}\n",
    " 0.3810155 \\\\\n",
    " 0.62851587 \\\\\n",
    " 0.67808184\n",
    "\\end{pmatrix}\n",
    "$\n",
    "\n",
    "**Решение с заданной точностью получено за 14 итераций**"
   ]
  },
  {
   "cell_type": "markdown",
   "metadata": {},
   "source": [
    "## Метод скалярных произведений"
   ]
  },
  {
   "cell_type": "code",
   "execution_count": 55,
   "metadata": {},
   "outputs": [],
   "source": [
    "def dot_product_method(A):\n",
    "    \n",
    "    # Рандомные вектора X, Y\n",
    "    X = np.random.rand(A.shape[1])\n",
    "    Y = np.random.rand(A.shape[1])\n",
    "    \n",
    "    # Максимальное (по модулю) собственное значение \n",
    "    real_eigenvalue = max(abs(np.linalg.eigvals(A)))\n",
    "    \n",
    "    # Количество итераций\n",
    "    i = 0\n",
    "    \n",
    "    eigenvalue = -1;\n",
    "    while(abs(eigenvalue - real_eigenvalue) > eps):\n",
    "        X_new = np.dot(A, X)\n",
    "        Y_new = np.dot(A.transpose(), Y)\n",
    "\n",
    "        # Собственное значение\n",
    "        eigenvalue = np.dot(X_new, Y_new)/np.dot(X, Y_new)\n",
    "        \n",
    "        X = np.copy(X_new)\n",
    "        Y = np.copy(Y_new)\n",
    "        \n",
    "        i += 1\n",
    "    \n",
    "    # Собственный вектор \n",
    "    eigenvector = X_new / np.linalg.norm(X_new)\n",
    "    \n",
    "    return eigenvalue, eigenvector, i"
   ]
  },
  {
   "cell_type": "code",
   "execution_count": 57,
   "metadata": {},
   "outputs": [
    {
     "data": {
      "text/plain": [
       "(6.078859972324903, array([0.38080501, 0.62826886, 0.67842891]), 7)"
      ]
     },
     "execution_count": 57,
     "metadata": {},
     "output_type": "execute_result"
    }
   ],
   "source": [
    "dot_product_method(A)"
   ]
  },
  {
   "cell_type": "markdown",
   "metadata": {},
   "source": [
    "**Максимальное собственное значение:** $ \\lambda = 6.0788$ \n",
    "\n",
    "**Вектор:** \n",
    "$v = \n",
    "\\begin{pmatrix}\n",
    " 0.38080501 \\\\\n",
    " 0.62826886 \\\\\n",
    " 0.67842891\n",
    "\\end{pmatrix}\n",
    "$\n",
    "\n",
    "**Решение с заданной точностью получено за 7 итераций**"
   ]
  },
  {
   "cell_type": "code",
   "execution_count": null,
   "metadata": {},
   "outputs": [],
   "source": []
  }
 ],
 "metadata": {
  "kernelspec": {
   "display_name": "Python 3",
   "language": "python",
   "name": "python3"
  },
  "language_info": {
   "codemirror_mode": {
    "name": "ipython",
    "version": 3
   },
   "file_extension": ".py",
   "mimetype": "text/x-python",
   "name": "python",
   "nbconvert_exporter": "python",
   "pygments_lexer": "ipython3",
   "version": "3.8.0"
  },
  "toc": {
   "base_numbering": 1,
   "nav_menu": {},
   "number_sections": true,
   "sideBar": true,
   "skip_h1_title": false,
   "title_cell": "Table of Contents",
   "title_sidebar": "Contents",
   "toc_cell": false,
   "toc_position": {},
   "toc_section_display": true,
   "toc_window_display": false
  }
 },
 "nbformat": 4,
 "nbformat_minor": 4
}
