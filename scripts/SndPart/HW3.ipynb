{
 "cells": [
  {
   "cell_type": "markdown",
   "metadata": {},
   "source": [
    "Студент Жилкин Федор, 344\n",
    "# Домашняя работа 3: \"Решение частичной проблемы собственных значений.\"\n",
    "**Задания:**\n",
    "\n",
    "1. Степенной метод \n",
    "2. Метод скалярных произведений"
   ]
  },
  {
   "cell_type": "code",
   "execution_count": 149,
   "metadata": {},
   "outputs": [],
   "source": [
    "import numpy as np\n",
    "import pandas as pd "
   ]
  },
  {
   "cell_type": "code",
   "execution_count": 2,
   "metadata": {},
   "outputs": [
    {
     "data": {
      "text/plain": [
       "array([[ 1.,  2.,  1.],\n",
       "       [ 0.,  5.,  1.],\n",
       "       [ 6.,  4., -1.]])"
      ]
     },
     "execution_count": 2,
     "metadata": {},
     "output_type": "execute_result"
    }
   ],
   "source": [
    "A = np.array([[1., 2., 1.], [0., 5., 1.], [6., 4, -1.]])\n",
    "A"
   ]
  },
  {
   "cell_type": "code",
   "execution_count": 3,
   "metadata": {},
   "outputs": [],
   "source": [
    "# Необходимая точность\n",
    "eps = 0.0001"
   ]
  },
  {
   "cell_type": "code",
   "execution_count": 110,
   "metadata": {},
   "outputs": [
    {
     "data": {
      "text/plain": [
       "(6.078881599637601, array([0.38101118, 0.62851092, 0.67808886]))"
      ]
     },
     "execution_count": 110,
     "metadata": {},
     "output_type": "execute_result"
    }
   ],
   "source": [
    "# Максимальное (по модулю) собственное значение \n",
    "real_eigvalue = max(abs(np.linalg.eigvals(A)))\n",
    "\n",
    "# Собственный вектор \n",
    "ind = list(abs(np.linalg.eigvals(A))).index(eigvalue)\n",
    "real_eigvector = np.array([abs(str_[ind:][0]) for str_ in list(np.linalg.eig(A))[1:][0]])\n",
    "\n",
    "real_eigvalue, real_eigvector "
   ]
  },
  {
   "cell_type": "markdown",
   "metadata": {},
   "source": [
    "## Степенной метод "
   ]
  },
  {
   "cell_type": "code",
   "execution_count": 92,
   "metadata": {},
   "outputs": [],
   "source": [
    "def power_method(A):\n",
    "    \n",
    "    # Рандомный вектор\n",
    "    b = np.random.rand(A.shape[1])\n",
    "    \n",
    "    # Количество итераций\n",
    "    i = 0\n",
    "    \n",
    "    eigenvalue = -1;\n",
    "    while(abs(eigenvalue - real_eigvalue) > eps):\n",
    "        b_new = np.dot(A, b)\n",
    "        b_new_norm = np.linalg.norm(b_new)\n",
    "        b = b_new / b_new_norm\n",
    "        \n",
    "        # Собственное значение\n",
    "        Ab = A.dot(b)\n",
    "        eigenvalue = b.dot(Ab)\n",
    "        \n",
    "        i += 1\n",
    "        \n",
    "    # Собственный вектор    \n",
    "    eigenvector = b \n",
    "    \n",
    "    return eigenvalue, eigenvector, i"
   ]
  },
  {
   "cell_type": "code",
   "execution_count": 50,
   "metadata": {},
   "outputs": [
    {
     "data": {
      "text/plain": [
       "(6.078953466706857, array([0.38101743, 0.62851808, 0.67807871]), 14)"
      ]
     },
     "execution_count": 50,
     "metadata": {},
     "output_type": "execute_result"
    }
   ],
   "source": [
    "power_method(A)"
   ]
  },
  {
   "cell_type": "markdown",
   "metadata": {},
   "source": [
    "**Максимальное собственное значение:** $ \\lambda = 6.0789$ \n",
    "\n",
    "**Вектор:** \n",
    "$v = \n",
    "\\begin{pmatrix}\n",
    " 0.3810155 \\\\\n",
    " 0.62851587 \\\\\n",
    " 0.67808184\n",
    "\\end{pmatrix}\n",
    "$\n",
    "\n",
    "**Решение с заданной точностью получено за 14 итераций**"
   ]
  },
  {
   "cell_type": "markdown",
   "metadata": {},
   "source": [
    "## Метод скалярных произведений"
   ]
  },
  {
   "cell_type": "code",
   "execution_count": 93,
   "metadata": {},
   "outputs": [],
   "source": [
    "def dot_product_method(A):\n",
    "    \n",
    "    # Рандомные вектора X, Y\n",
    "    X = np.random.rand(A.shape[1])\n",
    "    Y = np.random.rand(A.shape[1])\n",
    "    \n",
    "    # Количество итераций\n",
    "    i = 0\n",
    "    \n",
    "    eigenvalue = -1;\n",
    "    while(abs(eigenvalue - real_eigvalue) > eps):\n",
    "        X_new = np.dot(A, X)\n",
    "        Y_new = np.dot(A.transpose(), Y)\n",
    "\n",
    "        # Собственное значение\n",
    "        eigenvalue = np.dot(X_new, Y_new)/np.dot(X, Y_new)\n",
    "        \n",
    "        X = np.copy(X_new)\n",
    "        Y = np.copy(Y_new)\n",
    "        \n",
    "        i += 1\n",
    "    \n",
    "    # Собственный вектор \n",
    "    eigenvector = X_new / np.linalg.norm(X_new)\n",
    "    \n",
    "    return eigenvalue, eigenvector, i"
   ]
  },
  {
   "cell_type": "code",
   "execution_count": 57,
   "metadata": {},
   "outputs": [
    {
     "data": {
      "text/plain": [
       "(6.078859972324903, array([0.38080501, 0.62826886, 0.67842891]), 7)"
      ]
     },
     "execution_count": 57,
     "metadata": {},
     "output_type": "execute_result"
    }
   ],
   "source": [
    "dot_product_method(A)"
   ]
  },
  {
   "cell_type": "markdown",
   "metadata": {},
   "source": [
    "**Максимальное собственное значение:** $ \\lambda = 6.0788$ \n",
    "\n",
    "**Вектор:** \n",
    "$v = \n",
    "\\begin{pmatrix}\n",
    " 0.38080501 \\\\\n",
    " 0.62826886 \\\\\n",
    " 0.67842891\n",
    "\\end{pmatrix}\n",
    "$\n",
    "\n",
    "**Решение с заданной точностью получено за 7 итераций**"
   ]
  },
  {
   "cell_type": "markdown",
   "metadata": {},
   "source": [
    "## Сравнение результатов"
   ]
  },
  {
   "cell_type": "code",
   "execution_count": 147,
   "metadata": {},
   "outputs": [],
   "source": [
    "def compare_res(A, funcs):\n",
    "    \n",
    "    res_dict = {}\n",
    "    for f in funcs:\n",
    "        name = f.__name__\n",
    "        res_value, res_vector, i = f(A)   \n",
    "        error_vector = sum(abs(abs(res_vector) - abs(real_eigvector))) / len(real_eigvector)\n",
    "        error_value = abs(res_value - real_eigvalue)\n",
    "        res = list(map(lambda x: round(x, 6),(np.array((error_vector, error_value, i)))))\n",
    "        res_dict[name] = res\n",
    "    \n",
    "    return res_dict"
   ]
  },
  {
   "cell_type": "code",
   "execution_count": 150,
   "metadata": {},
   "outputs": [],
   "source": [
    "res_rate = compare_res(A, [power_method, dot_product_method])"
   ]
  },
  {
   "cell_type": "code",
   "execution_count": 159,
   "metadata": {},
   "outputs": [
    {
     "data": {
      "text/html": [
       "<style  type=\"text/css\" >\n",
       "</style><table id=\"T_ed960c75_7857_11ea_bdeb_98e7f44f524b\" ><thead>    <tr>        <th class=\"col_heading level0 col0\" >Method</th>        <th class=\"col_heading level0 col1\" >Eig vector error</th>        <th class=\"col_heading level0 col2\" >Eig value error</th>        <th class=\"col_heading level0 col3\" >Iterations</th>    </tr></thead><tbody>\n",
       "                <tr>\n",
       "                                <td id=\"T_ed960c75_7857_11ea_bdeb_98e7f44f524brow0_col0\" class=\"data row0 col0\" >power_method</td>\n",
       "                        <td id=\"T_ed960c75_7857_11ea_bdeb_98e7f44f524brow0_col1\" class=\"data row0 col1\" >0.000007</td>\n",
       "                        <td id=\"T_ed960c75_7857_11ea_bdeb_98e7f44f524brow0_col2\" class=\"data row0 col2\" >0.000062</td>\n",
       "                        <td id=\"T_ed960c75_7857_11ea_bdeb_98e7f44f524brow0_col3\" class=\"data row0 col3\" >13.000000</td>\n",
       "            </tr>\n",
       "            <tr>\n",
       "                                <td id=\"T_ed960c75_7857_11ea_bdeb_98e7f44f524brow1_col0\" class=\"data row1 col0\" >dot_product_method</td>\n",
       "                        <td id=\"T_ed960c75_7857_11ea_bdeb_98e7f44f524brow1_col1\" class=\"data row1 col1\" >0.001211</td>\n",
       "                        <td id=\"T_ed960c75_7857_11ea_bdeb_98e7f44f524brow1_col2\" class=\"data row1 col2\" >0.000082</td>\n",
       "                        <td id=\"T_ed960c75_7857_11ea_bdeb_98e7f44f524brow1_col3\" class=\"data row1 col3\" >6.000000</td>\n",
       "            </tr>\n",
       "    </tbody></table>"
      ],
      "text/plain": [
       "<pandas.io.formats.style.Styler at 0x1fe2cab20d0>"
      ]
     },
     "execution_count": 159,
     "metadata": {},
     "output_type": "execute_result"
    }
   ],
   "source": [
    "d = {'Method': list(res_rate.keys()), \n",
    "     'Eig vector error': list([element[0] for element in res_rate.values()]),\n",
    "     'Eig value error': list([element[1] for element in res_rate.values()]), \n",
    "     'Iterations' : list([element[2] for element in res_rate.values()])}\n",
    "df = pd.DataFrame(data=d)\n",
    "df.style.hide_index()"
   ]
  },
  {
   "cell_type": "markdown",
   "metadata": {},
   "source": [
    "## Вывод"
   ]
  },
  {
   "cell_type": "markdown",
   "metadata": {},
   "source": [
    "**Степенной метод** показывает более точные результаты, чем **метод скалярных произведений**, но и требует больше итераций (в среднем тесты показывали почти в 2 раза больше итераций)."
   ]
  },
  {
   "cell_type": "code",
   "execution_count": null,
   "metadata": {},
   "outputs": [],
   "source": []
  }
 ],
 "metadata": {
  "kernelspec": {
   "display_name": "Python 3",
   "language": "python",
   "name": "python3"
  },
  "language_info": {
   "codemirror_mode": {
    "name": "ipython",
    "version": 3
   },
   "file_extension": ".py",
   "mimetype": "text/x-python",
   "name": "python",
   "nbconvert_exporter": "python",
   "pygments_lexer": "ipython3",
   "version": "3.8.0"
  },
  "toc": {
   "base_numbering": 1,
   "nav_menu": {},
   "number_sections": true,
   "sideBar": true,
   "skip_h1_title": false,
   "title_cell": "Table of Contents",
   "title_sidebar": "Contents",
   "toc_cell": false,
   "toc_position": {},
   "toc_section_display": true,
   "toc_window_display": false
  }
 },
 "nbformat": 4,
 "nbformat_minor": 4
}
