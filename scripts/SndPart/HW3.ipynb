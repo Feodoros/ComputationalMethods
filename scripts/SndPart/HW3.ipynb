{
 "cells": [
  {
   "cell_type": "markdown",
   "metadata": {},
   "source": [
    "Студент Жилкин Федор, 344\n",
    "# Домашняя работа 3: \"Решение частичной проблемы собственных значений.\"\n",
    "**Задания:**\n",
    "\n",
    "1. Степенной метод \n",
    "2. Метод скалярных произведений"
   ]
  },
  {
   "cell_type": "code",
   "execution_count": 1,
   "metadata": {},
   "outputs": [],
   "source": [
    "import numpy as np"
   ]
  },
  {
   "cell_type": "code",
   "execution_count": 9,
   "metadata": {},
   "outputs": [],
   "source": [
    "A = np.array([[1., 2., 1.], [0., 5., 1.], [6., 4, -1.]])"
   ]
  },
  {
   "cell_type": "markdown",
   "metadata": {},
   "source": [
    "## Степенной метод "
   ]
  },
  {
   "cell_type": "code",
   "execution_count": 72,
   "metadata": {},
   "outputs": [],
   "source": [
    "def power_method(A):\n",
    "    \n",
    "    # Рандомный вектор\n",
    "    b = np.random.rand(A.shape[1])\n",
    "    \n",
    "    # Максимальное (по модулю) собственное значение \n",
    "    real_eigenvalue = max(abs(np.linalg.eig(A)[0]))\n",
    "    \n",
    "    eigenvalue = -1;\n",
    "    i = 0\n",
    "    while(abs(eigenvalue - real_eigenvalue) > 0.00001):\n",
    "        b_new = np.dot(A, b)\n",
    "        b_new_norm = np.linalg.norm(b_new)\n",
    "        b = b_new / b_new_norm\n",
    "        \n",
    "        # Собственное значение\n",
    "        Ab = A.dot(b)\n",
    "        eigenvalue = b.dot(Ab)\n",
    "        i += 1\n",
    "    \n",
    "    return i, eigenvalue"
   ]
  },
  {
   "cell_type": "code",
   "execution_count": 73,
   "metadata": {},
   "outputs": [
    {
     "data": {
      "text/plain": [
       "(14, 6.078874080164242)"
      ]
     },
     "execution_count": 73,
     "metadata": {},
     "output_type": "execute_result"
    }
   ],
   "source": [
    "power_method(A)"
   ]
  },
  {
   "cell_type": "code",
   "execution_count": null,
   "metadata": {},
   "outputs": [],
   "source": []
  }
 ],
 "metadata": {
  "kernelspec": {
   "display_name": "Python 3",
   "language": "python",
   "name": "python3"
  },
  "language_info": {
   "codemirror_mode": {
    "name": "ipython",
    "version": 3
   },
   "file_extension": ".py",
   "mimetype": "text/x-python",
   "name": "python",
   "nbconvert_exporter": "python",
   "pygments_lexer": "ipython3",
   "version": "3.8.0"
  },
  "toc": {
   "base_numbering": 1,
   "nav_menu": {},
   "number_sections": true,
   "sideBar": true,
   "skip_h1_title": false,
   "title_cell": "Table of Contents",
   "title_sidebar": "Contents",
   "toc_cell": false,
   "toc_position": {},
   "toc_section_display": true,
   "toc_window_display": false
  }
 },
 "nbformat": 4,
 "nbformat_minor": 4
}
