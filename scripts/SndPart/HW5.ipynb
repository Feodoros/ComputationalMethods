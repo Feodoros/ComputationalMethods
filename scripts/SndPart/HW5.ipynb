{
 "cells": [
  {
   "cell_type": "markdown",
   "metadata": {},
   "source": [
    "Студент Жилкин Федор, 344\n",
    "# Домашняя работа 5: \"Решение краевой задачи для ОДУ второго порядка.\"\n",
    "**Задания:**\n",
    "1. Разностный метод\n",
    "2. Метод разностной прогонки"
   ]
  },
  {
   "cell_type": "markdown",
   "metadata": {},
   "source": [
    "$$- \\frac{7-x}{8+3x}u^{''}+(1+ \\frac{x}{3})u^{'}+(1-\\frac{1}{2}e^{\\frac{x}{2}})u= \\frac{1}{2} - \\frac{x}{3}, u(-1)=u(1)=0$$"
   ]
  },
  {
   "cell_type": "code",
   "execution_count": 3,
   "metadata": {},
   "outputs": [],
   "source": [
    "import numpy as np\n",
    "import pandas as pd \n",
    "import sympy\n",
    "import matplotlib.pyplot as plt \n",
    "from scipy import interpolate"
   ]
  },
  {
   "cell_type": "markdown",
   "metadata": {},
   "source": [
    "$-p(x)u\" + q(x)u' + r(x)u = f(x), y(a) = \\alpha, y(b) = \\beta$ "
   ]
  },
  {
   "cell_type": "code",
   "execution_count": 4,
   "metadata": {},
   "outputs": [],
   "source": [
    "def f(x):\n",
    "    return 1/2 - x/3\n",
    "\n",
    "def r(x):\n",
    "    return 1 - 1/2*np.exp(x/2)\n",
    "\n",
    "def q(x):\n",
    "    return 1 + x/3\n",
    "\n",
    "def p(x):\n",
    "    return (7 - x)/(8 + 3*x)"
   ]
  },
  {
   "cell_type": "code",
   "execution_count": 5,
   "metadata": {},
   "outputs": [],
   "source": [
    "a, b = -1, 1\n",
    "alpha = beta = 0"
   ]
  },
  {
   "cell_type": "markdown",
   "metadata": {},
   "source": [
    "## Разностный метод"
   ]
  },
  {
   "cell_type": "markdown",
   "metadata": {},
   "source": [
    "Вычисляем коэффициенты для уравнения вида: $$A_iy_{i-1} - B_iy_i + C_iy_{i+1} = G_i$$"
   ]
  },
  {
   "cell_type": "code",
   "execution_count": 6,
   "metadata": {},
   "outputs": [],
   "source": [
    "def coeffs(h, x):\n",
    "    \n",
    "    \"\"\"\n",
    "    Вычисляем коэффициенты A, B, C, G\n",
    "    x -- точка \n",
    "    \"\"\"\n",
    "    \n",
    "    A = (-p(x) / h**2) + (-q(x) / 2*h)\n",
    "    B = -(2*p(x) / h**2 + r(x))\n",
    "    C = (-p(x) / h**2) + (q(x) / 2*h)\n",
    "    G = f(x)\n",
    "    \n",
    "    return A, B, C, G"
   ]
  },
  {
   "cell_type": "markdown",
   "metadata": {},
   "source": [
    "Т.к. получаем решение для **свдинутой сетки**, то выполним **интерполирование** для получение значений на основной сетке."
   ]
  },
  {
   "cell_type": "code",
   "execution_count": 8,
   "metadata": {},
   "outputs": [],
   "source": [
    "def interpolation(x, y):\n",
    "    \"\"\"\n",
    "    Интерполируем по узлам сдвинутой сетки, чтобы получить значения в точках\n",
    "    основной сетки.\n",
    "    x -- точки\n",
    "    y -- значения в точках\n",
    "    \"\"\"\n",
    "    return interpolate.interp1d(x, y)"
   ]
  },
  {
   "cell_type": "code",
   "execution_count": 109,
   "metadata": {},
   "outputs": [],
   "source": [
    "def difference_method(n):\n",
    "    \n",
    "    \"\"\"\n",
    "    Решение уравнения разностным методом.\n",
    "    Аппроксимировать граничные условия будем с порядком O(h^2) \n",
    "    n -- кол-во частей в разбиении отрезка\n",
    "    \"\"\"\n",
    "    \n",
    "    h = (b - a) / n\n",
    "    x_main = np.arange(a, b + h, h) # Основная сетка, n+1 точка\n",
    "    x_shifted = np.arange(a - h/2, b + h, h) # Сдвинутая сетка, n+2 точки\n",
    "    \n",
    "    M = np.zeros((n+2, n+2)) # Матрица коэффициентов\n",
    "    for i in range(1, n+1):\n",
    "        A, B, C, G = coeffs(h, x_shifted[i])\n",
    "        M[i][i-1] = A\n",
    "        M[i][i] = -B\n",
    "        M[i][i+1] = C\n",
    "    \n",
    "    # Первый ряд\n",
    "    B, C = coeffs(h, x_shifted[0])[1], coeffs(h, x_shifted[0])[2]\n",
    "    M[0][0] = B\n",
    "    M[0][1] = C\n",
    "    \n",
    "    # Последний ряд\n",
    "    A, B = coeffs(h, x_shifted[n+1])[0], coeffs(h, x_shifted[n+1])[1]\n",
    "    M[n+1][n+1] = B\n",
    "    M[n+1][n] = A\n",
    "    \n",
    "    # Столбец справа\n",
    "    G = f(x_shifted)\n",
    "\n",
    "    # Ответ\n",
    "    Y = np.linalg.solve(M, G)\n",
    "    \n",
    "    return Y, x_shifted"
   ]
  },
  {
   "cell_type": "markdown",
   "metadata": {},
   "source": [
    "## Тестирование разностного метода"
   ]
  },
  {
   "cell_type": "markdown",
   "metadata": {},
   "source": [
    "1. Решим уравнение на сдвинутой сетки\n",
    "2. Произведем интерполирование и найдем значение в точках основной сетки\n",
    "3. Разобьем сетку с шагом $h/2$ и выполним п. 1 и п.2 \n",
    "4. Уточним решение по Ричардсону\n",
    "5. Сравним полученные результаты с **точным решением**"
   ]
  },
  {
   "cell_type": "code",
   "execution_count": 110,
   "metadata": {},
   "outputs": [],
   "source": [
    "def test_difference(n):\n",
    "    \n",
    "    \"\"\"\n",
    "    Тестирование разностного метода.\n",
    "    n -- кол-во частей в разбиении отрезка.\n",
    "    \"\"\"\n",
    "    \n",
    "    # Добавляем граничные точки\n",
    "    def add_boundaries(X, Y):\n",
    "        X = np.insert(X, 1, -1)\n",
    "        Y = np.insert(Y, 1, 0)\n",
    "        X = np.insert(X, -1, -1)\n",
    "        Y = np.insert(Y, -1, 0)\n",
    "        return X, Y\n",
    "    \n",
    "    # Уточнение по Ричардсону\n",
    "    def richardson(y1, y2, s=2):\n",
    "        y_rev = []\n",
    "        for i in range(len(y1)):\n",
    "            r_m = (y2[2*i] - y1[i]) / (pow(2, s) - 1)\n",
    "            y_rev.append(y2[2*i] + r_m)\n",
    "        return y_rev\n",
    "    \n",
    "    h = (b - a) / n\n",
    "    Y, X = difference_method(n)\n",
    "    X, Y = add_boundaries(X, Y)\n",
    "    \n",
    "    # Интерполируем\n",
    "    inter = interpolation(X, Y)\n",
    "    x = np.arange(a, b + h, h)\n",
    "    y = np.array([inter(i) for i in x]) # Ответ\n",
    "    \n",
    "    # Решение с разбиением h/2 для уточнения по Ричардсону\n",
    "    h = (b - a) / (2*n)\n",
    "    Y_h, X_h = difference_method(2*n)\n",
    "    X_h, Y_h = add_boundaries(X_h, Y_h)\n",
    "    \n",
    "    # Интерполируем\n",
    "    inter_2 = interpolation(X_h, Y_h)\n",
    "    x_h = np.arange(a, b + h, h)\n",
    "    y_h = np.array([inter_2(i) for i in x_h]) \n",
    "    \n",
    "    # Ответ, уточненный по Ричардсону\n",
    "    y_ut = richardson(y, y_h)\n",
    "    \n",
    "    # Точное решение (получено с помощью сервиса WolframAlpha)\n",
    "    # Методому Рунге-Кутта четвертого порядка\n",
    "    y_ex = [0, 0.0733, 0.1330, 0.1795, 0.2130, 0.2330, 0.2383, 0.2262, 0.1911, 0.1224, 0]\n",
    "    \n",
    "    # Погрешность ответов\n",
    "    error_y = [abs(a-b) for a, b in zip(y, y_ex)]\n",
    "    error_y_ut = [abs(a-b) for a, b in zip(y_ut, y_ex)]\n",
    "    \n",
    "    return x, y, y_ut, error_y, error_y_ut"
   ]
  },
  {
   "cell_type": "code",
   "execution_count": 111,
   "metadata": {},
   "outputs": [
    {
     "data": {
      "text/html": [
       "<div>\n",
       "<style scoped>\n",
       "    .dataframe tbody tr th:only-of-type {\n",
       "        vertical-align: middle;\n",
       "    }\n",
       "\n",
       "    .dataframe tbody tr th {\n",
       "        vertical-align: top;\n",
       "    }\n",
       "\n",
       "    .dataframe thead th {\n",
       "        text-align: right;\n",
       "    }\n",
       "</style>\n",
       "<table border=\"1\" class=\"dataframe\">\n",
       "  <thead>\n",
       "    <tr style=\"text-align: right;\">\n",
       "      <th></th>\n",
       "      <th>$$x$$</th>\n",
       "      <th>$$Y$$</th>\n",
       "      <th>$$Y_{ut}$$</th>\n",
       "      <th>$$Y - Y_{ex}$$</th>\n",
       "      <th>$$Y_{ut} - Y_{ex}$$</th>\n",
       "    </tr>\n",
       "  </thead>\n",
       "  <tbody>\n",
       "    <tr>\n",
       "      <th>0</th>\n",
       "      <td>-1.0</td>\n",
       "      <td>0.000</td>\n",
       "      <td>0.000</td>\n",
       "      <td>0.000</td>\n",
       "      <td>0.000</td>\n",
       "    </tr>\n",
       "    <tr>\n",
       "      <th>1</th>\n",
       "      <td>-0.8</td>\n",
       "      <td>0.092</td>\n",
       "      <td>0.089</td>\n",
       "      <td>0.019</td>\n",
       "      <td>0.015</td>\n",
       "    </tr>\n",
       "    <tr>\n",
       "      <th>2</th>\n",
       "      <td>-0.6</td>\n",
       "      <td>0.155</td>\n",
       "      <td>0.152</td>\n",
       "      <td>0.022</td>\n",
       "      <td>0.019</td>\n",
       "    </tr>\n",
       "    <tr>\n",
       "      <th>3</th>\n",
       "      <td>-0.4</td>\n",
       "      <td>0.198</td>\n",
       "      <td>0.195</td>\n",
       "      <td>0.019</td>\n",
       "      <td>0.016</td>\n",
       "    </tr>\n",
       "    <tr>\n",
       "      <th>4</th>\n",
       "      <td>-0.2</td>\n",
       "      <td>0.223</td>\n",
       "      <td>0.220</td>\n",
       "      <td>0.010</td>\n",
       "      <td>0.007</td>\n",
       "    </tr>\n",
       "    <tr>\n",
       "      <th>5</th>\n",
       "      <td>-0.0</td>\n",
       "      <td>0.230</td>\n",
       "      <td>0.226</td>\n",
       "      <td>0.003</td>\n",
       "      <td>0.007</td>\n",
       "    </tr>\n",
       "    <tr>\n",
       "      <th>6</th>\n",
       "      <td>0.2</td>\n",
       "      <td>0.219</td>\n",
       "      <td>0.214</td>\n",
       "      <td>0.019</td>\n",
       "      <td>0.024</td>\n",
       "    </tr>\n",
       "    <tr>\n",
       "      <th>7</th>\n",
       "      <td>0.4</td>\n",
       "      <td>0.192</td>\n",
       "      <td>0.185</td>\n",
       "      <td>0.035</td>\n",
       "      <td>0.041</td>\n",
       "    </tr>\n",
       "    <tr>\n",
       "      <th>8</th>\n",
       "      <td>0.6</td>\n",
       "      <td>0.147</td>\n",
       "      <td>0.140</td>\n",
       "      <td>0.044</td>\n",
       "      <td>0.051</td>\n",
       "    </tr>\n",
       "    <tr>\n",
       "      <th>9</th>\n",
       "      <td>0.8</td>\n",
       "      <td>0.086</td>\n",
       "      <td>0.079</td>\n",
       "      <td>0.036</td>\n",
       "      <td>0.043</td>\n",
       "    </tr>\n",
       "    <tr>\n",
       "      <th>10</th>\n",
       "      <td>1.0</td>\n",
       "      <td>0.010</td>\n",
       "      <td>0.004</td>\n",
       "      <td>0.010</td>\n",
       "      <td>0.004</td>\n",
       "    </tr>\n",
       "  </tbody>\n",
       "</table>\n",
       "</div>"
      ],
      "text/plain": [
       "    $$x$$  $$Y$$  $$Y_{ut}$$  $$Y - Y_{ex}$$  $$Y_{ut} - Y_{ex}$$\n",
       "0    -1.0  0.000       0.000           0.000                0.000\n",
       "1    -0.8  0.092       0.089           0.019                0.015\n",
       "2    -0.6  0.155       0.152           0.022                0.019\n",
       "3    -0.4  0.198       0.195           0.019                0.016\n",
       "4    -0.2  0.223       0.220           0.010                0.007\n",
       "5    -0.0  0.230       0.226           0.003                0.007\n",
       "6     0.2  0.219       0.214           0.019                0.024\n",
       "7     0.4  0.192       0.185           0.035                0.041\n",
       "8     0.6  0.147       0.140           0.044                0.051\n",
       "9     0.8  0.086       0.079           0.036                0.043\n",
       "10    1.0  0.010       0.004           0.010                0.004"
      ]
     },
     "execution_count": 111,
     "metadata": {},
     "output_type": "execute_result"
    }
   ],
   "source": [
    "x, y, y_ut, error_y, error_y_ut = test_difference(10)\n",
    "\n",
    "data = {\n",
    "    \"$$x$$\" : x,\n",
    "    \"$$Y$$\" : y,\n",
    "    \"$$Y_{ut}$$\" : y_ut,\n",
    "    \"$$Y - Y_{ex}$$\" : error_y,\n",
    "    \"$$Y_{ut} - Y_{ex}$$\" : error_y_ut\n",
    "       }\n",
    "\n",
    "pd.DataFrame(data).round(3)"
   ]
  },
  {
   "cell_type": "code",
   "execution_count": 112,
   "metadata": {},
   "outputs": [
    {
     "data": {
      "image/png": "[encoded data removed]",
      "text/plain": [
       "<Figure size 576x432 with 1 Axes>"
      ]
     },
     "metadata": {
      "needs_background": "light"
     },
     "output_type": "display_data"
    }
   ],
   "source": [
    "x, y, y_ut, _, _ = test_difference(10)\n",
    "y_ex = [0, 0.0733, 0.1330, 0.1795, 0.2130, 0.2330, 0.2383, 0.2262, 0.1911, 0.1224, 0]\n",
    "\n",
    "fig, ax = plt.subplots(figsize=(8, 6))\n",
    "ax.set_xlabel(\"x\", fontsize=14)        \n",
    "ax.set_ylabel(\"y(x)\", fontsize=14)\n",
    "ax.grid(which=\"major\", linewidth=1.2)\n",
    "ax.grid(which=\"minor\", linestyle=\"--\", color=\"gray\", linewidth=0.5)\n",
    "ax.plot(x, y, label=\"y\")\n",
    "ax.plot(x, y_ut, label=\"y_ut\")\n",
    "ax.plot(x, y_ex, label=\"y_ex\")\n",
    "ax.legend()\n",
    "\n",
    "ax.xaxis.set_minor_locator(plt.AutoLocator())\n",
    "ax.yaxis.set_minor_locator(plt.AutoLocator())\n",
    "\n",
    "ax.tick_params(which='major', length=10, width=2)\n",
    "ax.tick_params(which='minor', length=5, width=1)\n",
    "plt.show()"
   ]
  },
  {
   "cell_type": "markdown",
   "metadata": {},
   "source": [
    "Решение $Y_{ex}$ было получено с помощью **метода Рунге-Кутта четвертого порядка**, т.е. оно тоже является **приближенным**. Оно приведено только лишь для сравнения с нашими результатами."
   ]
  },
  {
   "cell_type": "code",
   "execution_count": null,
   "metadata": {},
   "outputs": [],
   "source": []
  }
 ],
 "metadata": {
  "kernelspec": {
   "display_name": "Python 3",
   "language": "python",
   "name": "python3"
  },
  "language_info": {
   "codemirror_mode": {
    "name": "ipython",
    "version": 3
   },
   "file_extension": ".py",
   "mimetype": "text/x-python",
   "name": "python",
   "nbconvert_exporter": "python",
   "pygments_lexer": "ipython3",
   "version": "3.8.0"
  },
  "toc": {
   "base_numbering": 1,
   "nav_menu": {},
   "number_sections": true,
   "sideBar": true,
   "skip_h1_title": false,
   "title_cell": "Table of Contents",
   "title_sidebar": "Contents",
   "toc_cell": false,
   "toc_position": {},
   "toc_section_display": true,
   "toc_window_display": false
  }
 },
 "nbformat": 4,
 "nbformat_minor": 4
}
