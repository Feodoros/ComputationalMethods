{
 "cells": [
  {
   "cell_type": "markdown",
   "metadata": {},
   "source": [
    "Студент Жилкин Федор, 344\n",
    "# Домашняя работа 5: \"Решение краевой задачи для ОДУ второго порядка.\"\n",
    "**Задания:**\n",
    "1. Разностный метод\n",
    "2. Метод разностной прогонки"
   ]
  },
  {
   "cell_type": "markdown",
   "metadata": {},
   "source": [
    "$$- \\frac{7-x}{8+3x}u^{''}+(1+ \\frac{x}{3})u^{'}+(1-\\frac{1}{2}e^{\\frac{x}{2}})u= \\frac{1}{2} - \\frac{x}{3}, u(-1)=u(1)=0$$"
   ]
  },
  {
   "cell_type": "code",
   "execution_count": 3,
   "metadata": {},
   "outputs": [],
   "source": [
    "import numpy as np\n",
    "import pandas as pd \n",
    "import sympy\n",
    "import matplotlib.pyplot as plt \n",
    "from scipy import interpolate"
   ]
  },
  {
   "cell_type": "markdown",
   "metadata": {},
   "source": [
    "$-p(x)u\" + q(x)u' + r(x)u = f(x), y(a) = \\alpha, y(b) = \\beta$ "
   ]
  },
  {
   "cell_type": "code",
   "execution_count": 4,
   "metadata": {},
   "outputs": [],
   "source": [
    "def f(x):\n",
    "    return 1/2 - x/3\n",
    "\n",
    "def r(x):\n",
    "    return 1 - 1/2*np.exp(x/2)\n",
    "\n",
    "def q(x):\n",
    "    return 1 + x/3\n",
    "\n",
    "def p(x):\n",
    "    return (7 - x)/(8 + 3*x)"
   ]
  },
  {
   "cell_type": "code",
   "execution_count": 5,
   "metadata": {},
   "outputs": [],
   "source": [
    "a, b = -1, 1\n",
    "alpha = beta = 0"
   ]
  },
  {
   "cell_type": "markdown",
   "metadata": {},
   "source": [
    "Вычисляем коэффициенты для уравнения вида: $$A_iy_{i-1} - B_iy_i + C_iy_{i+1} = G_i$$"
   ]
  },
  {
   "cell_type": "code",
   "execution_count": 6,
   "metadata": {},
   "outputs": [],
   "source": [
    "def coeffs(h, x):\n",
    "    \n",
    "    \"\"\"\n",
    "    Вычисляем коэффициенты A, B, C, G\n",
    "    x -- точка \n",
    "    \"\"\"\n",
    "    \n",
    "    A = (-p(x) / h**2) + (-q(x) / 2*h)\n",
    "    B = -(2*p(x) / h**2 + r(x))\n",
    "    C = (-p(x) / h**2) + (q(x) / 2*h)\n",
    "    G = f(x)\n",
    "    \n",
    "    return A, B, C, G"
   ]
  },
  {
   "cell_type": "code",
   "execution_count": 8,
   "metadata": {},
   "outputs": [],
   "source": [
    "def interpolation(x, y):\n",
    "    \"\"\"\n",
    "    Интерполируем по узлам сдвинутой сетки, чтобы получить значения в точках\n",
    "    основной сетки.\n",
    "    x -- точки\n",
    "    y -- значения в точках\n",
    "    \"\"\"\n",
    "    return interpolate.interp1d(x, y)"
   ]
  },
  {
   "cell_type": "code",
   "execution_count": 9,
   "metadata": {},
   "outputs": [],
   "source": [
    "def difference_method(n):\n",
    "    \n",
    "    \"\"\"\n",
    "    Решение уравнения разностным методом.\n",
    "    Аппроксимировать граничные условия будем с порядком O(h^2) \n",
    "    n -- кол-во частей в разбиении отрезка\n",
    "    \"\"\"\n",
    "    \n",
    "    h = (b - a) / n\n",
    "    x_main = np.arange(a, b + h, h) # Основная сетка, n+1 точка\n",
    "    x_shifted = np.arange(a - h/2, b + h, h) # Сдвинутая сетка, n+2 точки\n",
    "    \n",
    "    M = np.zeros((n+2, n+2)) # Матрица коэффициентов\n",
    "    for i in range(1, n+1):\n",
    "        A, B, C, G = coeffs(h, x_shifted[i])\n",
    "        M[i][i-1] = A\n",
    "        M[i][i] = -B\n",
    "        M[i][i+1] = C\n",
    "    \n",
    "    # Первый ряд\n",
    "    B, C = coeffs(h, x_shifted[0])[1], coeffs(h, x_shifted[0])[2]\n",
    "    M[0][0] = B\n",
    "    M[0][1] = C\n",
    "    \n",
    "    # Последний ряд\n",
    "    A, B = coeffs(h, x_shifted[n+1])[0], coeffs(h, x_shifted[n+1])[1]\n",
    "    M[n+1][n+1] = B\n",
    "    M[n+1][n] = A\n",
    "    \n",
    "    # Столбец справа\n",
    "    G = f(x_shifted)\n",
    "\n",
    "    # Ответ\n",
    "    Y = np.linalg.solve(M, G)\n",
    "    \n",
    "    return Y, x_shifted"
   ]
  },
  {
   "cell_type": "code",
   "execution_count": 10,
   "metadata": {},
   "outputs": [
    {
     "data": {
      "text/html": [
       "<div>\n",
       "<style scoped>\n",
       "    .dataframe tbody tr th:only-of-type {\n",
       "        vertical-align: middle;\n",
       "    }\n",
       "\n",
       "    .dataframe tbody tr th {\n",
       "        vertical-align: top;\n",
       "    }\n",
       "\n",
       "    .dataframe thead th {\n",
       "        text-align: right;\n",
       "    }\n",
       "</style>\n",
       "<table border=\"1\" class=\"dataframe\">\n",
       "  <thead>\n",
       "    <tr style=\"text-align: right;\">\n",
       "      <th></th>\n",
       "      <th>0</th>\n",
       "      <th>1</th>\n",
       "      <th>2</th>\n",
       "      <th>3</th>\n",
       "      <th>4</th>\n",
       "      <th>5</th>\n",
       "      <th>6</th>\n",
       "      <th>7</th>\n",
       "      <th>8</th>\n",
       "      <th>9</th>\n",
       "      <th>10</th>\n",
       "      <th>11</th>\n",
       "    </tr>\n",
       "  </thead>\n",
       "  <tbody>\n",
       "    <tr>\n",
       "      <th>0</th>\n",
       "      <td>-0.03744</td>\n",
       "      <td>0.05547</td>\n",
       "      <td>0.12825</td>\n",
       "      <td>0.18139</td>\n",
       "      <td>0.21552</td>\n",
       "      <td>0.23125</td>\n",
       "      <td>0.22916</td>\n",
       "      <td>0.20974</td>\n",
       "      <td>0.17341</td>\n",
       "      <td>0.12062</td>\n",
       "      <td>0.05201</td>\n",
       "      <td>-0.03123</td>\n",
       "    </tr>\n",
       "    <tr>\n",
       "      <th>1</th>\n",
       "      <td>-1.10000</td>\n",
       "      <td>-0.90000</td>\n",
       "      <td>-0.70000</td>\n",
       "      <td>-0.50000</td>\n",
       "      <td>-0.30000</td>\n",
       "      <td>-0.10000</td>\n",
       "      <td>0.10000</td>\n",
       "      <td>0.30000</td>\n",
       "      <td>0.50000</td>\n",
       "      <td>0.70000</td>\n",
       "      <td>0.90000</td>\n",
       "      <td>1.10000</td>\n",
       "    </tr>\n",
       "  </tbody>\n",
       "</table>\n",
       "</div>"
      ],
      "text/plain": [
       "         0        1        2        3        4        5        6        7  \\\n",
       "0 -0.03744  0.05547  0.12825  0.18139  0.21552  0.23125  0.22916  0.20974   \n",
       "1 -1.10000 -0.90000 -0.70000 -0.50000 -0.30000 -0.10000  0.10000  0.30000   \n",
       "\n",
       "         8        9       10       11  \n",
       "0  0.17341  0.12062  0.05201 -0.03123  \n",
       "1  0.50000  0.70000  0.90000  1.10000  "
      ]
     },
     "execution_count": 10,
     "metadata": {},
     "output_type": "execute_result"
    }
   ],
   "source": [
    "pd.DataFrame(difference_method(10)).round(5)"
   ]
  },
  {
   "cell_type": "code",
   "execution_count": 11,
   "metadata": {},
   "outputs": [],
   "source": [
    "y, x = difference_method(10)"
   ]
  },
  {
   "cell_type": "code",
   "execution_count": 21,
   "metadata": {},
   "outputs": [],
   "source": [
    "x = np.insert(x, 1, -1)\n",
    "y = np.insert(y, 1, 0)\n",
    "\n",
    "x = np.insert(x, -1, -1)\n",
    "y = np.insert(y, -1, 0)"
   ]
  },
  {
   "cell_type": "code",
   "execution_count": 22,
   "metadata": {},
   "outputs": [],
   "source": [
    "inter = interpolation(x, y)"
   ]
  },
  {
   "cell_type": "code",
   "execution_count": 24,
   "metadata": {},
   "outputs": [
    {
     "data": {
      "text/plain": [
       "array(0.01039284)"
      ]
     },
     "execution_count": 24,
     "metadata": {},
     "output_type": "execute_result"
    }
   ],
   "source": [
    "def test_difference():\n",
    "    \n",
    "    \"\"\"\n",
    "    Тестирование разностного метода\n",
    "    \"\"\""
   ]
  },
  {
   "cell_type": "code",
   "execution_count": 287,
   "metadata": {},
   "outputs": [],
   "source": [
    "z = [1, 2, 3]"
   ]
  },
  {
   "cell_type": "code",
   "execution_count": 288,
   "metadata": {},
   "outputs": [],
   "source": [
    "z.insert(1, 4)"
   ]
  },
  {
   "cell_type": "code",
   "execution_count": 294,
   "metadata": {},
   "outputs": [
    {
     "data": {
      "text/plain": [
       "array([1, 2, 1, 3])"
      ]
     },
     "execution_count": 294,
     "metadata": {},
     "output_type": "execute_result"
    }
   ],
   "source": [
    "np.insert([1, 2, 3], -1, 1)"
   ]
  },
  {
   "cell_type": "code",
   "execution_count": 311,
   "metadata": {},
   "outputs": [],
   "source": [
    "m = np.zeros(4)"
   ]
  },
  {
   "cell_type": "code",
   "execution_count": 318,
   "metadata": {},
   "outputs": [],
   "source": [
    "m[0] = 0.8"
   ]
  },
  {
   "cell_type": "code",
   "execution_count": 319,
   "metadata": {},
   "outputs": [
    {
     "data": {
      "text/plain": [
       "array([0.8, 0. , 0. , 0. ])"
      ]
     },
     "execution_count": 319,
     "metadata": {},
     "output_type": "execute_result"
    }
   ],
   "source": [
    "m"
   ]
  },
  {
   "cell_type": "code",
   "execution_count": null,
   "metadata": {},
   "outputs": [],
   "source": []
  }
 ],
 "metadata": {
  "kernelspec": {
   "display_name": "Python 3",
   "language": "python",
   "name": "python3"
  },
  "language_info": {
   "codemirror_mode": {
    "name": "ipython",
    "version": 3
   },
   "file_extension": ".py",
   "mimetype": "text/x-python",
   "name": "python",
   "nbconvert_exporter": "python",
   "pygments_lexer": "ipython3",
   "version": "3.8.0"
  },
  "toc": {
   "base_numbering": 1,
   "nav_menu": {},
   "number_sections": true,
   "sideBar": true,
   "skip_h1_title": false,
   "title_cell": "Table of Contents",
   "title_sidebar": "Contents",
   "toc_cell": false,
   "toc_position": {},
   "toc_section_display": true,
   "toc_window_display": false
  }
 },
 "nbformat": 4,
 "nbformat_minor": 4
}
